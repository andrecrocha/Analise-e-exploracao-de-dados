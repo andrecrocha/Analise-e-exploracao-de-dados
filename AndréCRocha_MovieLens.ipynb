{
  "nbformat": 4,
  "nbformat_minor": 0,
  "metadata": {
    "colab": {
      "name": "AndréCRocha - MovieLens",
      "provenance": [],
      "collapsed_sections": [],
      "authorship_tag": "ABX9TyNpJxpKPJZmouOko2qtuNDv",
      "include_colab_link": true
    },
    "kernelspec": {
      "name": "python3",
      "display_name": "Python 3"
    }
  },
  "cells": [
    {
      "cell_type": "markdown",
      "metadata": {
        "id": "view-in-github",
        "colab_type": "text"
      },
      "source": [
        "<a href=\"https://colab.research.google.com/github/andrecrocha/Analise-e-exploracao-de-dados/blob/master/Andr%C3%A9CRocha_MovieLens.ipynb\" target=\"_parent\"><img src=\"https://colab.research.google.com/assets/colab-badge.svg\" alt=\"Open In Colab\"/></a>"
      ]
    },
    {
      "cell_type": "markdown",
      "metadata": {
        "id": "Ba-r9FW0do28",
        "colab_type": "text"
      },
      "source": [
        "#__Análise de Dados do MOVIE LENS__\n",
        "Este trabalho foi realizado com base no curso *Quarentena Dados* da [Alura Cursos Online](https://www.alura.com.br/), realizado entre os dias 20/04/20 e\n",
        "24/04/20. \n",
        "\n",
        "O objetivo é mostrar os princípios básicos da análise de dados utilizando a linguagem *Python* e suas principais bibliotecas (*Pandas*, *Seaborn*, entre outras). \n",
        "\n",
        "Os dados foram obtidos do [Grupo Lens]( https://grouplens.org/datasets/movielens/) e tratam de diversos filmes e algumas de suas características. O intuito é explorar esses dados passo a passo: abrir o banco, mostrar suas principais características, plotar gráficos para análises descritivas, fazer análises de relações entre as variáveis. Tudo detalhadamente explicado. \n",
        "\n",
        "\n",
        "\n",
        "\n",
        "\n",
        "\n",
        "\n"
      ]
    },
    {
      "cell_type": "markdown",
      "metadata": {
        "id": "YjQb4zbKxj9q",
        "colab_type": "text"
      },
      "source": [
        "#Parte 1"
      ]
    },
    {
      "cell_type": "markdown",
      "metadata": {
        "id": "5QTRdXI3xmoz",
        "colab_type": "text"
      },
      "source": [
        "## Abrindo o banco de dados e descobrindo suas propriedades\n",
        "O primeiro passo é importar a biblioteca **pandas** do Python. A seguir, abriremos o arquivo CSV com o método `pd.read_csv()`, colocando-o em uma variável, que daremos o nome de **filmes**. A classe da variável criada pelo\n",
        "pandas é **DataFrame**. \n",
        "\n",
        "\n"
      ]
    },
    {
      "cell_type": "code",
      "metadata": {
        "id": "WPH9zQTYQ4Bb",
        "colab_type": "code",
        "outputId": "a34a3638-aa8e-43fe-e2dd-a4a89f187750",
        "colab": {
          "base_uri": "https://localhost:8080/",
          "height": 419
        }
      },
      "source": [
        "import pandas as pd\n",
        "filmes = pd.read_csv('https://raw.githubusercontent.com/alura-cursos/introducao-a-data-science/master/aula0/ml-latest-small/movies.csv')\n",
        "filmes\n",
        "\n"
      ],
      "execution_count": 27,
      "outputs": [
        {
          "output_type": "execute_result",
          "data": {
            "text/html": [
              "<div>\n",
              "<style scoped>\n",
              "    .dataframe tbody tr th:only-of-type {\n",
              "        vertical-align: middle;\n",
              "    }\n",
              "\n",
              "    .dataframe tbody tr th {\n",
              "        vertical-align: top;\n",
              "    }\n",
              "\n",
              "    .dataframe thead th {\n",
              "        text-align: right;\n",
              "    }\n",
              "</style>\n",
              "<table border=\"1\" class=\"dataframe\">\n",
              "  <thead>\n",
              "    <tr style=\"text-align: right;\">\n",
              "      <th></th>\n",
              "      <th>movieId</th>\n",
              "      <th>title</th>\n",
              "      <th>genres</th>\n",
              "    </tr>\n",
              "  </thead>\n",
              "  <tbody>\n",
              "    <tr>\n",
              "      <th>0</th>\n",
              "      <td>1</td>\n",
              "      <td>Toy Story (1995)</td>\n",
              "      <td>Adventure|Animation|Children|Comedy|Fantasy</td>\n",
              "    </tr>\n",
              "    <tr>\n",
              "      <th>1</th>\n",
              "      <td>2</td>\n",
              "      <td>Jumanji (1995)</td>\n",
              "      <td>Adventure|Children|Fantasy</td>\n",
              "    </tr>\n",
              "    <tr>\n",
              "      <th>2</th>\n",
              "      <td>3</td>\n",
              "      <td>Grumpier Old Men (1995)</td>\n",
              "      <td>Comedy|Romance</td>\n",
              "    </tr>\n",
              "    <tr>\n",
              "      <th>3</th>\n",
              "      <td>4</td>\n",
              "      <td>Waiting to Exhale (1995)</td>\n",
              "      <td>Comedy|Drama|Romance</td>\n",
              "    </tr>\n",
              "    <tr>\n",
              "      <th>4</th>\n",
              "      <td>5</td>\n",
              "      <td>Father of the Bride Part II (1995)</td>\n",
              "      <td>Comedy</td>\n",
              "    </tr>\n",
              "    <tr>\n",
              "      <th>...</th>\n",
              "      <td>...</td>\n",
              "      <td>...</td>\n",
              "      <td>...</td>\n",
              "    </tr>\n",
              "    <tr>\n",
              "      <th>9737</th>\n",
              "      <td>193581</td>\n",
              "      <td>Black Butler: Book of the Atlantic (2017)</td>\n",
              "      <td>Action|Animation|Comedy|Fantasy</td>\n",
              "    </tr>\n",
              "    <tr>\n",
              "      <th>9738</th>\n",
              "      <td>193583</td>\n",
              "      <td>No Game No Life: Zero (2017)</td>\n",
              "      <td>Animation|Comedy|Fantasy</td>\n",
              "    </tr>\n",
              "    <tr>\n",
              "      <th>9739</th>\n",
              "      <td>193585</td>\n",
              "      <td>Flint (2017)</td>\n",
              "      <td>Drama</td>\n",
              "    </tr>\n",
              "    <tr>\n",
              "      <th>9740</th>\n",
              "      <td>193587</td>\n",
              "      <td>Bungo Stray Dogs: Dead Apple (2018)</td>\n",
              "      <td>Action|Animation</td>\n",
              "    </tr>\n",
              "    <tr>\n",
              "      <th>9741</th>\n",
              "      <td>193609</td>\n",
              "      <td>Andrew Dice Clay: Dice Rules (1991)</td>\n",
              "      <td>Comedy</td>\n",
              "    </tr>\n",
              "  </tbody>\n",
              "</table>\n",
              "<p>9742 rows × 3 columns</p>\n",
              "</div>"
            ],
            "text/plain": [
              "      movieId  ...                                       genres\n",
              "0           1  ...  Adventure|Animation|Children|Comedy|Fantasy\n",
              "1           2  ...                   Adventure|Children|Fantasy\n",
              "2           3  ...                               Comedy|Romance\n",
              "3           4  ...                         Comedy|Drama|Romance\n",
              "4           5  ...                                       Comedy\n",
              "...       ...  ...                                          ...\n",
              "9737   193581  ...              Action|Animation|Comedy|Fantasy\n",
              "9738   193583  ...                     Animation|Comedy|Fantasy\n",
              "9739   193585  ...                                        Drama\n",
              "9740   193587  ...                             Action|Animation\n",
              "9741   193609  ...                                       Comedy\n",
              "\n",
              "[9742 rows x 3 columns]"
            ]
          },
          "metadata": {
            "tags": []
          },
          "execution_count": 27
        }
      ]
    },
    {
      "cell_type": "markdown",
      "metadata": {
        "id": "KIM_ReFY4IOI",
        "colab_type": "text"
      },
      "source": [
        "Observa-se que o conjunto de dados dos filmes contém:\n",
        "\n",
        "**movieId**: Variável numérica que identifica o filme. A princípio, essa coluna não possui muita utilidade. Entretanto, quando comparada com os outros conjuntos de dados permite a conexão entre as informações destes dados com os demais. Isso será importante futuramente. \n",
        "\n",
        "**title**: Variável de texto com o nome do filme em inglês seguido pelo ano de lançamento em parênteses. Caso o filme seja estrangeiro e possua outro nome na língua original, este nome é colocado, entre parentêses, entre o nome em inglês e o ano de lançamento.\n",
        "\n",
        "**genres**: Variável de texto com uma lista dos gêneros ao qual ele pertence."
      ]
    },
    {
      "cell_type": "markdown",
      "metadata": {
        "id": "9i2m5Os61Bab",
        "colab_type": "text"
      },
      "source": [
        "Podemos ver a forma do DataFrame com o comando `df.shape` (número de linhas e colunas) e as colunas com o comando `df.columns` ou só algumas colunas com o comando `df[\"nome da coluna\"]`.\n",
        "\n",
        "\n"
      ]
    },
    {
      "cell_type": "code",
      "metadata": {
        "id": "k6LENKKC1fBm",
        "colab_type": "code",
        "outputId": "a75f1a86-9148-4995-ba51-e8be8c187764",
        "colab": {
          "base_uri": "https://localhost:8080/",
          "height": 34
        }
      },
      "source": [
        "# Propriedade: 9742 linhas e 3 colunas\n",
        "filmes.shape"
      ],
      "execution_count": 28,
      "outputs": [
        {
          "output_type": "execute_result",
          "data": {
            "text/plain": [
              "(9742, 3)"
            ]
          },
          "metadata": {
            "tags": []
          },
          "execution_count": 28
        }
      ]
    },
    {
      "cell_type": "code",
      "metadata": {
        "id": "9eM5wp1_1v1b",
        "colab_type": "code",
        "outputId": "792fbefc-7be3-493b-a248-7f4928340af3",
        "colab": {
          "base_uri": "https://localhost:8080/",
          "height": 34
        }
      },
      "source": [
        "# Colunas: movieID, title, genres\n",
        "filmes.columns"
      ],
      "execution_count": 29,
      "outputs": [
        {
          "output_type": "execute_result",
          "data": {
            "text/plain": [
              "Index(['movieId', 'title', 'genres'], dtype='object')"
            ]
          },
          "metadata": {
            "tags": []
          },
          "execution_count": 29
        }
      ]
    },
    {
      "cell_type": "code",
      "metadata": {
        "id": "a-6FIcY32NQm",
        "colab_type": "code",
        "outputId": "f831645f-8364-4184-db2f-fc08e93c2d0f",
        "colab": {
          "base_uri": "https://localhost:8080/",
          "height": 221
        }
      },
      "source": [
        "# Mostrando só a coluna \"title\"\n",
        "filmes['title']"
      ],
      "execution_count": 30,
      "outputs": [
        {
          "output_type": "execute_result",
          "data": {
            "text/plain": [
              "0                                Toy Story (1995)\n",
              "1                                  Jumanji (1995)\n",
              "2                         Grumpier Old Men (1995)\n",
              "3                        Waiting to Exhale (1995)\n",
              "4              Father of the Bride Part II (1995)\n",
              "                          ...                    \n",
              "9737    Black Butler: Book of the Atlantic (2017)\n",
              "9738                 No Game No Life: Zero (2017)\n",
              "9739                                 Flint (2017)\n",
              "9740          Bungo Stray Dogs: Dead Apple (2018)\n",
              "9741          Andrew Dice Clay: Dice Rules (1991)\n",
              "Name: title, Length: 9742, dtype: object"
            ]
          },
          "metadata": {
            "tags": []
          },
          "execution_count": 30
        }
      ]
    },
    {
      "cell_type": "markdown",
      "metadata": {
        "id": "PbXeOhkc5DGt",
        "colab_type": "text"
      },
      "source": [
        "Já que os nomes estão em inglês, vamos renomear as colunas. Depois vamos usar o método `head()` para visualizar os cinco primeiros elementos do banco. O método `tail()` retorna os cinco últimos e o `sample()` retorna elementos aleatórios. "
      ]
    },
    {
      "cell_type": "code",
      "metadata": {
        "id": "QV50WfFo5Ma3",
        "colab_type": "code",
        "outputId": "769702b1-2de2-49cc-f6cb-3a164fdf9f5b",
        "colab": {
          "base_uri": "https://localhost:8080/",
          "height": 204
        }
      },
      "source": [
        "filmes.columns = ['filmeID', 'titulo', 'generos']\n",
        "filmes.head()"
      ],
      "execution_count": 31,
      "outputs": [
        {
          "output_type": "execute_result",
          "data": {
            "text/html": [
              "<div>\n",
              "<style scoped>\n",
              "    .dataframe tbody tr th:only-of-type {\n",
              "        vertical-align: middle;\n",
              "    }\n",
              "\n",
              "    .dataframe tbody tr th {\n",
              "        vertical-align: top;\n",
              "    }\n",
              "\n",
              "    .dataframe thead th {\n",
              "        text-align: right;\n",
              "    }\n",
              "</style>\n",
              "<table border=\"1\" class=\"dataframe\">\n",
              "  <thead>\n",
              "    <tr style=\"text-align: right;\">\n",
              "      <th></th>\n",
              "      <th>filmeID</th>\n",
              "      <th>titulo</th>\n",
              "      <th>generos</th>\n",
              "    </tr>\n",
              "  </thead>\n",
              "  <tbody>\n",
              "    <tr>\n",
              "      <th>0</th>\n",
              "      <td>1</td>\n",
              "      <td>Toy Story (1995)</td>\n",
              "      <td>Adventure|Animation|Children|Comedy|Fantasy</td>\n",
              "    </tr>\n",
              "    <tr>\n",
              "      <th>1</th>\n",
              "      <td>2</td>\n",
              "      <td>Jumanji (1995)</td>\n",
              "      <td>Adventure|Children|Fantasy</td>\n",
              "    </tr>\n",
              "    <tr>\n",
              "      <th>2</th>\n",
              "      <td>3</td>\n",
              "      <td>Grumpier Old Men (1995)</td>\n",
              "      <td>Comedy|Romance</td>\n",
              "    </tr>\n",
              "    <tr>\n",
              "      <th>3</th>\n",
              "      <td>4</td>\n",
              "      <td>Waiting to Exhale (1995)</td>\n",
              "      <td>Comedy|Drama|Romance</td>\n",
              "    </tr>\n",
              "    <tr>\n",
              "      <th>4</th>\n",
              "      <td>5</td>\n",
              "      <td>Father of the Bride Part II (1995)</td>\n",
              "      <td>Comedy</td>\n",
              "    </tr>\n",
              "  </tbody>\n",
              "</table>\n",
              "</div>"
            ],
            "text/plain": [
              "   filmeID  ...                                      generos\n",
              "0        1  ...  Adventure|Animation|Children|Comedy|Fantasy\n",
              "1        2  ...                   Adventure|Children|Fantasy\n",
              "2        3  ...                               Comedy|Romance\n",
              "3        4  ...                         Comedy|Drama|Romance\n",
              "4        5  ...                                       Comedy\n",
              "\n",
              "[5 rows x 3 columns]"
            ]
          },
          "metadata": {
            "tags": []
          },
          "execution_count": 31
        }
      ]
    },
    {
      "cell_type": "code",
      "metadata": {
        "id": "Km5oQHYU6OrU",
        "colab_type": "code",
        "outputId": "78933784-fcd1-4568-8f3e-1d42a06ebb18",
        "colab": {
          "base_uri": "https://localhost:8080/",
          "height": 204
        }
      },
      "source": [
        "filmes.tail()"
      ],
      "execution_count": 32,
      "outputs": [
        {
          "output_type": "execute_result",
          "data": {
            "text/html": [
              "<div>\n",
              "<style scoped>\n",
              "    .dataframe tbody tr th:only-of-type {\n",
              "        vertical-align: middle;\n",
              "    }\n",
              "\n",
              "    .dataframe tbody tr th {\n",
              "        vertical-align: top;\n",
              "    }\n",
              "\n",
              "    .dataframe thead th {\n",
              "        text-align: right;\n",
              "    }\n",
              "</style>\n",
              "<table border=\"1\" class=\"dataframe\">\n",
              "  <thead>\n",
              "    <tr style=\"text-align: right;\">\n",
              "      <th></th>\n",
              "      <th>filmeID</th>\n",
              "      <th>titulo</th>\n",
              "      <th>generos</th>\n",
              "    </tr>\n",
              "  </thead>\n",
              "  <tbody>\n",
              "    <tr>\n",
              "      <th>9737</th>\n",
              "      <td>193581</td>\n",
              "      <td>Black Butler: Book of the Atlantic (2017)</td>\n",
              "      <td>Action|Animation|Comedy|Fantasy</td>\n",
              "    </tr>\n",
              "    <tr>\n",
              "      <th>9738</th>\n",
              "      <td>193583</td>\n",
              "      <td>No Game No Life: Zero (2017)</td>\n",
              "      <td>Animation|Comedy|Fantasy</td>\n",
              "    </tr>\n",
              "    <tr>\n",
              "      <th>9739</th>\n",
              "      <td>193585</td>\n",
              "      <td>Flint (2017)</td>\n",
              "      <td>Drama</td>\n",
              "    </tr>\n",
              "    <tr>\n",
              "      <th>9740</th>\n",
              "      <td>193587</td>\n",
              "      <td>Bungo Stray Dogs: Dead Apple (2018)</td>\n",
              "      <td>Action|Animation</td>\n",
              "    </tr>\n",
              "    <tr>\n",
              "      <th>9741</th>\n",
              "      <td>193609</td>\n",
              "      <td>Andrew Dice Clay: Dice Rules (1991)</td>\n",
              "      <td>Comedy</td>\n",
              "    </tr>\n",
              "  </tbody>\n",
              "</table>\n",
              "</div>"
            ],
            "text/plain": [
              "      filmeID  ...                          generos\n",
              "9737   193581  ...  Action|Animation|Comedy|Fantasy\n",
              "9738   193583  ...         Animation|Comedy|Fantasy\n",
              "9739   193585  ...                            Drama\n",
              "9740   193587  ...                 Action|Animation\n",
              "9741   193609  ...                           Comedy\n",
              "\n",
              "[5 rows x 3 columns]"
            ]
          },
          "metadata": {
            "tags": []
          },
          "execution_count": 32
        }
      ]
    },
    {
      "cell_type": "code",
      "metadata": {
        "id": "OxQgMZQv6UqY",
        "colab_type": "code",
        "outputId": "84040fc9-13dc-4071-cbeb-4b9cdbbb2a1a",
        "colab": {
          "base_uri": "https://localhost:8080/",
          "height": 359
        }
      },
      "source": [
        "# Retornando 10 elementos aleatórios \n",
        "filmes.sample(10)"
      ],
      "execution_count": 33,
      "outputs": [
        {
          "output_type": "execute_result",
          "data": {
            "text/html": [
              "<div>\n",
              "<style scoped>\n",
              "    .dataframe tbody tr th:only-of-type {\n",
              "        vertical-align: middle;\n",
              "    }\n",
              "\n",
              "    .dataframe tbody tr th {\n",
              "        vertical-align: top;\n",
              "    }\n",
              "\n",
              "    .dataframe thead th {\n",
              "        text-align: right;\n",
              "    }\n",
              "</style>\n",
              "<table border=\"1\" class=\"dataframe\">\n",
              "  <thead>\n",
              "    <tr style=\"text-align: right;\">\n",
              "      <th></th>\n",
              "      <th>filmeID</th>\n",
              "      <th>titulo</th>\n",
              "      <th>generos</th>\n",
              "    </tr>\n",
              "  </thead>\n",
              "  <tbody>\n",
              "    <tr>\n",
              "      <th>6853</th>\n",
              "      <td>62113</td>\n",
              "      <td>How to Lose Friends &amp; Alienate People (2008)</td>\n",
              "      <td>Comedy</td>\n",
              "    </tr>\n",
              "    <tr>\n",
              "      <th>7215</th>\n",
              "      <td>73023</td>\n",
              "      <td>Crazy Heart (2009)</td>\n",
              "      <td>Drama|Romance</td>\n",
              "    </tr>\n",
              "    <tr>\n",
              "      <th>3912</th>\n",
              "      <td>5499</td>\n",
              "      <td>Robin and Marian (1976)</td>\n",
              "      <td>Adventure|Drama|Romance</td>\n",
              "    </tr>\n",
              "    <tr>\n",
              "      <th>7914</th>\n",
              "      <td>95218</td>\n",
              "      <td>First Position (2011)</td>\n",
              "      <td>Documentary</td>\n",
              "    </tr>\n",
              "    <tr>\n",
              "      <th>5335</th>\n",
              "      <td>8874</td>\n",
              "      <td>Shaun of the Dead (2004)</td>\n",
              "      <td>Comedy|Horror</td>\n",
              "    </tr>\n",
              "    <tr>\n",
              "      <th>4711</th>\n",
              "      <td>7028</td>\n",
              "      <td>Quick Change (1990)</td>\n",
              "      <td>Comedy|Crime</td>\n",
              "    </tr>\n",
              "    <tr>\n",
              "      <th>5405</th>\n",
              "      <td>25757</td>\n",
              "      <td>Jazz Singer, The (1927)</td>\n",
              "      <td>Drama|Musical|Romance</td>\n",
              "    </tr>\n",
              "    <tr>\n",
              "      <th>5102</th>\n",
              "      <td>8117</td>\n",
              "      <td>In China They Eat Dogs (I Kina spiser de hunde...</td>\n",
              "      <td>Action|Comedy</td>\n",
              "    </tr>\n",
              "    <tr>\n",
              "      <th>7263</th>\n",
              "      <td>74545</td>\n",
              "      <td>Ghost Writer, The (2010)</td>\n",
              "      <td>Drama|Mystery|Thriller</td>\n",
              "    </tr>\n",
              "    <tr>\n",
              "      <th>2077</th>\n",
              "      <td>2761</td>\n",
              "      <td>Iron Giant, The (1999)</td>\n",
              "      <td>Adventure|Animation|Children|Drama|Sci-Fi</td>\n",
              "    </tr>\n",
              "  </tbody>\n",
              "</table>\n",
              "</div>"
            ],
            "text/plain": [
              "      filmeID  ...                                    generos\n",
              "6853    62113  ...                                     Comedy\n",
              "7215    73023  ...                              Drama|Romance\n",
              "3912     5499  ...                    Adventure|Drama|Romance\n",
              "7914    95218  ...                                Documentary\n",
              "5335     8874  ...                              Comedy|Horror\n",
              "4711     7028  ...                               Comedy|Crime\n",
              "5405    25757  ...                      Drama|Musical|Romance\n",
              "5102     8117  ...                              Action|Comedy\n",
              "7263    74545  ...                     Drama|Mystery|Thriller\n",
              "2077     2761  ...  Adventure|Animation|Children|Drama|Sci-Fi\n",
              "\n",
              "[10 rows x 3 columns]"
            ]
          },
          "metadata": {
            "tags": []
          },
          "execution_count": 33
        }
      ]
    },
    {
      "cell_type": "markdown",
      "metadata": {
        "id": "QZWuDbk16u4V",
        "colab_type": "text"
      },
      "source": [
        "Agora vamos abrir outro banco de dados com as avaliações dadas pelos usuários aos filmes. Vamos atribuir a esse DataFrame a variável **notas**. "
      ]
    },
    {
      "cell_type": "code",
      "metadata": {
        "id": "cqXW0k2lg2Yh",
        "colab_type": "code",
        "outputId": "6a101eae-da13-4047-ce97-854ce589948c",
        "colab": {
          "base_uri": "https://localhost:8080/",
          "height": 419
        }
      },
      "source": [
        "notas = pd.read_csv('https://raw.githubusercontent.com/alura-cursos/introducao-a-data-science/master/aula0/ml-latest-small/ratings.csv')\n",
        "notas"
      ],
      "execution_count": 34,
      "outputs": [
        {
          "output_type": "execute_result",
          "data": {
            "text/html": [
              "<div>\n",
              "<style scoped>\n",
              "    .dataframe tbody tr th:only-of-type {\n",
              "        vertical-align: middle;\n",
              "    }\n",
              "\n",
              "    .dataframe tbody tr th {\n",
              "        vertical-align: top;\n",
              "    }\n",
              "\n",
              "    .dataframe thead th {\n",
              "        text-align: right;\n",
              "    }\n",
              "</style>\n",
              "<table border=\"1\" class=\"dataframe\">\n",
              "  <thead>\n",
              "    <tr style=\"text-align: right;\">\n",
              "      <th></th>\n",
              "      <th>userId</th>\n",
              "      <th>movieId</th>\n",
              "      <th>rating</th>\n",
              "      <th>timestamp</th>\n",
              "    </tr>\n",
              "  </thead>\n",
              "  <tbody>\n",
              "    <tr>\n",
              "      <th>0</th>\n",
              "      <td>1</td>\n",
              "      <td>1</td>\n",
              "      <td>4.0</td>\n",
              "      <td>964982703</td>\n",
              "    </tr>\n",
              "    <tr>\n",
              "      <th>1</th>\n",
              "      <td>1</td>\n",
              "      <td>3</td>\n",
              "      <td>4.0</td>\n",
              "      <td>964981247</td>\n",
              "    </tr>\n",
              "    <tr>\n",
              "      <th>2</th>\n",
              "      <td>1</td>\n",
              "      <td>6</td>\n",
              "      <td>4.0</td>\n",
              "      <td>964982224</td>\n",
              "    </tr>\n",
              "    <tr>\n",
              "      <th>3</th>\n",
              "      <td>1</td>\n",
              "      <td>47</td>\n",
              "      <td>5.0</td>\n",
              "      <td>964983815</td>\n",
              "    </tr>\n",
              "    <tr>\n",
              "      <th>4</th>\n",
              "      <td>1</td>\n",
              "      <td>50</td>\n",
              "      <td>5.0</td>\n",
              "      <td>964982931</td>\n",
              "    </tr>\n",
              "    <tr>\n",
              "      <th>...</th>\n",
              "      <td>...</td>\n",
              "      <td>...</td>\n",
              "      <td>...</td>\n",
              "      <td>...</td>\n",
              "    </tr>\n",
              "    <tr>\n",
              "      <th>100831</th>\n",
              "      <td>610</td>\n",
              "      <td>166534</td>\n",
              "      <td>4.0</td>\n",
              "      <td>1493848402</td>\n",
              "    </tr>\n",
              "    <tr>\n",
              "      <th>100832</th>\n",
              "      <td>610</td>\n",
              "      <td>168248</td>\n",
              "      <td>5.0</td>\n",
              "      <td>1493850091</td>\n",
              "    </tr>\n",
              "    <tr>\n",
              "      <th>100833</th>\n",
              "      <td>610</td>\n",
              "      <td>168250</td>\n",
              "      <td>5.0</td>\n",
              "      <td>1494273047</td>\n",
              "    </tr>\n",
              "    <tr>\n",
              "      <th>100834</th>\n",
              "      <td>610</td>\n",
              "      <td>168252</td>\n",
              "      <td>5.0</td>\n",
              "      <td>1493846352</td>\n",
              "    </tr>\n",
              "    <tr>\n",
              "      <th>100835</th>\n",
              "      <td>610</td>\n",
              "      <td>170875</td>\n",
              "      <td>3.0</td>\n",
              "      <td>1493846415</td>\n",
              "    </tr>\n",
              "  </tbody>\n",
              "</table>\n",
              "<p>100836 rows × 4 columns</p>\n",
              "</div>"
            ],
            "text/plain": [
              "        userId  movieId  rating   timestamp\n",
              "0            1        1     4.0   964982703\n",
              "1            1        3     4.0   964981247\n",
              "2            1        6     4.0   964982224\n",
              "3            1       47     5.0   964983815\n",
              "4            1       50     5.0   964982931\n",
              "...        ...      ...     ...         ...\n",
              "100831     610   166534     4.0  1493848402\n",
              "100832     610   168248     5.0  1493850091\n",
              "100833     610   168250     5.0  1494273047\n",
              "100834     610   168252     5.0  1493846352\n",
              "100835     610   170875     3.0  1493846415\n",
              "\n",
              "[100836 rows x 4 columns]"
            ]
          },
          "metadata": {
            "tags": []
          },
          "execution_count": 34
        }
      ]
    },
    {
      "cell_type": "code",
      "metadata": {
        "id": "VPv4_uCSg2if",
        "colab_type": "code",
        "outputId": "80682328-7220-4c56-9723-af5870fb6f42",
        "colab": {
          "base_uri": "https://localhost:8080/",
          "height": 359
        }
      },
      "source": [
        "#Mostrando os dez primeiros filmes avaliados com o método head(), parâmetro 10\n",
        "notas.head(10)\n"
      ],
      "execution_count": 35,
      "outputs": [
        {
          "output_type": "execute_result",
          "data": {
            "text/html": [
              "<div>\n",
              "<style scoped>\n",
              "    .dataframe tbody tr th:only-of-type {\n",
              "        vertical-align: middle;\n",
              "    }\n",
              "\n",
              "    .dataframe tbody tr th {\n",
              "        vertical-align: top;\n",
              "    }\n",
              "\n",
              "    .dataframe thead th {\n",
              "        text-align: right;\n",
              "    }\n",
              "</style>\n",
              "<table border=\"1\" class=\"dataframe\">\n",
              "  <thead>\n",
              "    <tr style=\"text-align: right;\">\n",
              "      <th></th>\n",
              "      <th>userId</th>\n",
              "      <th>movieId</th>\n",
              "      <th>rating</th>\n",
              "      <th>timestamp</th>\n",
              "    </tr>\n",
              "  </thead>\n",
              "  <tbody>\n",
              "    <tr>\n",
              "      <th>0</th>\n",
              "      <td>1</td>\n",
              "      <td>1</td>\n",
              "      <td>4.0</td>\n",
              "      <td>964982703</td>\n",
              "    </tr>\n",
              "    <tr>\n",
              "      <th>1</th>\n",
              "      <td>1</td>\n",
              "      <td>3</td>\n",
              "      <td>4.0</td>\n",
              "      <td>964981247</td>\n",
              "    </tr>\n",
              "    <tr>\n",
              "      <th>2</th>\n",
              "      <td>1</td>\n",
              "      <td>6</td>\n",
              "      <td>4.0</td>\n",
              "      <td>964982224</td>\n",
              "    </tr>\n",
              "    <tr>\n",
              "      <th>3</th>\n",
              "      <td>1</td>\n",
              "      <td>47</td>\n",
              "      <td>5.0</td>\n",
              "      <td>964983815</td>\n",
              "    </tr>\n",
              "    <tr>\n",
              "      <th>4</th>\n",
              "      <td>1</td>\n",
              "      <td>50</td>\n",
              "      <td>5.0</td>\n",
              "      <td>964982931</td>\n",
              "    </tr>\n",
              "    <tr>\n",
              "      <th>5</th>\n",
              "      <td>1</td>\n",
              "      <td>70</td>\n",
              "      <td>3.0</td>\n",
              "      <td>964982400</td>\n",
              "    </tr>\n",
              "    <tr>\n",
              "      <th>6</th>\n",
              "      <td>1</td>\n",
              "      <td>101</td>\n",
              "      <td>5.0</td>\n",
              "      <td>964980868</td>\n",
              "    </tr>\n",
              "    <tr>\n",
              "      <th>7</th>\n",
              "      <td>1</td>\n",
              "      <td>110</td>\n",
              "      <td>4.0</td>\n",
              "      <td>964982176</td>\n",
              "    </tr>\n",
              "    <tr>\n",
              "      <th>8</th>\n",
              "      <td>1</td>\n",
              "      <td>151</td>\n",
              "      <td>5.0</td>\n",
              "      <td>964984041</td>\n",
              "    </tr>\n",
              "    <tr>\n",
              "      <th>9</th>\n",
              "      <td>1</td>\n",
              "      <td>157</td>\n",
              "      <td>5.0</td>\n",
              "      <td>964984100</td>\n",
              "    </tr>\n",
              "  </tbody>\n",
              "</table>\n",
              "</div>"
            ],
            "text/plain": [
              "   userId  movieId  rating  timestamp\n",
              "0       1        1     4.0  964982703\n",
              "1       1        3     4.0  964981247\n",
              "2       1        6     4.0  964982224\n",
              "3       1       47     5.0  964983815\n",
              "4       1       50     5.0  964982931\n",
              "5       1       70     3.0  964982400\n",
              "6       1      101     5.0  964980868\n",
              "7       1      110     4.0  964982176\n",
              "8       1      151     5.0  964984041\n",
              "9       1      157     5.0  964984100"
            ]
          },
          "metadata": {
            "tags": []
          },
          "execution_count": 35
        }
      ]
    },
    {
      "cell_type": "markdown",
      "metadata": {
        "id": "jdzo39pr7_YT",
        "colab_type": "text"
      },
      "source": [
        "Usando o método `df.describe()` podemos ver vários indicadores dos valores que cada variável do banco contém: número de ocorrências, média aritmética, desvio padrão, valor mínimo, percentis, e valor máximo. O método `df.column.variável` retorna os valores únicos, não repetidos, de uma variável. Isso é especialmente importante para conhecermos melhor as características de nossos dados. "
      ]
    },
    {
      "cell_type": "code",
      "metadata": {
        "id": "rHOux_oe8Ods",
        "colab_type": "code",
        "outputId": "cacc4141-d25f-495a-f2ef-a12057ad04d1",
        "colab": {
          "base_uri": "https://localhost:8080/",
          "height": 297
        }
      },
      "source": [
        "notas.describe()"
      ],
      "execution_count": 36,
      "outputs": [
        {
          "output_type": "execute_result",
          "data": {
            "text/html": [
              "<div>\n",
              "<style scoped>\n",
              "    .dataframe tbody tr th:only-of-type {\n",
              "        vertical-align: middle;\n",
              "    }\n",
              "\n",
              "    .dataframe tbody tr th {\n",
              "        vertical-align: top;\n",
              "    }\n",
              "\n",
              "    .dataframe thead th {\n",
              "        text-align: right;\n",
              "    }\n",
              "</style>\n",
              "<table border=\"1\" class=\"dataframe\">\n",
              "  <thead>\n",
              "    <tr style=\"text-align: right;\">\n",
              "      <th></th>\n",
              "      <th>userId</th>\n",
              "      <th>movieId</th>\n",
              "      <th>rating</th>\n",
              "      <th>timestamp</th>\n",
              "    </tr>\n",
              "  </thead>\n",
              "  <tbody>\n",
              "    <tr>\n",
              "      <th>count</th>\n",
              "      <td>100836.000000</td>\n",
              "      <td>100836.000000</td>\n",
              "      <td>100836.000000</td>\n",
              "      <td>1.008360e+05</td>\n",
              "    </tr>\n",
              "    <tr>\n",
              "      <th>mean</th>\n",
              "      <td>326.127564</td>\n",
              "      <td>19435.295718</td>\n",
              "      <td>3.501557</td>\n",
              "      <td>1.205946e+09</td>\n",
              "    </tr>\n",
              "    <tr>\n",
              "      <th>std</th>\n",
              "      <td>182.618491</td>\n",
              "      <td>35530.987199</td>\n",
              "      <td>1.042529</td>\n",
              "      <td>2.162610e+08</td>\n",
              "    </tr>\n",
              "    <tr>\n",
              "      <th>min</th>\n",
              "      <td>1.000000</td>\n",
              "      <td>1.000000</td>\n",
              "      <td>0.500000</td>\n",
              "      <td>8.281246e+08</td>\n",
              "    </tr>\n",
              "    <tr>\n",
              "      <th>25%</th>\n",
              "      <td>177.000000</td>\n",
              "      <td>1199.000000</td>\n",
              "      <td>3.000000</td>\n",
              "      <td>1.019124e+09</td>\n",
              "    </tr>\n",
              "    <tr>\n",
              "      <th>50%</th>\n",
              "      <td>325.000000</td>\n",
              "      <td>2991.000000</td>\n",
              "      <td>3.500000</td>\n",
              "      <td>1.186087e+09</td>\n",
              "    </tr>\n",
              "    <tr>\n",
              "      <th>75%</th>\n",
              "      <td>477.000000</td>\n",
              "      <td>8122.000000</td>\n",
              "      <td>4.000000</td>\n",
              "      <td>1.435994e+09</td>\n",
              "    </tr>\n",
              "    <tr>\n",
              "      <th>max</th>\n",
              "      <td>610.000000</td>\n",
              "      <td>193609.000000</td>\n",
              "      <td>5.000000</td>\n",
              "      <td>1.537799e+09</td>\n",
              "    </tr>\n",
              "  </tbody>\n",
              "</table>\n",
              "</div>"
            ],
            "text/plain": [
              "              userId        movieId         rating     timestamp\n",
              "count  100836.000000  100836.000000  100836.000000  1.008360e+05\n",
              "mean      326.127564   19435.295718       3.501557  1.205946e+09\n",
              "std       182.618491   35530.987199       1.042529  2.162610e+08\n",
              "min         1.000000       1.000000       0.500000  8.281246e+08\n",
              "25%       177.000000    1199.000000       3.000000  1.019124e+09\n",
              "50%       325.000000    2991.000000       3.500000  1.186087e+09\n",
              "75%       477.000000    8122.000000       4.000000  1.435994e+09\n",
              "max       610.000000  193609.000000       5.000000  1.537799e+09"
            ]
          },
          "metadata": {
            "tags": []
          },
          "execution_count": 36
        }
      ]
    },
    {
      "cell_type": "code",
      "metadata": {
        "id": "HOlmORBM8rIj",
        "colab_type": "code",
        "outputId": "4be4b0a2-5de8-4412-bd53-d1c8d54d8a25",
        "colab": {
          "base_uri": "https://localhost:8080/",
          "height": 34
        }
      },
      "source": [
        "# Vemos aqui que as notas vão de 0.5 a 5.0, em intervalos de 0.5 \n",
        "notas['rating'].unique()"
      ],
      "execution_count": 37,
      "outputs": [
        {
          "output_type": "execute_result",
          "data": {
            "text/plain": [
              "array([4. , 5. , 3. , 2. , 1. , 4.5, 3.5, 2.5, 0.5, 1.5])"
            ]
          },
          "metadata": {
            "tags": []
          },
          "execution_count": 37
        }
      ]
    },
    {
      "cell_type": "markdown",
      "metadata": {
        "id": "xBD34VpQ7Up3",
        "colab_type": "text"
      },
      "source": [
        "Observa-se que o conjuto de dados das notas contém:\n",
        "\n",
        "**userId:** Variável numérica que identifica o Id do usuário que postou sua nota para o filme. Dados com o mesmo valor representam avaliações de filmes diferentes feitas pelo mesmo usuário do MovieLens.\n",
        "\n",
        "**movieId:** Variável numérica que identifica o filme. Ao contrário do primeiro conjunto de dados, neste aqui a variável possui uma significância maior. Quando temos um repetição do movieId em dados diferentes, isso indica que dois ou mais usuários do MovieLens deram suas notas para um mesmo filme.\n",
        "\n",
        "**rating:** Variável numérica com a nota do usuário para o filme indicado. Os valores variam de 0.5 a 5.0 em intervalos de 0.5 em 0.5 ponto.\n",
        "\n",
        "**timestamp:** Variável numérica que indica o momento em quem esse dado foi inserido no conjunto de dados. Para nossos propósitos aqui, essa variável não terá muita importância. "
      ]
    },
    {
      "cell_type": "code",
      "metadata": {
        "id": "c65JRRr9YOY1",
        "colab_type": "code",
        "outputId": "a5aee5db-e7a0-4187-f892-7f2632e55d8c",
        "colab": {
          "base_uri": "https://localhost:8080/",
          "height": 359
        }
      },
      "source": [
        "# Agora vamos sobrescrever o nome das colunas, traduzindo-as para o português. \n",
        "notas.columns = (\"usuárioID\", \"filmeID\", \"avaliação\", \"momento\")\n",
        "notas.head(10)\n"
      ],
      "execution_count": 38,
      "outputs": [
        {
          "output_type": "execute_result",
          "data": {
            "text/html": [
              "<div>\n",
              "<style scoped>\n",
              "    .dataframe tbody tr th:only-of-type {\n",
              "        vertical-align: middle;\n",
              "    }\n",
              "\n",
              "    .dataframe tbody tr th {\n",
              "        vertical-align: top;\n",
              "    }\n",
              "\n",
              "    .dataframe thead th {\n",
              "        text-align: right;\n",
              "    }\n",
              "</style>\n",
              "<table border=\"1\" class=\"dataframe\">\n",
              "  <thead>\n",
              "    <tr style=\"text-align: right;\">\n",
              "      <th></th>\n",
              "      <th>usuárioID</th>\n",
              "      <th>filmeID</th>\n",
              "      <th>avaliação</th>\n",
              "      <th>momento</th>\n",
              "    </tr>\n",
              "  </thead>\n",
              "  <tbody>\n",
              "    <tr>\n",
              "      <th>0</th>\n",
              "      <td>1</td>\n",
              "      <td>1</td>\n",
              "      <td>4.0</td>\n",
              "      <td>964982703</td>\n",
              "    </tr>\n",
              "    <tr>\n",
              "      <th>1</th>\n",
              "      <td>1</td>\n",
              "      <td>3</td>\n",
              "      <td>4.0</td>\n",
              "      <td>964981247</td>\n",
              "    </tr>\n",
              "    <tr>\n",
              "      <th>2</th>\n",
              "      <td>1</td>\n",
              "      <td>6</td>\n",
              "      <td>4.0</td>\n",
              "      <td>964982224</td>\n",
              "    </tr>\n",
              "    <tr>\n",
              "      <th>3</th>\n",
              "      <td>1</td>\n",
              "      <td>47</td>\n",
              "      <td>5.0</td>\n",
              "      <td>964983815</td>\n",
              "    </tr>\n",
              "    <tr>\n",
              "      <th>4</th>\n",
              "      <td>1</td>\n",
              "      <td>50</td>\n",
              "      <td>5.0</td>\n",
              "      <td>964982931</td>\n",
              "    </tr>\n",
              "    <tr>\n",
              "      <th>5</th>\n",
              "      <td>1</td>\n",
              "      <td>70</td>\n",
              "      <td>3.0</td>\n",
              "      <td>964982400</td>\n",
              "    </tr>\n",
              "    <tr>\n",
              "      <th>6</th>\n",
              "      <td>1</td>\n",
              "      <td>101</td>\n",
              "      <td>5.0</td>\n",
              "      <td>964980868</td>\n",
              "    </tr>\n",
              "    <tr>\n",
              "      <th>7</th>\n",
              "      <td>1</td>\n",
              "      <td>110</td>\n",
              "      <td>4.0</td>\n",
              "      <td>964982176</td>\n",
              "    </tr>\n",
              "    <tr>\n",
              "      <th>8</th>\n",
              "      <td>1</td>\n",
              "      <td>151</td>\n",
              "      <td>5.0</td>\n",
              "      <td>964984041</td>\n",
              "    </tr>\n",
              "    <tr>\n",
              "      <th>9</th>\n",
              "      <td>1</td>\n",
              "      <td>157</td>\n",
              "      <td>5.0</td>\n",
              "      <td>964984100</td>\n",
              "    </tr>\n",
              "  </tbody>\n",
              "</table>\n",
              "</div>"
            ],
            "text/plain": [
              "   usuárioID  filmeID  avaliação    momento\n",
              "0          1        1        4.0  964982703\n",
              "1          1        3        4.0  964981247\n",
              "2          1        6        4.0  964982224\n",
              "3          1       47        5.0  964983815\n",
              "4          1       50        5.0  964982931\n",
              "5          1       70        3.0  964982400\n",
              "6          1      101        5.0  964980868\n",
              "7          1      110        4.0  964982176\n",
              "8          1      151        5.0  964984041\n",
              "9          1      157        5.0  964984100"
            ]
          },
          "metadata": {
            "tags": []
          },
          "execution_count": 38
        }
      ]
    },
    {
      "cell_type": "markdown",
      "metadata": {
        "id": "vHI4C6xE_Wr1",
        "colab_type": "text"
      },
      "source": [
        "Como separamos as informações? Como descobrir, por exemplo, apenas as avaliações do filme cujo ID é 1? \n",
        "\n",
        "Para isso, chamamos o método `notas.query(\"filmeId==1\")`. Esse método retornará apenas as linhas para quais a expressão booleana, \"filmeId==1\", for verdadeira.\n"
      ]
    },
    {
      "cell_type": "code",
      "metadata": {
        "id": "TRJkfafMhS0S",
        "colab_type": "code",
        "outputId": "841e51aa-e2a7-4543-c5a5-45896bab3049",
        "colab": {
          "base_uri": "https://localhost:8080/",
          "height": 419
        }
      },
      "source": [
        "#Buscar as avaliações do FilmeID 1. Toy Story 1995. O método query(), retornará\n",
        "#apenas as linhas para as quais a expressão booleana (\"filmeID==1\") for verdadeira. \n",
        "notas.query(\"filmeID==1\")"
      ],
      "execution_count": 39,
      "outputs": [
        {
          "output_type": "execute_result",
          "data": {
            "text/html": [
              "<div>\n",
              "<style scoped>\n",
              "    .dataframe tbody tr th:only-of-type {\n",
              "        vertical-align: middle;\n",
              "    }\n",
              "\n",
              "    .dataframe tbody tr th {\n",
              "        vertical-align: top;\n",
              "    }\n",
              "\n",
              "    .dataframe thead th {\n",
              "        text-align: right;\n",
              "    }\n",
              "</style>\n",
              "<table border=\"1\" class=\"dataframe\">\n",
              "  <thead>\n",
              "    <tr style=\"text-align: right;\">\n",
              "      <th></th>\n",
              "      <th>usuárioID</th>\n",
              "      <th>filmeID</th>\n",
              "      <th>avaliação</th>\n",
              "      <th>momento</th>\n",
              "    </tr>\n",
              "  </thead>\n",
              "  <tbody>\n",
              "    <tr>\n",
              "      <th>0</th>\n",
              "      <td>1</td>\n",
              "      <td>1</td>\n",
              "      <td>4.0</td>\n",
              "      <td>964982703</td>\n",
              "    </tr>\n",
              "    <tr>\n",
              "      <th>516</th>\n",
              "      <td>5</td>\n",
              "      <td>1</td>\n",
              "      <td>4.0</td>\n",
              "      <td>847434962</td>\n",
              "    </tr>\n",
              "    <tr>\n",
              "      <th>874</th>\n",
              "      <td>7</td>\n",
              "      <td>1</td>\n",
              "      <td>4.5</td>\n",
              "      <td>1106635946</td>\n",
              "    </tr>\n",
              "    <tr>\n",
              "      <th>1434</th>\n",
              "      <td>15</td>\n",
              "      <td>1</td>\n",
              "      <td>2.5</td>\n",
              "      <td>1510577970</td>\n",
              "    </tr>\n",
              "    <tr>\n",
              "      <th>1667</th>\n",
              "      <td>17</td>\n",
              "      <td>1</td>\n",
              "      <td>4.5</td>\n",
              "      <td>1305696483</td>\n",
              "    </tr>\n",
              "    <tr>\n",
              "      <th>...</th>\n",
              "      <td>...</td>\n",
              "      <td>...</td>\n",
              "      <td>...</td>\n",
              "      <td>...</td>\n",
              "    </tr>\n",
              "    <tr>\n",
              "      <th>97364</th>\n",
              "      <td>606</td>\n",
              "      <td>1</td>\n",
              "      <td>2.5</td>\n",
              "      <td>1349082950</td>\n",
              "    </tr>\n",
              "    <tr>\n",
              "      <th>98479</th>\n",
              "      <td>607</td>\n",
              "      <td>1</td>\n",
              "      <td>4.0</td>\n",
              "      <td>964744033</td>\n",
              "    </tr>\n",
              "    <tr>\n",
              "      <th>98666</th>\n",
              "      <td>608</td>\n",
              "      <td>1</td>\n",
              "      <td>2.5</td>\n",
              "      <td>1117408267</td>\n",
              "    </tr>\n",
              "    <tr>\n",
              "      <th>99497</th>\n",
              "      <td>609</td>\n",
              "      <td>1</td>\n",
              "      <td>3.0</td>\n",
              "      <td>847221025</td>\n",
              "    </tr>\n",
              "    <tr>\n",
              "      <th>99534</th>\n",
              "      <td>610</td>\n",
              "      <td>1</td>\n",
              "      <td>5.0</td>\n",
              "      <td>1479542900</td>\n",
              "    </tr>\n",
              "  </tbody>\n",
              "</table>\n",
              "<p>215 rows × 4 columns</p>\n",
              "</div>"
            ],
            "text/plain": [
              "       usuárioID  filmeID  avaliação     momento\n",
              "0              1        1        4.0   964982703\n",
              "516            5        1        4.0   847434962\n",
              "874            7        1        4.5  1106635946\n",
              "1434          15        1        2.5  1510577970\n",
              "1667          17        1        4.5  1305696483\n",
              "...          ...      ...        ...         ...\n",
              "97364        606        1        2.5  1349082950\n",
              "98479        607        1        4.0   964744033\n",
              "98666        608        1        2.5  1117408267\n",
              "99497        609        1        3.0   847221025\n",
              "99534        610        1        5.0  1479542900\n",
              "\n",
              "[215 rows x 4 columns]"
            ]
          },
          "metadata": {
            "tags": []
          },
          "execution_count": 39
        }
      ]
    },
    {
      "cell_type": "markdown",
      "metadata": {
        "id": "St7hZChPAXhd",
        "colab_type": "text"
      },
      "source": [
        "Tendo as informações do filmeId 1 podemos colocá-las na variável **avaliacoes_do_filme_1**.Depois podemos usar o método `describe()`, para analisar as estatísticas gerais dos dados. "
      ]
    },
    {
      "cell_type": "code",
      "metadata": {
        "id": "d7E9RdFXh3J1",
        "colab_type": "code",
        "outputId": "cffce504-9c76-444a-edc7-58d86d9e4fa0",
        "colab": {
          "base_uri": "https://localhost:8080/",
          "height": 170
        }
      },
      "source": [
        "#Descrevendo os dados só da coluna que nos interessa, no caso a avaliação\n",
        "avaliações_filme1 = notas.query(\"filmeID==1\")['avaliação']\n",
        "avaliações_filme1.describe()"
      ],
      "execution_count": 40,
      "outputs": [
        {
          "output_type": "execute_result",
          "data": {
            "text/plain": [
              "count    215.000000\n",
              "mean       3.920930\n",
              "std        0.834859\n",
              "min        0.500000\n",
              "25%        3.500000\n",
              "50%        4.000000\n",
              "75%        4.500000\n",
              "max        5.000000\n",
              "Name: avaliação, dtype: float64"
            ]
          },
          "metadata": {
            "tags": []
          },
          "execution_count": 40
        }
      ]
    },
    {
      "cell_type": "markdown",
      "metadata": {
        "id": "Puk4qCH9Bg6G",
        "colab_type": "text"
      },
      "source": [
        "A nota média deste filme é de aproximadamente **3,92**. Entretanto, é importante ressaltar que apenas a nota média não é dado suficiente pra definirmos a opinião completa sobre um filme. Para se ter uma maior confiabilidade no resultado, é importante garantir que a amostra traga uma número considerável de dados, além de se analisar a distribuição e a frequência de cada valor. Isso para evitar resultados tendenciosos por valores que divergem muito (muitas notas 0.5 e muitas notas 5.0) ou a baixa quantidade de avaliações (uma média resultante de apenas uma avaliação)."
      ]
    },
    {
      "cell_type": "markdown",
      "metadata": {
        "id": "ltQsmPIUCkqM",
        "colab_type": "text"
      },
      "source": [
        "## Gerando um DataFrame mais completo\n",
        "Estamos trabalhando com dois DataFrame separados. Como eles têm uma variável em comum que os conecta, a variável **movieId**, podemos fazer isso a partir dela. Isso produzirá um DataFrame mais completo, que nos ajudará a trabalhar os dados de uma melhor maneira. Usaremos o método `groupby()` para agrupar no DF notas todas as notas pelo ID dos filmes. E depois usaremos o `join()` para \n",
        "fazer o novo DataFrame. "
      ]
    },
    {
      "cell_type": "code",
      "metadata": {
        "id": "-JGPlH-wj3ZN",
        "colab_type": "code",
        "outputId": "427a0c06-9064-4528-b08e-b203e299708d",
        "colab": {
          "base_uri": "https://localhost:8080/",
          "height": 238
        }
      },
      "source": [
        "#Agrupar as avaliações pela coluna \"filmeID\", e pegar a média da coluna avaliação.\n",
        "notas_medias_por_filme = notas.groupby(\"filmeID\")[\"avaliação\"].mean()\n",
        "notas_medias_por_filme #Essa Variável é de tipo Series\n",
        "\n",
        "\n",
        "\n",
        "\n"
      ],
      "execution_count": 41,
      "outputs": [
        {
          "output_type": "execute_result",
          "data": {
            "text/plain": [
              "filmeID\n",
              "1         3.920930\n",
              "2         3.431818\n",
              "3         3.259615\n",
              "4         2.357143\n",
              "5         3.071429\n",
              "            ...   \n",
              "193581    4.000000\n",
              "193583    3.500000\n",
              "193585    3.500000\n",
              "193587    3.500000\n",
              "193609    4.000000\n",
              "Name: avaliação, Length: 9724, dtype: float64"
            ]
          },
          "metadata": {
            "tags": []
          },
          "execution_count": 41
        }
      ]
    },
    {
      "cell_type": "code",
      "metadata": {
        "id": "VODPJc-5qZEA",
        "colab_type": "code",
        "outputId": "04b3831f-7bb8-4673-aca2-a83c38c02bb4",
        "colab": {
          "base_uri": "https://localhost:8080/",
          "height": 359
        }
      },
      "source": [
        "# Agora vamos juntar a Series criada anteriormente com o DataFrame filmes.\n",
        "# Repare que no join, os parâmetros são a Series que se quer adicionar e\n",
        "# no \"on\" onde o índice da Series vai se encaixar no DataFrame. Como eles\n",
        "# coincidem isso é possível. \n",
        "filmes_por_avaliacao = filmes.join(notas_medias_por_filme, on=\"filmeID\")\n",
        "filmes_por_avaliacao\n",
        "filmes_por_avaliacao.head(10)\n",
        "\n",
        "\n",
        "\n"
      ],
      "execution_count": 42,
      "outputs": [
        {
          "output_type": "execute_result",
          "data": {
            "text/html": [
              "<div>\n",
              "<style scoped>\n",
              "    .dataframe tbody tr th:only-of-type {\n",
              "        vertical-align: middle;\n",
              "    }\n",
              "\n",
              "    .dataframe tbody tr th {\n",
              "        vertical-align: top;\n",
              "    }\n",
              "\n",
              "    .dataframe thead th {\n",
              "        text-align: right;\n",
              "    }\n",
              "</style>\n",
              "<table border=\"1\" class=\"dataframe\">\n",
              "  <thead>\n",
              "    <tr style=\"text-align: right;\">\n",
              "      <th></th>\n",
              "      <th>filmeID</th>\n",
              "      <th>titulo</th>\n",
              "      <th>generos</th>\n",
              "      <th>avaliação</th>\n",
              "    </tr>\n",
              "  </thead>\n",
              "  <tbody>\n",
              "    <tr>\n",
              "      <th>0</th>\n",
              "      <td>1</td>\n",
              "      <td>Toy Story (1995)</td>\n",
              "      <td>Adventure|Animation|Children|Comedy|Fantasy</td>\n",
              "      <td>3.920930</td>\n",
              "    </tr>\n",
              "    <tr>\n",
              "      <th>1</th>\n",
              "      <td>2</td>\n",
              "      <td>Jumanji (1995)</td>\n",
              "      <td>Adventure|Children|Fantasy</td>\n",
              "      <td>3.431818</td>\n",
              "    </tr>\n",
              "    <tr>\n",
              "      <th>2</th>\n",
              "      <td>3</td>\n",
              "      <td>Grumpier Old Men (1995)</td>\n",
              "      <td>Comedy|Romance</td>\n",
              "      <td>3.259615</td>\n",
              "    </tr>\n",
              "    <tr>\n",
              "      <th>3</th>\n",
              "      <td>4</td>\n",
              "      <td>Waiting to Exhale (1995)</td>\n",
              "      <td>Comedy|Drama|Romance</td>\n",
              "      <td>2.357143</td>\n",
              "    </tr>\n",
              "    <tr>\n",
              "      <th>4</th>\n",
              "      <td>5</td>\n",
              "      <td>Father of the Bride Part II (1995)</td>\n",
              "      <td>Comedy</td>\n",
              "      <td>3.071429</td>\n",
              "    </tr>\n",
              "    <tr>\n",
              "      <th>5</th>\n",
              "      <td>6</td>\n",
              "      <td>Heat (1995)</td>\n",
              "      <td>Action|Crime|Thriller</td>\n",
              "      <td>3.946078</td>\n",
              "    </tr>\n",
              "    <tr>\n",
              "      <th>6</th>\n",
              "      <td>7</td>\n",
              "      <td>Sabrina (1995)</td>\n",
              "      <td>Comedy|Romance</td>\n",
              "      <td>3.185185</td>\n",
              "    </tr>\n",
              "    <tr>\n",
              "      <th>7</th>\n",
              "      <td>8</td>\n",
              "      <td>Tom and Huck (1995)</td>\n",
              "      <td>Adventure|Children</td>\n",
              "      <td>2.875000</td>\n",
              "    </tr>\n",
              "    <tr>\n",
              "      <th>8</th>\n",
              "      <td>9</td>\n",
              "      <td>Sudden Death (1995)</td>\n",
              "      <td>Action</td>\n",
              "      <td>3.125000</td>\n",
              "    </tr>\n",
              "    <tr>\n",
              "      <th>9</th>\n",
              "      <td>10</td>\n",
              "      <td>GoldenEye (1995)</td>\n",
              "      <td>Action|Adventure|Thriller</td>\n",
              "      <td>3.496212</td>\n",
              "    </tr>\n",
              "  </tbody>\n",
              "</table>\n",
              "</div>"
            ],
            "text/plain": [
              "   filmeID  ... avaliação\n",
              "0        1  ...  3.920930\n",
              "1        2  ...  3.431818\n",
              "2        3  ...  3.259615\n",
              "3        4  ...  2.357143\n",
              "4        5  ...  3.071429\n",
              "5        6  ...  3.946078\n",
              "6        7  ...  3.185185\n",
              "7        8  ...  2.875000\n",
              "8        9  ...  3.125000\n",
              "9       10  ...  3.496212\n",
              "\n",
              "[10 rows x 4 columns]"
            ]
          },
          "metadata": {
            "tags": []
          },
          "execution_count": 42
        }
      ]
    },
    {
      "cell_type": "markdown",
      "metadata": {
        "id": "8ZSEhnmY1Xor",
        "colab_type": "text"
      },
      "source": [
        "Podemos também ordenar os dados do DataFrame utilizando o método `sort_values`. O parâmetro é a coluna de referência com que se quer ordenar o DF. O parâmetro **ascending** se for Falso ordena do maior para o menor. "
      ]
    },
    {
      "cell_type": "code",
      "metadata": {
        "id": "Un6FFRYgtHxr",
        "colab_type": "code",
        "outputId": "58b1fe4b-e224-411c-9edb-5aadbf6431bc",
        "colab": {
          "base_uri": "https://localhost:8080/",
          "height": 419
        }
      },
      "source": [
        "# Organizando a lista pelos valores da coluna avaliação. Aqui os filmes são \n",
        "# ordenados do menor para o maior. \n",
        "filmes_por_avaliacao.sort_values(\"avaliação\")\n",
        "\n",
        "\n",
        "\n",
        "\n",
        "\n",
        "\n",
        "\n"
      ],
      "execution_count": 43,
      "outputs": [
        {
          "output_type": "execute_result",
          "data": {
            "text/html": [
              "<div>\n",
              "<style scoped>\n",
              "    .dataframe tbody tr th:only-of-type {\n",
              "        vertical-align: middle;\n",
              "    }\n",
              "\n",
              "    .dataframe tbody tr th {\n",
              "        vertical-align: top;\n",
              "    }\n",
              "\n",
              "    .dataframe thead th {\n",
              "        text-align: right;\n",
              "    }\n",
              "</style>\n",
              "<table border=\"1\" class=\"dataframe\">\n",
              "  <thead>\n",
              "    <tr style=\"text-align: right;\">\n",
              "      <th></th>\n",
              "      <th>filmeID</th>\n",
              "      <th>titulo</th>\n",
              "      <th>generos</th>\n",
              "      <th>avaliação</th>\n",
              "    </tr>\n",
              "  </thead>\n",
              "  <tbody>\n",
              "    <tr>\n",
              "      <th>5554</th>\n",
              "      <td>26696</td>\n",
              "      <td>Lionheart (1990)</td>\n",
              "      <td>Action</td>\n",
              "      <td>0.5</td>\n",
              "    </tr>\n",
              "    <tr>\n",
              "      <th>2689</th>\n",
              "      <td>3604</td>\n",
              "      <td>Gypsy (1962)</td>\n",
              "      <td>Musical</td>\n",
              "      <td>0.5</td>\n",
              "    </tr>\n",
              "    <tr>\n",
              "      <th>4881</th>\n",
              "      <td>7312</td>\n",
              "      <td>Follow Me, Boys! (1966)</td>\n",
              "      <td>Comedy|Drama</td>\n",
              "      <td>0.5</td>\n",
              "    </tr>\n",
              "    <tr>\n",
              "      <th>9117</th>\n",
              "      <td>145724</td>\n",
              "      <td>Idaho Transfer (1973)</td>\n",
              "      <td>Sci-Fi</td>\n",
              "      <td>0.5</td>\n",
              "    </tr>\n",
              "    <tr>\n",
              "      <th>7297</th>\n",
              "      <td>76030</td>\n",
              "      <td>Case 39 (2009)</td>\n",
              "      <td>Horror|Thriller</td>\n",
              "      <td>0.5</td>\n",
              "    </tr>\n",
              "    <tr>\n",
              "      <th>...</th>\n",
              "      <td>...</td>\n",
              "      <td>...</td>\n",
              "      <td>...</td>\n",
              "      <td>...</td>\n",
              "    </tr>\n",
              "    <tr>\n",
              "      <th>5749</th>\n",
              "      <td>30892</td>\n",
              "      <td>In the Realms of the Unreal (2004)</td>\n",
              "      <td>Animation|Documentary</td>\n",
              "      <td>NaN</td>\n",
              "    </tr>\n",
              "    <tr>\n",
              "      <th>5824</th>\n",
              "      <td>32160</td>\n",
              "      <td>Twentieth Century (1934)</td>\n",
              "      <td>Comedy</td>\n",
              "      <td>NaN</td>\n",
              "    </tr>\n",
              "    <tr>\n",
              "      <th>5837</th>\n",
              "      <td>32371</td>\n",
              "      <td>Call Northside 777 (1948)</td>\n",
              "      <td>Crime|Drama|Film-Noir</td>\n",
              "      <td>NaN</td>\n",
              "    </tr>\n",
              "    <tr>\n",
              "      <th>5957</th>\n",
              "      <td>34482</td>\n",
              "      <td>Browning Version, The (1951)</td>\n",
              "      <td>Drama</td>\n",
              "      <td>NaN</td>\n",
              "    </tr>\n",
              "    <tr>\n",
              "      <th>7565</th>\n",
              "      <td>85565</td>\n",
              "      <td>Chalet Girl (2011)</td>\n",
              "      <td>Comedy|Romance</td>\n",
              "      <td>NaN</td>\n",
              "    </tr>\n",
              "  </tbody>\n",
              "</table>\n",
              "<p>9742 rows × 4 columns</p>\n",
              "</div>"
            ],
            "text/plain": [
              "      filmeID  ... avaliação\n",
              "5554    26696  ...       0.5\n",
              "2689     3604  ...       0.5\n",
              "4881     7312  ...       0.5\n",
              "9117   145724  ...       0.5\n",
              "7297    76030  ...       0.5\n",
              "...       ...  ...       ...\n",
              "5749    30892  ...       NaN\n",
              "5824    32160  ...       NaN\n",
              "5837    32371  ...       NaN\n",
              "5957    34482  ...       NaN\n",
              "7565    85565  ...       NaN\n",
              "\n",
              "[9742 rows x 4 columns]"
            ]
          },
          "metadata": {
            "tags": []
          },
          "execution_count": 43
        }
      ]
    },
    {
      "cell_type": "code",
      "metadata": {
        "id": "-Oqya_BF2Kw5",
        "colab_type": "code",
        "outputId": "ff70de5b-305f-4536-9848-f7fe22762246",
        "colab": {
          "base_uri": "https://localhost:8080/",
          "height": 359
        }
      },
      "source": [
        "# Ordenando agora de forma descrescente, usando o parâmetro ascending.\n",
        "filmes_por_avaliacao.sort_values(\"avaliação\", ascending=False).head(10)"
      ],
      "execution_count": 44,
      "outputs": [
        {
          "output_type": "execute_result",
          "data": {
            "text/html": [
              "<div>\n",
              "<style scoped>\n",
              "    .dataframe tbody tr th:only-of-type {\n",
              "        vertical-align: middle;\n",
              "    }\n",
              "\n",
              "    .dataframe tbody tr th {\n",
              "        vertical-align: top;\n",
              "    }\n",
              "\n",
              "    .dataframe thead th {\n",
              "        text-align: right;\n",
              "    }\n",
              "</style>\n",
              "<table border=\"1\" class=\"dataframe\">\n",
              "  <thead>\n",
              "    <tr style=\"text-align: right;\">\n",
              "      <th></th>\n",
              "      <th>filmeID</th>\n",
              "      <th>titulo</th>\n",
              "      <th>generos</th>\n",
              "      <th>avaliação</th>\n",
              "    </tr>\n",
              "  </thead>\n",
              "  <tbody>\n",
              "    <tr>\n",
              "      <th>7656</th>\n",
              "      <td>88448</td>\n",
              "      <td>Paper Birds (Pájaros de papel) (2010)</td>\n",
              "      <td>Comedy|Drama</td>\n",
              "      <td>5.0</td>\n",
              "    </tr>\n",
              "    <tr>\n",
              "      <th>8107</th>\n",
              "      <td>100556</td>\n",
              "      <td>Act of Killing, The (2012)</td>\n",
              "      <td>Documentary</td>\n",
              "      <td>5.0</td>\n",
              "    </tr>\n",
              "    <tr>\n",
              "      <th>9083</th>\n",
              "      <td>143031</td>\n",
              "      <td>Jump In! (2007)</td>\n",
              "      <td>Comedy|Drama|Romance</td>\n",
              "      <td>5.0</td>\n",
              "    </tr>\n",
              "    <tr>\n",
              "      <th>9094</th>\n",
              "      <td>143511</td>\n",
              "      <td>Human (2015)</td>\n",
              "      <td>Documentary</td>\n",
              "      <td>5.0</td>\n",
              "    </tr>\n",
              "    <tr>\n",
              "      <th>9096</th>\n",
              "      <td>143559</td>\n",
              "      <td>L.A. Slasher (2015)</td>\n",
              "      <td>Comedy|Crime|Fantasy</td>\n",
              "      <td>5.0</td>\n",
              "    </tr>\n",
              "    <tr>\n",
              "      <th>4251</th>\n",
              "      <td>6201</td>\n",
              "      <td>Lady Jane (1986)</td>\n",
              "      <td>Drama|Romance</td>\n",
              "      <td>5.0</td>\n",
              "    </tr>\n",
              "    <tr>\n",
              "      <th>8154</th>\n",
              "      <td>102217</td>\n",
              "      <td>Bill Hicks: Revelations (1993)</td>\n",
              "      <td>Comedy</td>\n",
              "      <td>5.0</td>\n",
              "    </tr>\n",
              "    <tr>\n",
              "      <th>8148</th>\n",
              "      <td>102084</td>\n",
              "      <td>Justice League: Doom (2012)</td>\n",
              "      <td>Action|Animation|Fantasy</td>\n",
              "      <td>5.0</td>\n",
              "    </tr>\n",
              "    <tr>\n",
              "      <th>4246</th>\n",
              "      <td>6192</td>\n",
              "      <td>Open Hearts (Elsker dig for evigt) (2002)</td>\n",
              "      <td>Romance</td>\n",
              "      <td>5.0</td>\n",
              "    </tr>\n",
              "    <tr>\n",
              "      <th>9122</th>\n",
              "      <td>145994</td>\n",
              "      <td>Formula of Love (1984)</td>\n",
              "      <td>Comedy</td>\n",
              "      <td>5.0</td>\n",
              "    </tr>\n",
              "  </tbody>\n",
              "</table>\n",
              "</div>"
            ],
            "text/plain": [
              "      filmeID  ... avaliação\n",
              "7656    88448  ...       5.0\n",
              "8107   100556  ...       5.0\n",
              "9083   143031  ...       5.0\n",
              "9094   143511  ...       5.0\n",
              "9096   143559  ...       5.0\n",
              "4251     6201  ...       5.0\n",
              "8154   102217  ...       5.0\n",
              "8148   102084  ...       5.0\n",
              "4246     6192  ...       5.0\n",
              "9122   145994  ...       5.0\n",
              "\n",
              "[10 rows x 4 columns]"
            ]
          },
          "metadata": {
            "tags": []
          },
          "execution_count": 44
        }
      ]
    },
    {
      "cell_type": "markdown",
      "metadata": {
        "id": "MbZwrwM83Q-4",
        "colab_type": "text"
      },
      "source": [
        "Observando esses dados, podemos fazer alguns questionamentos. Seria possível um filme ser avaliado com a nota máxima por todos? Pode ser que as pouquíssimas avaliações destes filmes no conjunto de dados tenham enviesado sua nota média. \n",
        "\n",
        "Infelizmente, esse é um problema comum, pois não é possível ter uma avaliação de todas as pessoas sobre todos os filmes. Por isso que chamamos estes dados de **amostras**, pois eles representam apenas parte do todo.\n"
      ]
    },
    {
      "cell_type": "markdown",
      "metadata": {
        "id": "rX8dJJEP34jB",
        "colab_type": "text"
      },
      "source": [
        "## Analisando os dados por meio de gráficos\n",
        "Fazer gráficos é essencial no processo de análise. Isso permite que tenhamos uma ideia mais clara sobre suas características. Então, vamos plotar um gráfico das avaliações do filme 1, Toy Story, usando o método do __pandas__ `plot()`. "
      ]
    },
    {
      "cell_type": "code",
      "metadata": {
        "id": "00WM8HD8FNpL",
        "colab_type": "code",
        "outputId": "79dcdbf5-270e-4f92-f152-1463d4429acc",
        "colab": {
          "base_uri": "https://localhost:8080/",
          "height": 282
        }
      },
      "source": [
        "# Podemos fazer uma análise gráfica dos dados, usando o método plot(). Vejamos\n",
        "# que o parâmetro padrão é um gráfico de linhas, o que não é adequado para o tipo\n",
        "# de dados que estamos lidando aqui. \n",
        "notas.query(\"filmeID==1\")['avaliação'].plot()\n",
        "\n",
        "\n"
      ],
      "execution_count": 45,
      "outputs": [
        {
          "output_type": "execute_result",
          "data": {
            "text/plain": [
              "<matplotlib.axes._subplots.AxesSubplot at 0x7fa84c629a20>"
            ]
          },
          "metadata": {
            "tags": []
          },
          "execution_count": 45
        },
        {
          "output_type": "display_data",
          "data": {
            "image/png": "[encoded data removed]",
            "text/plain": [
              "<Figure size 432x288 with 1 Axes>"
            ]
          },
          "metadata": {
            "tags": [],
            "needs_background": "light"
          }
        }
      ]
    },
    {
      "cell_type": "code",
      "metadata": {
        "id": "T72TVNM45aFc",
        "colab_type": "code",
        "outputId": "84b88a9d-e11a-4cf9-96fa-40d675c73e1f",
        "colab": {
          "base_uri": "https://localhost:8080/",
          "height": 298
        }
      },
      "source": [
        "# Neste caso, é só alterar o parâmetro type para 'hist', obtendo assim um histrograma. O título\n",
        "# coloca-se com o parâmetro title.\n",
        "notas.query(\"filmeID==1\")['avaliação'].plot(kind='hist', title=\"Avaliações do filme Toy Story\")"
      ],
      "execution_count": 46,
      "outputs": [
        {
          "output_type": "execute_result",
          "data": {
            "text/plain": [
              "<matplotlib.axes._subplots.AxesSubplot at 0x7fa84c5a52b0>"
            ]
          },
          "metadata": {
            "tags": []
          },
          "execution_count": 46
        },
        {
          "output_type": "display_data",
          "data": {
            "image/png": "[encoded data removed]",
            "text/plain": [
              "<Figure size 432x288 with 1 Axes>"
            ]
          },
          "metadata": {
            "tags": [],
            "needs_background": "light"
          }
        }
      ]
    },
    {
      "cell_type": "markdown",
      "metadata": {
        "id": "J4VVmDw87TOe",
        "colab_type": "text"
      },
      "source": [
        "Agora temos uma visualização muito mais agradável de analisar. Nesse caso, o histograma é muito melhor que o gráfico de linhas. Esses são mais adequados para séries temporais, o que não é o nosso caso aqui. \n",
        "\n",
        "A seguir vamos plotar o gráfico utilizando a bibliotca **matplotlib.pyplot** que nos dá muitas outras funcionalidades. Depois disso, plotaremos as avaliações de outros filmes, e verificaremos a nossa hipótese de que os filmes com notas muito altas poderão ter amostras muito enviesadas. "
      ]
    },
    {
      "cell_type": "code",
      "metadata": {
        "id": "FdAbkmlsG_5G",
        "colab_type": "code",
        "outputId": "1501c84c-811e-4a68-e55d-64fe61c003e5",
        "colab": {
          "base_uri": "https://localhost:8080/",
          "height": 607
        }
      },
      "source": [
        "# Podemos usar também a biblioteca matplotlib.pyplot padrão plt. Primeiro\n",
        "# vamos importá-la... \n",
        "import matplotlib.pyplot as plt\n",
        "# Depois colocaremos título e ajustaremos o tamanho do gráfico. \n",
        "plt.figure(figsize=(12,10))\n",
        "notas.query(\"filmeID==1\")['avaliação'].plot(kind='hist')\n",
        "plt.title(\"Avaliações do filme Toy Story\")\n",
        "plt.show()"
      ],
      "execution_count": 47,
      "outputs": [
        {
          "output_type": "display_data",
          "data": {
            "image/png": "[encoded data removed]",
            "text/plain": [
              "<Figure size 864x720 with 1 Axes>"
            ]
          },
          "metadata": {
            "tags": [],
            "needs_background": "light"
          }
        }
      ]
    },
    {
      "cell_type": "code",
      "metadata": {
        "id": "xi9TUE5RH8PE",
        "colab_type": "code",
        "outputId": "ab864088-a97b-46c2-c9ee-4ada551775be",
        "colab": {
          "base_uri": "https://localhost:8080/",
          "height": 607
        }
      },
      "source": [
        "#Agora podemos analisar as informações gráficas de outros filmes. Agora do filme\n",
        "# 2, Jumanji. \n",
        "plt.figure(figsize=(12, 10))\n",
        "notas.query(\"filmeID==2\")['avaliação'].plot(kind='hist', color=\"green\")\n",
        "plt.title(\"Avaliações do filme Jumanji\")\n",
        "plt.show()\n",
        "\n",
        "\n"
      ],
      "execution_count": 48,
      "outputs": [
        {
          "output_type": "display_data",
          "data": {
            "image/png": "[encoded data removed]",
            "text/plain": [
              "<Figure size 864x720 with 1 Axes>"
            ]
          },
          "metadata": {
            "tags": [],
            "needs_background": "light"
          }
        }
      ]
    },
    {
      "cell_type": "code",
      "metadata": {
        "id": "7kQPtkO3IT1Y",
        "colab_type": "code",
        "outputId": "68f41c0d-8e06-49cd-fb8b-b4a8074a0ef5",
        "colab": {
          "base_uri": "https://localhost:8080/",
          "height": 607
        }
      },
      "source": [
        "#Os gráficos permitem comparar e levantar hipóteses. Por exemplo, será que os filmes\n",
        "# que tiveram média de avaliação 5.0 (ou seja, o total) só chegaram nessa situação\n",
        "#porque poucas pessoas os avaliaram? Vamos então plotar um gráfico de um filme\n",
        "# que teve uma avaliação máxima.\n",
        "plt.figure(figsize=(12,10))  \n",
        "notas.query(\"filmeID==95175\")[\"avaliação\"].plot(kind='hist', color='orange')\n",
        "plt.title('Avaliações do filme Front of the Class')\n",
        "plt.show()\n",
        "\n",
        "\n"
      ],
      "execution_count": 49,
      "outputs": [
        {
          "output_type": "display_data",
          "data": {
            "image/png": "[encoded data removed]",
            "text/plain": [
              "<Figure size 864x720 with 1 Axes>"
            ]
          },
          "metadata": {
            "tags": [],
            "needs_background": "light"
          }
        }
      ]
    },
    {
      "cell_type": "markdown",
      "metadata": {
        "id": "ZEnb9h8I-4jl",
        "colab_type": "text"
      },
      "source": [
        "O gráfico anterior confirma a hipótese que levantamos. Ou seja, de que filmes com notas máximas podem estar enviesados. Nesse caso, vemos que esse filme teve apenas uma avaliação, cujo valor foi 5.0. \n",
        "\n",
        "Agora que temos os gráficos, vamos **analisar** \n",
        "\n",
        "A primeira coisa que preciso saber é o que cada eixo do meu gráfico significa:\n",
        "\n",
        "**Eixo x:** mostra a nota \n",
        "\n",
        "**Eixo y**: mostra a frequência das notas (quantas vezes determinada nota foi dada).\n",
        "\n",
        "Entendido nosso gráfico, vamos contextualizar o cenário que estamos analisando:\n",
        "\n",
        "Temos 3 filmes, dois muito populares (Toy story e Jumanji) e outro pouco conhecido (Front of the class). O ponto que chamou a atenção foi que \"Front of the class\" tinha média de nota maior que os dois filmes populares, Jumaji e Toy Story. Será que é um filme tão bom assim?\n",
        "\n",
        "Dado esse cenário a primeira coisa que me chama a atenção é Front of the class ter média de nota igual a 5. Ao analisar o histograma do respectivo filme, verificamos que ele só teve uma avaliação igual a 5, logo, fica evidente que a quantidade de votos é um aspecto importante na avaliação das médias. Com apenas uma avaliação, não conseguimos garantir que o filme é realmente bom, tornando a avaliação muito \"volátil\". Imagina que Front of the class receba mais uma avaliação, com nota 0, assim a média seria 2.5. Apenas com mais essa avaliação o filme passaria a ser considerada um \"pior\" que Jumanji e Toy Story. A média é um medida de centro extremamente sensível a números discrepantes. \n",
        "\n",
        "Outro ponto interessante é comparar o histograma de Toy Story e Jumanji, ambos tem médias \"relativamente próximas\". Mas repare que a distribuição de notas são diferentes, Toy Story recebe mais notas 5 e 4 que qualquer outra nota, enquanto Jumanji recebe mais notas 4 e 3, assim concluímos que a distribuição das notas também é um fator importante na avaliação das médias."
      ]
    },
    {
      "cell_type": "markdown",
      "metadata": {
        "id": "NM-6FNemJ5C-",
        "colab_type": "text"
      },
      "source": [
        "## Desafios parte 1\n",
        "Vamos agora aos desafios que foram propostos durante os cursos. Eles expandirão os nossos horizontes, mostrando, simultaneamente, a simplicidade e o poder da linguagem Python para manipular e analisar dados. "
      ]
    },
    {
      "cell_type": "markdown",
      "metadata": {
        "id": "47hORgbFywAE",
        "colab_type": "text"
      },
      "source": [
        "**DESAFIO 1. Arredondar as médias dos filmes pra duas casas decimais**\\\n",
        "Vemos que no nosso DataFrame as médias estão com muitos números depois da vírgula. Podemos arredondá-los usando o método `.round()`\n"
      ]
    },
    {
      "cell_type": "code",
      "metadata": {
        "id": "uzNVHfO7NbdK",
        "colab_type": "code",
        "outputId": "1d2b2f9f-c543-4aea-ac08-82419bf31627",
        "colab": {
          "base_uri": "https://localhost:8080/",
          "height": 419
        }
      },
      "source": [
        "#O método round() arredonda os valores float, flutuantes, \n",
        "# para n digitos passados como parâmetro. \n",
        "filmes_por_avaliacao[\"avaliação\"] = filmes_por_avaliacao[\"avaliação\"].round(2)\n",
        "\n",
        "#Pronto! Agora os valores estão convertidos para duas casas decimais depois do\n",
        "#ponto flutuante\n",
        "filmes_por_avaliacao\n",
        "\n"
      ],
      "execution_count": 50,
      "outputs": [
        {
          "output_type": "execute_result",
          "data": {
            "text/html": [
              "<div>\n",
              "<style scoped>\n",
              "    .dataframe tbody tr th:only-of-type {\n",
              "        vertical-align: middle;\n",
              "    }\n",
              "\n",
              "    .dataframe tbody tr th {\n",
              "        vertical-align: top;\n",
              "    }\n",
              "\n",
              "    .dataframe thead th {\n",
              "        text-align: right;\n",
              "    }\n",
              "</style>\n",
              "<table border=\"1\" class=\"dataframe\">\n",
              "  <thead>\n",
              "    <tr style=\"text-align: right;\">\n",
              "      <th></th>\n",
              "      <th>filmeID</th>\n",
              "      <th>titulo</th>\n",
              "      <th>generos</th>\n",
              "      <th>avaliação</th>\n",
              "    </tr>\n",
              "  </thead>\n",
              "  <tbody>\n",
              "    <tr>\n",
              "      <th>0</th>\n",
              "      <td>1</td>\n",
              "      <td>Toy Story (1995)</td>\n",
              "      <td>Adventure|Animation|Children|Comedy|Fantasy</td>\n",
              "      <td>3.92</td>\n",
              "    </tr>\n",
              "    <tr>\n",
              "      <th>1</th>\n",
              "      <td>2</td>\n",
              "      <td>Jumanji (1995)</td>\n",
              "      <td>Adventure|Children|Fantasy</td>\n",
              "      <td>3.43</td>\n",
              "    </tr>\n",
              "    <tr>\n",
              "      <th>2</th>\n",
              "      <td>3</td>\n",
              "      <td>Grumpier Old Men (1995)</td>\n",
              "      <td>Comedy|Romance</td>\n",
              "      <td>3.26</td>\n",
              "    </tr>\n",
              "    <tr>\n",
              "      <th>3</th>\n",
              "      <td>4</td>\n",
              "      <td>Waiting to Exhale (1995)</td>\n",
              "      <td>Comedy|Drama|Romance</td>\n",
              "      <td>2.36</td>\n",
              "    </tr>\n",
              "    <tr>\n",
              "      <th>4</th>\n",
              "      <td>5</td>\n",
              "      <td>Father of the Bride Part II (1995)</td>\n",
              "      <td>Comedy</td>\n",
              "      <td>3.07</td>\n",
              "    </tr>\n",
              "    <tr>\n",
              "      <th>...</th>\n",
              "      <td>...</td>\n",
              "      <td>...</td>\n",
              "      <td>...</td>\n",
              "      <td>...</td>\n",
              "    </tr>\n",
              "    <tr>\n",
              "      <th>9737</th>\n",
              "      <td>193581</td>\n",
              "      <td>Black Butler: Book of the Atlantic (2017)</td>\n",
              "      <td>Action|Animation|Comedy|Fantasy</td>\n",
              "      <td>4.00</td>\n",
              "    </tr>\n",
              "    <tr>\n",
              "      <th>9738</th>\n",
              "      <td>193583</td>\n",
              "      <td>No Game No Life: Zero (2017)</td>\n",
              "      <td>Animation|Comedy|Fantasy</td>\n",
              "      <td>3.50</td>\n",
              "    </tr>\n",
              "    <tr>\n",
              "      <th>9739</th>\n",
              "      <td>193585</td>\n",
              "      <td>Flint (2017)</td>\n",
              "      <td>Drama</td>\n",
              "      <td>3.50</td>\n",
              "    </tr>\n",
              "    <tr>\n",
              "      <th>9740</th>\n",
              "      <td>193587</td>\n",
              "      <td>Bungo Stray Dogs: Dead Apple (2018)</td>\n",
              "      <td>Action|Animation</td>\n",
              "      <td>3.50</td>\n",
              "    </tr>\n",
              "    <tr>\n",
              "      <th>9741</th>\n",
              "      <td>193609</td>\n",
              "      <td>Andrew Dice Clay: Dice Rules (1991)</td>\n",
              "      <td>Comedy</td>\n",
              "      <td>4.00</td>\n",
              "    </tr>\n",
              "  </tbody>\n",
              "</table>\n",
              "<p>9742 rows × 4 columns</p>\n",
              "</div>"
            ],
            "text/plain": [
              "      filmeID  ... avaliação\n",
              "0           1  ...      3.92\n",
              "1           2  ...      3.43\n",
              "2           3  ...      3.26\n",
              "3           4  ...      2.36\n",
              "4           5  ...      3.07\n",
              "...       ...  ...       ...\n",
              "9737   193581  ...      4.00\n",
              "9738   193583  ...      3.50\n",
              "9739   193585  ...      3.50\n",
              "9740   193587  ...      3.50\n",
              "9741   193609  ...      4.00\n",
              "\n",
              "[9742 rows x 4 columns]"
            ]
          },
          "metadata": {
            "tags": []
          },
          "execution_count": 50
        }
      ]
    },
    {
      "cell_type": "markdown",
      "metadata": {
        "id": "Ew0NPnQTL1Dl",
        "colab_type": "text"
      },
      "source": [
        "**DESAFIO 2. Descobrindo os filmes sem avaliação** \\\n",
        "Quando visualizamos o DataFrame dos filmes com avaliação, vimos que alguns filmes não tinham avaliação, as células estavam com o valor **NaN**. Vamos tentar descobrir quantos são e quais são esses filmes. \n",
        "\n"
      ]
    },
    {
      "cell_type": "code",
      "metadata": {
        "id": "0ajL76LGNQjn",
        "colab_type": "code",
        "outputId": "49d4d2ff-0cbe-48ca-b75a-88671ff8dc00",
        "colab": {
          "base_uri": "https://localhost:8080/",
          "height": 359
        }
      },
      "source": [
        "# Primeiro passo. Criar um DataFrame, a partir do DF Filmes e colocar nesse DF\n",
        "# uma coluna que indica se o teste lógico \"avaliações são nulas\" é verdadeiro ou\n",
        "# falso.\n",
        "filmes_null = filmes\n",
        "filmes_null[\"nulo\"] = filmes_por_avaliacao['avaliação'].isnull()\n",
        "filmes_null.head(10)"
      ],
      "execution_count": 51,
      "outputs": [
        {
          "output_type": "execute_result",
          "data": {
            "text/html": [
              "<div>\n",
              "<style scoped>\n",
              "    .dataframe tbody tr th:only-of-type {\n",
              "        vertical-align: middle;\n",
              "    }\n",
              "\n",
              "    .dataframe tbody tr th {\n",
              "        vertical-align: top;\n",
              "    }\n",
              "\n",
              "    .dataframe thead th {\n",
              "        text-align: right;\n",
              "    }\n",
              "</style>\n",
              "<table border=\"1\" class=\"dataframe\">\n",
              "  <thead>\n",
              "    <tr style=\"text-align: right;\">\n",
              "      <th></th>\n",
              "      <th>filmeID</th>\n",
              "      <th>titulo</th>\n",
              "      <th>generos</th>\n",
              "      <th>nulo</th>\n",
              "    </tr>\n",
              "  </thead>\n",
              "  <tbody>\n",
              "    <tr>\n",
              "      <th>0</th>\n",
              "      <td>1</td>\n",
              "      <td>Toy Story (1995)</td>\n",
              "      <td>Adventure|Animation|Children|Comedy|Fantasy</td>\n",
              "      <td>False</td>\n",
              "    </tr>\n",
              "    <tr>\n",
              "      <th>1</th>\n",
              "      <td>2</td>\n",
              "      <td>Jumanji (1995)</td>\n",
              "      <td>Adventure|Children|Fantasy</td>\n",
              "      <td>False</td>\n",
              "    </tr>\n",
              "    <tr>\n",
              "      <th>2</th>\n",
              "      <td>3</td>\n",
              "      <td>Grumpier Old Men (1995)</td>\n",
              "      <td>Comedy|Romance</td>\n",
              "      <td>False</td>\n",
              "    </tr>\n",
              "    <tr>\n",
              "      <th>3</th>\n",
              "      <td>4</td>\n",
              "      <td>Waiting to Exhale (1995)</td>\n",
              "      <td>Comedy|Drama|Romance</td>\n",
              "      <td>False</td>\n",
              "    </tr>\n",
              "    <tr>\n",
              "      <th>4</th>\n",
              "      <td>5</td>\n",
              "      <td>Father of the Bride Part II (1995)</td>\n",
              "      <td>Comedy</td>\n",
              "      <td>False</td>\n",
              "    </tr>\n",
              "    <tr>\n",
              "      <th>5</th>\n",
              "      <td>6</td>\n",
              "      <td>Heat (1995)</td>\n",
              "      <td>Action|Crime|Thriller</td>\n",
              "      <td>False</td>\n",
              "    </tr>\n",
              "    <tr>\n",
              "      <th>6</th>\n",
              "      <td>7</td>\n",
              "      <td>Sabrina (1995)</td>\n",
              "      <td>Comedy|Romance</td>\n",
              "      <td>False</td>\n",
              "    </tr>\n",
              "    <tr>\n",
              "      <th>7</th>\n",
              "      <td>8</td>\n",
              "      <td>Tom and Huck (1995)</td>\n",
              "      <td>Adventure|Children</td>\n",
              "      <td>False</td>\n",
              "    </tr>\n",
              "    <tr>\n",
              "      <th>8</th>\n",
              "      <td>9</td>\n",
              "      <td>Sudden Death (1995)</td>\n",
              "      <td>Action</td>\n",
              "      <td>False</td>\n",
              "    </tr>\n",
              "    <tr>\n",
              "      <th>9</th>\n",
              "      <td>10</td>\n",
              "      <td>GoldenEye (1995)</td>\n",
              "      <td>Action|Adventure|Thriller</td>\n",
              "      <td>False</td>\n",
              "    </tr>\n",
              "  </tbody>\n",
              "</table>\n",
              "</div>"
            ],
            "text/plain": [
              "   filmeID  ...   nulo\n",
              "0        1  ...  False\n",
              "1        2  ...  False\n",
              "2        3  ...  False\n",
              "3        4  ...  False\n",
              "4        5  ...  False\n",
              "5        6  ...  False\n",
              "6        7  ...  False\n",
              "7        8  ...  False\n",
              "8        9  ...  False\n",
              "9       10  ...  False\n",
              "\n",
              "[10 rows x 4 columns]"
            ]
          },
          "metadata": {
            "tags": []
          },
          "execution_count": 51
        }
      ]
    },
    {
      "cell_type": "code",
      "metadata": {
        "id": "yxJSywa0WdEB",
        "colab_type": "code",
        "outputId": "f922cd43-095f-495e-bfa0-939770c7a4ec",
        "colab": {
          "base_uri": "https://localhost:8080/",
          "height": 391
        }
      },
      "source": [
        "# Agora, com esse DF criado, faremos um novo DF, só com os filmes cuja coluna \n",
        "# nulo é True, verdadeira\n",
        "filmes_sem_avaliação = filmes_null.query(\"nulo==True\")\n",
        "print(filmes_sem_avaliação)\n",
        "# Agora temos um DF só com os filmes nulos\n",
        "print(filmes_sem_avaliação.shape) # Vemos que são 18 filmes. "
      ],
      "execution_count": 52,
      "outputs": [
        {
          "output_type": "stream",
          "text": [
            "      filmeID  ...  nulo\n",
            "816      1076  ...  True\n",
            "2211     2939  ...  True\n",
            "2499     3338  ...  True\n",
            "2587     3456  ...  True\n",
            "3118     4194  ...  True\n",
            "4037     5721  ...  True\n",
            "4506     6668  ...  True\n",
            "4598     6849  ...  True\n",
            "4704     7020  ...  True\n",
            "5020     7792  ...  True\n",
            "5293     8765  ...  True\n",
            "5421    25855  ...  True\n",
            "5452    26085  ...  True\n",
            "5749    30892  ...  True\n",
            "5824    32160  ...  True\n",
            "5837    32371  ...  True\n",
            "5957    34482  ...  True\n",
            "7565    85565  ...  True\n",
            "\n",
            "[18 rows x 4 columns]\n",
            "(18, 4)\n"
          ],
          "name": "stdout"
        }
      ]
    },
    {
      "cell_type": "markdown",
      "metadata": {
        "id": "WZUSnxHRZe8N",
        "colab_type": "text"
      },
      "source": [
        "**DESAFIO 3. Colocar o número de avaliações por filmes, não só sua média.**\\\n",
        "Outro dado importante é o número de avaliações que cada filme tem, o que pode impactar na sua média final. Vamos criar mais uma coluna no nosso DF com essa informação. \n"
      ]
    },
    {
      "cell_type": "code",
      "metadata": {
        "id": "eqPs1SJtaJk4",
        "colab_type": "code",
        "outputId": "966910c4-d7ba-4d52-dc85-7b2083089708",
        "colab": {
          "base_uri": "https://localhost:8080/",
          "height": 238
        }
      },
      "source": [
        "#Primeiro passo. No DF 'notas', vamos agrupar as notas pelo Id do filme\n",
        "#usando o método groupby, e depois contar quantas ocorrências apareceram\n",
        "#em cada filme. Vamos colocar isso em uma variável. \n",
        "num_notas = notas.groupby('filmeID')['usuárioID'].count()\n",
        "num_notas\n",
        "\n",
        "#Porque que nós contamos o número de avaliações baseado na coluna de usuários,\n",
        "# e não da de avaliações? Porque já existe, no DF filmes_por_avaliação, uma coluna\n",
        "#chamada \"avaliação\", que seria o nome da Series. Assim, para uma coluna não se\n",
        "#sobrepor a outra, usamos a coluna 'usárioID'."
      ],
      "execution_count": 53,
      "outputs": [
        {
          "output_type": "execute_result",
          "data": {
            "text/plain": [
              "filmeID\n",
              "1         215\n",
              "2         110\n",
              "3          52\n",
              "4           7\n",
              "5          49\n",
              "         ... \n",
              "193581      1\n",
              "193583      1\n",
              "193585      1\n",
              "193587      1\n",
              "193609      1\n",
              "Name: usuárioID, Length: 9724, dtype: int64"
            ]
          },
          "metadata": {
            "tags": []
          },
          "execution_count": 53
        }
      ]
    },
    {
      "cell_type": "code",
      "metadata": {
        "id": "5ltUynfnbgUM",
        "colab_type": "code",
        "outputId": "92ffeea5-3e98-457e-e42c-b33cc2fef902",
        "colab": {
          "base_uri": "https://localhost:8080/",
          "height": 419
        }
      },
      "source": [
        "#Segundo passo. Agora que criamos uma Series com a contagem dos números de \n",
        "#avaliações, vamos adicionar essa Series ao DataFrame filmes_por_avaliação\n",
        "filmes_por_avaliacao = filmes_por_avaliacao.join(num_notas, on=\"filmeID\")\n",
        "filmes_por_avaliacao"
      ],
      "execution_count": 54,
      "outputs": [
        {
          "output_type": "execute_result",
          "data": {
            "text/html": [
              "<div>\n",
              "<style scoped>\n",
              "    .dataframe tbody tr th:only-of-type {\n",
              "        vertical-align: middle;\n",
              "    }\n",
              "\n",
              "    .dataframe tbody tr th {\n",
              "        vertical-align: top;\n",
              "    }\n",
              "\n",
              "    .dataframe thead th {\n",
              "        text-align: right;\n",
              "    }\n",
              "</style>\n",
              "<table border=\"1\" class=\"dataframe\">\n",
              "  <thead>\n",
              "    <tr style=\"text-align: right;\">\n",
              "      <th></th>\n",
              "      <th>filmeID</th>\n",
              "      <th>titulo</th>\n",
              "      <th>generos</th>\n",
              "      <th>avaliação</th>\n",
              "      <th>usuárioID</th>\n",
              "    </tr>\n",
              "  </thead>\n",
              "  <tbody>\n",
              "    <tr>\n",
              "      <th>0</th>\n",
              "      <td>1</td>\n",
              "      <td>Toy Story (1995)</td>\n",
              "      <td>Adventure|Animation|Children|Comedy|Fantasy</td>\n",
              "      <td>3.92</td>\n",
              "      <td>215.0</td>\n",
              "    </tr>\n",
              "    <tr>\n",
              "      <th>1</th>\n",
              "      <td>2</td>\n",
              "      <td>Jumanji (1995)</td>\n",
              "      <td>Adventure|Children|Fantasy</td>\n",
              "      <td>3.43</td>\n",
              "      <td>110.0</td>\n",
              "    </tr>\n",
              "    <tr>\n",
              "      <th>2</th>\n",
              "      <td>3</td>\n",
              "      <td>Grumpier Old Men (1995)</td>\n",
              "      <td>Comedy|Romance</td>\n",
              "      <td>3.26</td>\n",
              "      <td>52.0</td>\n",
              "    </tr>\n",
              "    <tr>\n",
              "      <th>3</th>\n",
              "      <td>4</td>\n",
              "      <td>Waiting to Exhale (1995)</td>\n",
              "      <td>Comedy|Drama|Romance</td>\n",
              "      <td>2.36</td>\n",
              "      <td>7.0</td>\n",
              "    </tr>\n",
              "    <tr>\n",
              "      <th>4</th>\n",
              "      <td>5</td>\n",
              "      <td>Father of the Bride Part II (1995)</td>\n",
              "      <td>Comedy</td>\n",
              "      <td>3.07</td>\n",
              "      <td>49.0</td>\n",
              "    </tr>\n",
              "    <tr>\n",
              "      <th>...</th>\n",
              "      <td>...</td>\n",
              "      <td>...</td>\n",
              "      <td>...</td>\n",
              "      <td>...</td>\n",
              "      <td>...</td>\n",
              "    </tr>\n",
              "    <tr>\n",
              "      <th>9737</th>\n",
              "      <td>193581</td>\n",
              "      <td>Black Butler: Book of the Atlantic (2017)</td>\n",
              "      <td>Action|Animation|Comedy|Fantasy</td>\n",
              "      <td>4.00</td>\n",
              "      <td>1.0</td>\n",
              "    </tr>\n",
              "    <tr>\n",
              "      <th>9738</th>\n",
              "      <td>193583</td>\n",
              "      <td>No Game No Life: Zero (2017)</td>\n",
              "      <td>Animation|Comedy|Fantasy</td>\n",
              "      <td>3.50</td>\n",
              "      <td>1.0</td>\n",
              "    </tr>\n",
              "    <tr>\n",
              "      <th>9739</th>\n",
              "      <td>193585</td>\n",
              "      <td>Flint (2017)</td>\n",
              "      <td>Drama</td>\n",
              "      <td>3.50</td>\n",
              "      <td>1.0</td>\n",
              "    </tr>\n",
              "    <tr>\n",
              "      <th>9740</th>\n",
              "      <td>193587</td>\n",
              "      <td>Bungo Stray Dogs: Dead Apple (2018)</td>\n",
              "      <td>Action|Animation</td>\n",
              "      <td>3.50</td>\n",
              "      <td>1.0</td>\n",
              "    </tr>\n",
              "    <tr>\n",
              "      <th>9741</th>\n",
              "      <td>193609</td>\n",
              "      <td>Andrew Dice Clay: Dice Rules (1991)</td>\n",
              "      <td>Comedy</td>\n",
              "      <td>4.00</td>\n",
              "      <td>1.0</td>\n",
              "    </tr>\n",
              "  </tbody>\n",
              "</table>\n",
              "<p>9742 rows × 5 columns</p>\n",
              "</div>"
            ],
            "text/plain": [
              "      filmeID                                     titulo  ... avaliação  usuárioID\n",
              "0           1                           Toy Story (1995)  ...      3.92      215.0\n",
              "1           2                             Jumanji (1995)  ...      3.43      110.0\n",
              "2           3                    Grumpier Old Men (1995)  ...      3.26       52.0\n",
              "3           4                   Waiting to Exhale (1995)  ...      2.36        7.0\n",
              "4           5         Father of the Bride Part II (1995)  ...      3.07       49.0\n",
              "...       ...                                        ...  ...       ...        ...\n",
              "9737   193581  Black Butler: Book of the Atlantic (2017)  ...      4.00        1.0\n",
              "9738   193583               No Game No Life: Zero (2017)  ...      3.50        1.0\n",
              "9739   193585                               Flint (2017)  ...      3.50        1.0\n",
              "9740   193587        Bungo Stray Dogs: Dead Apple (2018)  ...      3.50        1.0\n",
              "9741   193609        Andrew Dice Clay: Dice Rules (1991)  ...      4.00        1.0\n",
              "\n",
              "[9742 rows x 5 columns]"
            ]
          },
          "metadata": {
            "tags": []
          },
          "execution_count": 54
        }
      ]
    },
    {
      "cell_type": "code",
      "metadata": {
        "id": "V54IQ5rder2L",
        "colab_type": "code",
        "outputId": "f7fbc4c0-5baa-4a6b-ff86-1072ddef2c50",
        "colab": {
          "base_uri": "https://localhost:8080/",
          "height": 419
        }
      },
      "source": [
        "#Feito isso, podemos renomar a coluna 'usuárioID'.\n",
        "filmes_por_avaliacao = filmes_por_avaliacao.rename(columns={'usuárioID':'num_avaliações'})\n",
        "filmes_por_avaliacao\n"
      ],
      "execution_count": 55,
      "outputs": [
        {
          "output_type": "execute_result",
          "data": {
            "text/html": [
              "<div>\n",
              "<style scoped>\n",
              "    .dataframe tbody tr th:only-of-type {\n",
              "        vertical-align: middle;\n",
              "    }\n",
              "\n",
              "    .dataframe tbody tr th {\n",
              "        vertical-align: top;\n",
              "    }\n",
              "\n",
              "    .dataframe thead th {\n",
              "        text-align: right;\n",
              "    }\n",
              "</style>\n",
              "<table border=\"1\" class=\"dataframe\">\n",
              "  <thead>\n",
              "    <tr style=\"text-align: right;\">\n",
              "      <th></th>\n",
              "      <th>filmeID</th>\n",
              "      <th>titulo</th>\n",
              "      <th>generos</th>\n",
              "      <th>avaliação</th>\n",
              "      <th>num_avaliações</th>\n",
              "    </tr>\n",
              "  </thead>\n",
              "  <tbody>\n",
              "    <tr>\n",
              "      <th>0</th>\n",
              "      <td>1</td>\n",
              "      <td>Toy Story (1995)</td>\n",
              "      <td>Adventure|Animation|Children|Comedy|Fantasy</td>\n",
              "      <td>3.92</td>\n",
              "      <td>215.0</td>\n",
              "    </tr>\n",
              "    <tr>\n",
              "      <th>1</th>\n",
              "      <td>2</td>\n",
              "      <td>Jumanji (1995)</td>\n",
              "      <td>Adventure|Children|Fantasy</td>\n",
              "      <td>3.43</td>\n",
              "      <td>110.0</td>\n",
              "    </tr>\n",
              "    <tr>\n",
              "      <th>2</th>\n",
              "      <td>3</td>\n",
              "      <td>Grumpier Old Men (1995)</td>\n",
              "      <td>Comedy|Romance</td>\n",
              "      <td>3.26</td>\n",
              "      <td>52.0</td>\n",
              "    </tr>\n",
              "    <tr>\n",
              "      <th>3</th>\n",
              "      <td>4</td>\n",
              "      <td>Waiting to Exhale (1995)</td>\n",
              "      <td>Comedy|Drama|Romance</td>\n",
              "      <td>2.36</td>\n",
              "      <td>7.0</td>\n",
              "    </tr>\n",
              "    <tr>\n",
              "      <th>4</th>\n",
              "      <td>5</td>\n",
              "      <td>Father of the Bride Part II (1995)</td>\n",
              "      <td>Comedy</td>\n",
              "      <td>3.07</td>\n",
              "      <td>49.0</td>\n",
              "    </tr>\n",
              "    <tr>\n",
              "      <th>...</th>\n",
              "      <td>...</td>\n",
              "      <td>...</td>\n",
              "      <td>...</td>\n",
              "      <td>...</td>\n",
              "      <td>...</td>\n",
              "    </tr>\n",
              "    <tr>\n",
              "      <th>9737</th>\n",
              "      <td>193581</td>\n",
              "      <td>Black Butler: Book of the Atlantic (2017)</td>\n",
              "      <td>Action|Animation|Comedy|Fantasy</td>\n",
              "      <td>4.00</td>\n",
              "      <td>1.0</td>\n",
              "    </tr>\n",
              "    <tr>\n",
              "      <th>9738</th>\n",
              "      <td>193583</td>\n",
              "      <td>No Game No Life: Zero (2017)</td>\n",
              "      <td>Animation|Comedy|Fantasy</td>\n",
              "      <td>3.50</td>\n",
              "      <td>1.0</td>\n",
              "    </tr>\n",
              "    <tr>\n",
              "      <th>9739</th>\n",
              "      <td>193585</td>\n",
              "      <td>Flint (2017)</td>\n",
              "      <td>Drama</td>\n",
              "      <td>3.50</td>\n",
              "      <td>1.0</td>\n",
              "    </tr>\n",
              "    <tr>\n",
              "      <th>9740</th>\n",
              "      <td>193587</td>\n",
              "      <td>Bungo Stray Dogs: Dead Apple (2018)</td>\n",
              "      <td>Action|Animation</td>\n",
              "      <td>3.50</td>\n",
              "      <td>1.0</td>\n",
              "    </tr>\n",
              "    <tr>\n",
              "      <th>9741</th>\n",
              "      <td>193609</td>\n",
              "      <td>Andrew Dice Clay: Dice Rules (1991)</td>\n",
              "      <td>Comedy</td>\n",
              "      <td>4.00</td>\n",
              "      <td>1.0</td>\n",
              "    </tr>\n",
              "  </tbody>\n",
              "</table>\n",
              "<p>9742 rows × 5 columns</p>\n",
              "</div>"
            ],
            "text/plain": [
              "      filmeID  ... num_avaliações\n",
              "0           1  ...          215.0\n",
              "1           2  ...          110.0\n",
              "2           3  ...           52.0\n",
              "3           4  ...            7.0\n",
              "4           5  ...           49.0\n",
              "...       ...  ...            ...\n",
              "9737   193581  ...            1.0\n",
              "9738   193583  ...            1.0\n",
              "9739   193585  ...            1.0\n",
              "9740   193587  ...            1.0\n",
              "9741   193609  ...            1.0\n",
              "\n",
              "[9742 rows x 5 columns]"
            ]
          },
          "metadata": {
            "tags": []
          },
          "execution_count": 55
        }
      ]
    },
    {
      "cell_type": "code",
      "metadata": {
        "id": "ujQ74w6BfQL8",
        "colab_type": "code",
        "outputId": "8f44bd32-9e3a-49e3-aba2-d0f8cf8476b7",
        "colab": {
          "base_uri": "https://localhost:8080/",
          "height": 359
        }
      },
      "source": [
        "# Podemos agora, por exemplo, organizar os dados a partir do número de avaliações\n",
        "filmes_por_avaliacao.sort_values('num_avaliações', ascending=False).head(10)"
      ],
      "execution_count": 56,
      "outputs": [
        {
          "output_type": "execute_result",
          "data": {
            "text/html": [
              "<div>\n",
              "<style scoped>\n",
              "    .dataframe tbody tr th:only-of-type {\n",
              "        vertical-align: middle;\n",
              "    }\n",
              "\n",
              "    .dataframe tbody tr th {\n",
              "        vertical-align: top;\n",
              "    }\n",
              "\n",
              "    .dataframe thead th {\n",
              "        text-align: right;\n",
              "    }\n",
              "</style>\n",
              "<table border=\"1\" class=\"dataframe\">\n",
              "  <thead>\n",
              "    <tr style=\"text-align: right;\">\n",
              "      <th></th>\n",
              "      <th>filmeID</th>\n",
              "      <th>titulo</th>\n",
              "      <th>generos</th>\n",
              "      <th>avaliação</th>\n",
              "      <th>num_avaliações</th>\n",
              "    </tr>\n",
              "  </thead>\n",
              "  <tbody>\n",
              "    <tr>\n",
              "      <th>314</th>\n",
              "      <td>356</td>\n",
              "      <td>Forrest Gump (1994)</td>\n",
              "      <td>Comedy|Drama|Romance|War</td>\n",
              "      <td>4.16</td>\n",
              "      <td>329.0</td>\n",
              "    </tr>\n",
              "    <tr>\n",
              "      <th>277</th>\n",
              "      <td>318</td>\n",
              "      <td>Shawshank Redemption, The (1994)</td>\n",
              "      <td>Crime|Drama</td>\n",
              "      <td>4.43</td>\n",
              "      <td>317.0</td>\n",
              "    </tr>\n",
              "    <tr>\n",
              "      <th>257</th>\n",
              "      <td>296</td>\n",
              "      <td>Pulp Fiction (1994)</td>\n",
              "      <td>Comedy|Crime|Drama|Thriller</td>\n",
              "      <td>4.20</td>\n",
              "      <td>307.0</td>\n",
              "    </tr>\n",
              "    <tr>\n",
              "      <th>510</th>\n",
              "      <td>593</td>\n",
              "      <td>Silence of the Lambs, The (1991)</td>\n",
              "      <td>Crime|Horror|Thriller</td>\n",
              "      <td>4.16</td>\n",
              "      <td>279.0</td>\n",
              "    </tr>\n",
              "    <tr>\n",
              "      <th>1939</th>\n",
              "      <td>2571</td>\n",
              "      <td>Matrix, The (1999)</td>\n",
              "      <td>Action|Sci-Fi|Thriller</td>\n",
              "      <td>4.19</td>\n",
              "      <td>278.0</td>\n",
              "    </tr>\n",
              "    <tr>\n",
              "      <th>224</th>\n",
              "      <td>260</td>\n",
              "      <td>Star Wars: Episode IV - A New Hope (1977)</td>\n",
              "      <td>Action|Adventure|Sci-Fi</td>\n",
              "      <td>4.23</td>\n",
              "      <td>251.0</td>\n",
              "    </tr>\n",
              "    <tr>\n",
              "      <th>418</th>\n",
              "      <td>480</td>\n",
              "      <td>Jurassic Park (1993)</td>\n",
              "      <td>Action|Adventure|Sci-Fi|Thriller</td>\n",
              "      <td>3.75</td>\n",
              "      <td>238.0</td>\n",
              "    </tr>\n",
              "    <tr>\n",
              "      <th>97</th>\n",
              "      <td>110</td>\n",
              "      <td>Braveheart (1995)</td>\n",
              "      <td>Action|Drama|War</td>\n",
              "      <td>4.03</td>\n",
              "      <td>237.0</td>\n",
              "    </tr>\n",
              "    <tr>\n",
              "      <th>507</th>\n",
              "      <td>589</td>\n",
              "      <td>Terminator 2: Judgment Day (1991)</td>\n",
              "      <td>Action|Sci-Fi</td>\n",
              "      <td>3.97</td>\n",
              "      <td>224.0</td>\n",
              "    </tr>\n",
              "    <tr>\n",
              "      <th>461</th>\n",
              "      <td>527</td>\n",
              "      <td>Schindler's List (1993)</td>\n",
              "      <td>Drama|War</td>\n",
              "      <td>4.22</td>\n",
              "      <td>220.0</td>\n",
              "    </tr>\n",
              "  </tbody>\n",
              "</table>\n",
              "</div>"
            ],
            "text/plain": [
              "      filmeID  ... num_avaliações\n",
              "314       356  ...          329.0\n",
              "277       318  ...          317.0\n",
              "257       296  ...          307.0\n",
              "510       593  ...          279.0\n",
              "1939     2571  ...          278.0\n",
              "224       260  ...          251.0\n",
              "418       480  ...          238.0\n",
              "97        110  ...          237.0\n",
              "507       589  ...          224.0\n",
              "461       527  ...          220.0\n",
              "\n",
              "[10 rows x 5 columns]"
            ]
          },
          "metadata": {
            "tags": []
          },
          "execution_count": 56
        }
      ]
    },
    {
      "cell_type": "markdown",
      "metadata": {
        "id": "gzO2d6Tuy8TT",
        "colab_type": "text"
      },
      "source": [
        "**DESAFIO 4. Descobrir quantos gêneros existem e seus nomes únicos**\\\n",
        "Vamos agora tentar descobrir o número de Gêneros existentes e seus nomes únicos. Faremos isso de dois modos. O primeiro utilizando o laço de repetição \n",
        "**for** e **listas**. O segundo usando um método do pandas para lidar com variáveis de tipo **string** chamado `get.dummies()`. "
      ]
    },
    {
      "cell_type": "markdown",
      "metadata": {
        "id": "ajvpkLbBoUDC",
        "colab_type": "text"
      },
      "source": [
        "PRIMEIRO MODO: Laços FOR e Listas"
      ]
    },
    {
      "cell_type": "code",
      "metadata": {
        "id": "XnN8fpfJS3It",
        "colab_type": "code",
        "outputId": "737f9130-2fd1-40e6-c24d-65e05ae7a54d",
        "colab": {
          "base_uri": "https://localhost:8080/",
          "height": 34
        }
      },
      "source": [
        "# Primeiro modo. Fazendo uma lista com os nomes do gêneros do primeiro filme do\n",
        "# DataFrame. Usamos o método split() para indicar o ponto em que separamos os \n",
        "#elementos. \n",
        "lista = filmes_por_avaliacao[\"generos\"][0].split(\"|\")\n",
        "lista\n",
        "\n",
        "# Os gêneros ficam guardados numa lista, que tem indexação numérica (0,1,2,3...).\n"
      ],
      "execution_count": 57,
      "outputs": [
        {
          "output_type": "execute_result",
          "data": {
            "text/plain": [
              "['Adventure', 'Animation', 'Children', 'Comedy', 'Fantasy']"
            ]
          },
          "metadata": {
            "tags": []
          },
          "execution_count": 57
        }
      ]
    },
    {
      "cell_type": "code",
      "metadata": {
        "id": "CV4ZEmVJkCCI",
        "colab_type": "code",
        "outputId": "06e0f1f4-232d-4a6c-fe22-81a23dff8779",
        "colab": {
          "base_uri": "https://localhost:8080/",
          "height": 71
        }
      },
      "source": [
        "\"\"\" Agora vamos usa o laço for para vazer todos os valores no DataFrame da coluna\n",
        "generos. Para cada valor, criaremos uma lista (lista1) com os nomes dos gêneros, usando\n",
        "a mesma lógica do passo anterior, com o split(),etc. Para cada nome dessa lista1,\n",
        "(o segundo for), se esse nome não estiver na lista original (lista), nós adicionamos ele, \n",
        "até que tenhamos varridos todos os elementos. Ao final, nossa lista original terá\n",
        "o nome de todos os gêneros, sem repeti-los. \"\"\" \n",
        "\n",
        "for gen in filmes_por_avaliacao[\"generos\"]:\n",
        "  lista1 = gen.split(\"|\")\n",
        "  for c in lista1:\n",
        "    if c not in lista:\n",
        "      lista.append(c)\n",
        "    else:\n",
        "      continue\n",
        "print(lista)\n",
        "\n",
        "# O número de gêneros é dado pelo tamanho da lista, usando o método len(lista).\n",
        "len(lista)\n",
        "\n"
      ],
      "execution_count": 58,
      "outputs": [
        {
          "output_type": "stream",
          "text": [
            "['Adventure', 'Animation', 'Children', 'Comedy', 'Fantasy', 'Romance', 'Drama', 'Action', 'Crime', 'Thriller', 'Horror', 'Mystery', 'Sci-Fi', 'War', 'Musical', 'Documentary', 'IMAX', 'Western', 'Film-Noir', '(no genres listed)']\n"
          ],
          "name": "stdout"
        },
        {
          "output_type": "execute_result",
          "data": {
            "text/plain": [
              "20"
            ]
          },
          "metadata": {
            "tags": []
          },
          "execution_count": 58
        }
      ]
    },
    {
      "cell_type": "markdown",
      "metadata": {
        "id": "UlLveULPoZGv",
        "colab_type": "text"
      },
      "source": [
        "SEGUNDO MODO: usando o método `get.dummies()` do pandas. "
      ]
    },
    {
      "cell_type": "code",
      "metadata": {
        "id": "mCVT5j1xish5",
        "colab_type": "code",
        "outputId": "529758b7-8b9d-436b-fc41-40d0fd95fa56",
        "colab": {
          "base_uri": "https://localhost:8080/",
          "height": 473
        }
      },
      "source": [
        "#Segundo modo.Outro modo de fazer é utilizando o método get_dummies do pandas.\n",
        "dummy_generos = filmes_por_avaliacao.generos.str.get_dummies('|')\n",
        "# O método vai retornar um outro DataFrame com as strings nas colunas, já em ordem\n",
        "# alfabética, e nas linhas, correspondentes às avaliações, se essas strings aparecerem\n",
        "# contabiliza-se um ponto (1)\n",
        "dummy_generos\n"
      ],
      "execution_count": 59,
      "outputs": [
        {
          "output_type": "execute_result",
          "data": {
            "text/html": [
              "<div>\n",
              "<style scoped>\n",
              "    .dataframe tbody tr th:only-of-type {\n",
              "        vertical-align: middle;\n",
              "    }\n",
              "\n",
              "    .dataframe tbody tr th {\n",
              "        vertical-align: top;\n",
              "    }\n",
              "\n",
              "    .dataframe thead th {\n",
              "        text-align: right;\n",
              "    }\n",
              "</style>\n",
              "<table border=\"1\" class=\"dataframe\">\n",
              "  <thead>\n",
              "    <tr style=\"text-align: right;\">\n",
              "      <th></th>\n",
              "      <th>(no genres listed)</th>\n",
              "      <th>Action</th>\n",
              "      <th>Adventure</th>\n",
              "      <th>Animation</th>\n",
              "      <th>Children</th>\n",
              "      <th>Comedy</th>\n",
              "      <th>Crime</th>\n",
              "      <th>Documentary</th>\n",
              "      <th>Drama</th>\n",
              "      <th>Fantasy</th>\n",
              "      <th>Film-Noir</th>\n",
              "      <th>Horror</th>\n",
              "      <th>IMAX</th>\n",
              "      <th>Musical</th>\n",
              "      <th>Mystery</th>\n",
              "      <th>Romance</th>\n",
              "      <th>Sci-Fi</th>\n",
              "      <th>Thriller</th>\n",
              "      <th>War</th>\n",
              "      <th>Western</th>\n",
              "    </tr>\n",
              "  </thead>\n",
              "  <tbody>\n",
              "    <tr>\n",
              "      <th>0</th>\n",
              "      <td>0</td>\n",
              "      <td>0</td>\n",
              "      <td>1</td>\n",
              "      <td>1</td>\n",
              "      <td>1</td>\n",
              "      <td>1</td>\n",
              "      <td>0</td>\n",
              "      <td>0</td>\n",
              "      <td>0</td>\n",
              "      <td>1</td>\n",
              "      <td>0</td>\n",
              "      <td>0</td>\n",
              "      <td>0</td>\n",
              "      <td>0</td>\n",
              "      <td>0</td>\n",
              "      <td>0</td>\n",
              "      <td>0</td>\n",
              "      <td>0</td>\n",
              "      <td>0</td>\n",
              "      <td>0</td>\n",
              "    </tr>\n",
              "    <tr>\n",
              "      <th>1</th>\n",
              "      <td>0</td>\n",
              "      <td>0</td>\n",
              "      <td>1</td>\n",
              "      <td>0</td>\n",
              "      <td>1</td>\n",
              "      <td>0</td>\n",
              "      <td>0</td>\n",
              "      <td>0</td>\n",
              "      <td>0</td>\n",
              "      <td>1</td>\n",
              "      <td>0</td>\n",
              "      <td>0</td>\n",
              "      <td>0</td>\n",
              "      <td>0</td>\n",
              "      <td>0</td>\n",
              "      <td>0</td>\n",
              "      <td>0</td>\n",
              "      <td>0</td>\n",
              "      <td>0</td>\n",
              "      <td>0</td>\n",
              "    </tr>\n",
              "    <tr>\n",
              "      <th>2</th>\n",
              "      <td>0</td>\n",
              "      <td>0</td>\n",
              "      <td>0</td>\n",
              "      <td>0</td>\n",
              "      <td>0</td>\n",
              "      <td>1</td>\n",
              "      <td>0</td>\n",
              "      <td>0</td>\n",
              "      <td>0</td>\n",
              "      <td>0</td>\n",
              "      <td>0</td>\n",
              "      <td>0</td>\n",
              "      <td>0</td>\n",
              "      <td>0</td>\n",
              "      <td>0</td>\n",
              "      <td>1</td>\n",
              "      <td>0</td>\n",
              "      <td>0</td>\n",
              "      <td>0</td>\n",
              "      <td>0</td>\n",
              "    </tr>\n",
              "    <tr>\n",
              "      <th>3</th>\n",
              "      <td>0</td>\n",
              "      <td>0</td>\n",
              "      <td>0</td>\n",
              "      <td>0</td>\n",
              "      <td>0</td>\n",
              "      <td>1</td>\n",
              "      <td>0</td>\n",
              "      <td>0</td>\n",
              "      <td>1</td>\n",
              "      <td>0</td>\n",
              "      <td>0</td>\n",
              "      <td>0</td>\n",
              "      <td>0</td>\n",
              "      <td>0</td>\n",
              "      <td>0</td>\n",
              "      <td>1</td>\n",
              "      <td>0</td>\n",
              "      <td>0</td>\n",
              "      <td>0</td>\n",
              "      <td>0</td>\n",
              "    </tr>\n",
              "    <tr>\n",
              "      <th>4</th>\n",
              "      <td>0</td>\n",
              "      <td>0</td>\n",
              "      <td>0</td>\n",
              "      <td>0</td>\n",
              "      <td>0</td>\n",
              "      <td>1</td>\n",
              "      <td>0</td>\n",
              "      <td>0</td>\n",
              "      <td>0</td>\n",
              "      <td>0</td>\n",
              "      <td>0</td>\n",
              "      <td>0</td>\n",
              "      <td>0</td>\n",
              "      <td>0</td>\n",
              "      <td>0</td>\n",
              "      <td>0</td>\n",
              "      <td>0</td>\n",
              "      <td>0</td>\n",
              "      <td>0</td>\n",
              "      <td>0</td>\n",
              "    </tr>\n",
              "    <tr>\n",
              "      <th>...</th>\n",
              "      <td>...</td>\n",
              "      <td>...</td>\n",
              "      <td>...</td>\n",
              "      <td>...</td>\n",
              "      <td>...</td>\n",
              "      <td>...</td>\n",
              "      <td>...</td>\n",
              "      <td>...</td>\n",
              "      <td>...</td>\n",
              "      <td>...</td>\n",
              "      <td>...</td>\n",
              "      <td>...</td>\n",
              "      <td>...</td>\n",
              "      <td>...</td>\n",
              "      <td>...</td>\n",
              "      <td>...</td>\n",
              "      <td>...</td>\n",
              "      <td>...</td>\n",
              "      <td>...</td>\n",
              "      <td>...</td>\n",
              "    </tr>\n",
              "    <tr>\n",
              "      <th>9737</th>\n",
              "      <td>0</td>\n",
              "      <td>1</td>\n",
              "      <td>0</td>\n",
              "      <td>1</td>\n",
              "      <td>0</td>\n",
              "      <td>1</td>\n",
              "      <td>0</td>\n",
              "      <td>0</td>\n",
              "      <td>0</td>\n",
              "      <td>1</td>\n",
              "      <td>0</td>\n",
              "      <td>0</td>\n",
              "      <td>0</td>\n",
              "      <td>0</td>\n",
              "      <td>0</td>\n",
              "      <td>0</td>\n",
              "      <td>0</td>\n",
              "      <td>0</td>\n",
              "      <td>0</td>\n",
              "      <td>0</td>\n",
              "    </tr>\n",
              "    <tr>\n",
              "      <th>9738</th>\n",
              "      <td>0</td>\n",
              "      <td>0</td>\n",
              "      <td>0</td>\n",
              "      <td>1</td>\n",
              "      <td>0</td>\n",
              "      <td>1</td>\n",
              "      <td>0</td>\n",
              "      <td>0</td>\n",
              "      <td>0</td>\n",
              "      <td>1</td>\n",
              "      <td>0</td>\n",
              "      <td>0</td>\n",
              "      <td>0</td>\n",
              "      <td>0</td>\n",
              "      <td>0</td>\n",
              "      <td>0</td>\n",
              "      <td>0</td>\n",
              "      <td>0</td>\n",
              "      <td>0</td>\n",
              "      <td>0</td>\n",
              "    </tr>\n",
              "    <tr>\n",
              "      <th>9739</th>\n",
              "      <td>0</td>\n",
              "      <td>0</td>\n",
              "      <td>0</td>\n",
              "      <td>0</td>\n",
              "      <td>0</td>\n",
              "      <td>0</td>\n",
              "      <td>0</td>\n",
              "      <td>0</td>\n",
              "      <td>1</td>\n",
              "      <td>0</td>\n",
              "      <td>0</td>\n",
              "      <td>0</td>\n",
              "      <td>0</td>\n",
              "      <td>0</td>\n",
              "      <td>0</td>\n",
              "      <td>0</td>\n",
              "      <td>0</td>\n",
              "      <td>0</td>\n",
              "      <td>0</td>\n",
              "      <td>0</td>\n",
              "    </tr>\n",
              "    <tr>\n",
              "      <th>9740</th>\n",
              "      <td>0</td>\n",
              "      <td>1</td>\n",
              "      <td>0</td>\n",
              "      <td>1</td>\n",
              "      <td>0</td>\n",
              "      <td>0</td>\n",
              "      <td>0</td>\n",
              "      <td>0</td>\n",
              "      <td>0</td>\n",
              "      <td>0</td>\n",
              "      <td>0</td>\n",
              "      <td>0</td>\n",
              "      <td>0</td>\n",
              "      <td>0</td>\n",
              "      <td>0</td>\n",
              "      <td>0</td>\n",
              "      <td>0</td>\n",
              "      <td>0</td>\n",
              "      <td>0</td>\n",
              "      <td>0</td>\n",
              "    </tr>\n",
              "    <tr>\n",
              "      <th>9741</th>\n",
              "      <td>0</td>\n",
              "      <td>0</td>\n",
              "      <td>0</td>\n",
              "      <td>0</td>\n",
              "      <td>0</td>\n",
              "      <td>1</td>\n",
              "      <td>0</td>\n",
              "      <td>0</td>\n",
              "      <td>0</td>\n",
              "      <td>0</td>\n",
              "      <td>0</td>\n",
              "      <td>0</td>\n",
              "      <td>0</td>\n",
              "      <td>0</td>\n",
              "      <td>0</td>\n",
              "      <td>0</td>\n",
              "      <td>0</td>\n",
              "      <td>0</td>\n",
              "      <td>0</td>\n",
              "      <td>0</td>\n",
              "    </tr>\n",
              "  </tbody>\n",
              "</table>\n",
              "<p>9742 rows × 20 columns</p>\n",
              "</div>"
            ],
            "text/plain": [
              "      (no genres listed)  Action  Adventure  ...  Thriller  War  Western\n",
              "0                      0       0          1  ...         0    0        0\n",
              "1                      0       0          1  ...         0    0        0\n",
              "2                      0       0          0  ...         0    0        0\n",
              "3                      0       0          0  ...         0    0        0\n",
              "4                      0       0          0  ...         0    0        0\n",
              "...                  ...     ...        ...  ...       ...  ...      ...\n",
              "9737                   0       1          0  ...         0    0        0\n",
              "9738                   0       0          0  ...         0    0        0\n",
              "9739                   0       0          0  ...         0    0        0\n",
              "9740                   0       1          0  ...         0    0        0\n",
              "9741                   0       0          0  ...         0    0        0\n",
              "\n",
              "[9742 rows x 20 columns]"
            ]
          },
          "metadata": {
            "tags": []
          },
          "execution_count": 59
        }
      ]
    },
    {
      "cell_type": "code",
      "metadata": {
        "id": "rp-uEZMknte4",
        "colab_type": "code",
        "outputId": "9caf173b-fbb7-4c88-9107-50b419e05100",
        "colab": {
          "base_uri": "https://localhost:8080/",
          "height": 357
        }
      },
      "source": [
        "# Agora podemos transformar as colunas desses gêneros em uma lista, com indexação\n",
        "# numérica, usando o método \"to_list()\"\n",
        "generos = dummy_generos.columns.to_list()\n",
        "generos"
      ],
      "execution_count": 60,
      "outputs": [
        {
          "output_type": "execute_result",
          "data": {
            "text/plain": [
              "['(no genres listed)',\n",
              " 'Action',\n",
              " 'Adventure',\n",
              " 'Animation',\n",
              " 'Children',\n",
              " 'Comedy',\n",
              " 'Crime',\n",
              " 'Documentary',\n",
              " 'Drama',\n",
              " 'Fantasy',\n",
              " 'Film-Noir',\n",
              " 'Horror',\n",
              " 'IMAX',\n",
              " 'Musical',\n",
              " 'Mystery',\n",
              " 'Romance',\n",
              " 'Sci-Fi',\n",
              " 'Thriller',\n",
              " 'War',\n",
              " 'Western']"
            ]
          },
          "metadata": {
            "tags": []
          },
          "execution_count": 60
        }
      ]
    },
    {
      "cell_type": "markdown",
      "metadata": {
        "id": "qUNis3JzzfsN",
        "colab_type": "text"
      },
      "source": [
        "**DESAFIO 5. Descobrir quantos filmes tem em cada gênero**\\\n",
        "Agora vamos tentar descobrir quais são os gêneros que mais aparecem. Faremos isso de dois modos, igual ao desafio anterior. O primeiro definindo uma **função** e depois usando o laço **for**. O segundo usando o método `.sum()`. "
      ]
    },
    {
      "cell_type": "markdown",
      "metadata": {
        "id": "io_tJMbtwyIi",
        "colab_type": "text"
      },
      "source": [
        "PRIMEIRO MODO: funções e listas"
      ]
    },
    {
      "cell_type": "code",
      "metadata": {
        "id": "ZtVo3g09ZNE2",
        "colab_type": "code",
        "outputId": "e9b6f3fd-ec2a-4a6d-f717-7d5715c25b1b",
        "colab": {
          "base_uri": "https://localhost:8080/",
          "height": 697
        }
      },
      "source": [
        "# A função vai receber como parâmetro o nome do gênero\n",
        "def freqGênero(msg): \n",
        "  cont = 0\n",
        "  for elemento in filmes_por_avaliacao[\"generos\"]:\n",
        "    valores = elemento.split(\"|\")\n",
        "    if msg in elemento:\n",
        "      cont += 1\n",
        "  return cont \n",
        "\n",
        "# Criar outra listas com as frequências.\n",
        "frequencia = list()\n",
        "for c in generos:\n",
        "  print(f'Nome do filme: {c} - Aparições: {freqGênero(c)}')\n",
        "  frequencia.append(freqGênero(c))\n",
        "\n",
        "frequencia\n"
      ],
      "execution_count": 61,
      "outputs": [
        {
          "output_type": "stream",
          "text": [
            "Nome do filme: (no genres listed) - Aparições: 34\n",
            "Nome do filme: Action - Aparições: 1828\n",
            "Nome do filme: Adventure - Aparições: 1263\n",
            "Nome do filme: Animation - Aparições: 611\n",
            "Nome do filme: Children - Aparições: 664\n",
            "Nome do filme: Comedy - Aparições: 3756\n",
            "Nome do filme: Crime - Aparições: 1199\n",
            "Nome do filme: Documentary - Aparições: 440\n",
            "Nome do filme: Drama - Aparições: 4361\n",
            "Nome do filme: Fantasy - Aparições: 779\n",
            "Nome do filme: Film-Noir - Aparições: 87\n",
            "Nome do filme: Horror - Aparições: 978\n",
            "Nome do filme: IMAX - Aparições: 158\n",
            "Nome do filme: Musical - Aparições: 334\n",
            "Nome do filme: Mystery - Aparições: 573\n",
            "Nome do filme: Romance - Aparições: 1596\n",
            "Nome do filme: Sci-Fi - Aparições: 980\n",
            "Nome do filme: Thriller - Aparições: 1894\n",
            "Nome do filme: War - Aparições: 382\n",
            "Nome do filme: Western - Aparições: 167\n"
          ],
          "name": "stdout"
        },
        {
          "output_type": "execute_result",
          "data": {
            "text/plain": [
              "[34,\n",
              " 1828,\n",
              " 1263,\n",
              " 611,\n",
              " 664,\n",
              " 3756,\n",
              " 1199,\n",
              " 440,\n",
              " 4361,\n",
              " 779,\n",
              " 87,\n",
              " 978,\n",
              " 158,\n",
              " 334,\n",
              " 573,\n",
              " 1596,\n",
              " 980,\n",
              " 1894,\n",
              " 382,\n",
              " 167]"
            ]
          },
          "metadata": {
            "tags": []
          },
          "execution_count": 61
        }
      ]
    },
    {
      "cell_type": "markdown",
      "metadata": {
        "id": "4sU9bhWVw3d8",
        "colab_type": "text"
      },
      "source": [
        "SEGUNDO MODO: método `sum.()` e Series"
      ]
    },
    {
      "cell_type": "code",
      "metadata": {
        "id": "0tJtDnMsqvOl",
        "colab_type": "code",
        "outputId": "bedba9fc-ec2e-4f63-a33d-ccdceb09ad89",
        "colab": {
          "base_uri": "https://localhost:8080/",
          "height": 374
        }
      },
      "source": [
        "# Segundo modo. Pode-se pegar o DF com os gêneros e simplesmente\n",
        "# somar suas colunas, retornando uma Series com os índices igual aos \n",
        "# gêneros e os valores iguais ao número de aparições... \n",
        "total_de_filmes_por_generos = dummy_generos.sum()\n",
        "total_de_filmes_por_generos\n"
      ],
      "execution_count": 62,
      "outputs": [
        {
          "output_type": "execute_result",
          "data": {
            "text/plain": [
              "(no genres listed)      34\n",
              "Action                1828\n",
              "Adventure             1263\n",
              "Animation              611\n",
              "Children               664\n",
              "Comedy                3756\n",
              "Crime                 1199\n",
              "Documentary            440\n",
              "Drama                 4361\n",
              "Fantasy                779\n",
              "Film-Noir               87\n",
              "Horror                 978\n",
              "IMAX                   158\n",
              "Musical                334\n",
              "Mystery                573\n",
              "Romance               1596\n",
              "Sci-Fi                 980\n",
              "Thriller              1894\n",
              "War                    382\n",
              "Western                167\n",
              "dtype: int64"
            ]
          },
          "metadata": {
            "tags": []
          },
          "execution_count": 62
        }
      ]
    },
    {
      "cell_type": "markdown",
      "metadata": {
        "id": "Co91gTN20ED1",
        "colab_type": "text"
      },
      "source": [
        "**DESAFIO 6. Fazer um plot do gráfico de barras de cada gênero**\\\n",
        "Vamos agora plotar um gráfico de barras para termos uma melhor visualização da\n",
        "diferença do número de gêneros. "
      ]
    },
    {
      "cell_type": "code",
      "metadata": {
        "id": "zbQ9Je0giC2U",
        "colab_type": "code",
        "outputId": "d94b1973-6213-44f3-f33c-c9f7fe731867",
        "colab": {
          "base_uri": "https://localhost:8080/",
          "height": 811
        }
      },
      "source": [
        "# Agora com as Series em mãos, vamos fazer o histograma, definindo o tamanho, a cor das barras e o título do gráfico.\n",
        "total_de_filmes_por_generos.sort_values(ascending=False).plot(kind='bar', figsize=(16, 12), color='green', title='Avaliações por gênero')\n"
      ],
      "execution_count": 63,
      "outputs": [
        {
          "output_type": "execute_result",
          "data": {
            "text/plain": [
              "<matplotlib.axes._subplots.AxesSubplot at 0x7fa84c3ec160>"
            ]
          },
          "metadata": {
            "tags": []
          },
          "execution_count": 63
        },
        {
          "output_type": "display_data",
          "data": {
            "image/png": "[encoded data removed]",
            "text/plain": [
              "<Figure size 1152x864 with 1 Axes>"
            ]
          },
          "metadata": {
            "tags": [],
            "needs_background": "light"
          }
        }
      ]
    },
    {
      "cell_type": "markdown",
      "metadata": {
        "id": "JIxiZc6eygUd",
        "colab_type": "text"
      },
      "source": [
        "# Parte 2"
      ]
    },
    {
      "cell_type": "markdown",
      "metadata": {
        "id": "bvEVuO7pbEEI",
        "colab_type": "text"
      },
      "source": [
        "## Analisando medidas de centro com histogramas e boxplot\n",
        "Nesta segunda parte vamos estudar com mais profundidade as técnicas de centralidade e conhecer algumas boas práticas de visualização de dados. \n",
        "\n",
        "Vamos começar pelo **desafio 05**, onde segregamos os gêneros de cada um dos filmes contidos na base de dados do **Movie Lens**. \n",
        "\n",
        "Vamos relembrar como os dados estavam configurados.\n",
        "\n"
      ]
    },
    {
      "cell_type": "code",
      "metadata": {
        "id": "xRP2p3G2be1j",
        "colab_type": "code",
        "colab": {
          "base_uri": "https://localhost:8080/",
          "height": 374
        },
        "outputId": "4c33d69c-fdbe-4506-8f04-56c234b54147"
      },
      "source": [
        "# Primeiro temos uma Series dos gêneros e o número de seus aparecimentos, ordenados\n",
        "# do maior para o menor... \n",
        "total_de_filmes_por_generos.sort_values(ascending=False)\n",
        "\n"
      ],
      "execution_count": 77,
      "outputs": [
        {
          "output_type": "execute_result",
          "data": {
            "text/plain": [
              "Drama                 4361\n",
              "Comedy                3756\n",
              "Thriller              1894\n",
              "Action                1828\n",
              "Romance               1596\n",
              "Adventure             1263\n",
              "Crime                 1199\n",
              "Sci-Fi                 980\n",
              "Horror                 978\n",
              "Fantasy                779\n",
              "Children               664\n",
              "Animation              611\n",
              "Mystery                573\n",
              "Documentary            440\n",
              "War                    382\n",
              "Musical                334\n",
              "Western                167\n",
              "IMAX                   158\n",
              "Film-Noir               87\n",
              "(no genres listed)      34\n",
              "dtype: int64"
            ]
          },
          "metadata": {
            "tags": []
          },
          "execution_count": 77
        }
      ]
    },
    {
      "cell_type": "markdown",
      "metadata": {
        "id": "bSGFgb6ncAu0",
        "colab_type": "text"
      },
      "source": [
        "Podemos agora fazer um gráfico para analisar esses dados de forma mais clara. O plot padrão do pandas é um gráfico de linhas..."
      ]
    },
    {
      "cell_type": "code",
      "metadata": {
        "id": "IQW_oJWVcIQo",
        "colab_type": "code",
        "colab": {
          "base_uri": "https://localhost:8080/",
          "height": 609
        },
        "outputId": "a5e1ca23-a999-467f-b5eb-74d156b395d4"
      },
      "source": [
        "total_de_filmes_por_generos.sort_values(ascending=False).plot(figsize=(12,10))"
      ],
      "execution_count": 80,
      "outputs": [
        {
          "output_type": "execute_result",
          "data": {
            "text/plain": [
              "<matplotlib.axes._subplots.AxesSubplot at 0x7fa841b74198>"
            ]
          },
          "metadata": {
            "tags": []
          },
          "execution_count": 80
        },
        {
          "output_type": "display_data",
          "data": {
            "image/png": "[encoded data removed]",
            "text/plain": [
              "<Figure size 864x720 with 1 Axes>"
            ]
          },
          "metadata": {
            "tags": []
          }
        }
      ]
    },
    {
      "cell_type": "markdown",
      "metadata": {
        "id": "yQ4IqVUtdd3d",
        "colab_type": "text"
      },
      "source": [
        "Vemos que esse gráfico de linhas não faz nenhum sentido nesse contexto, proque o gênero de filmes é uma variável categórica (dividida por categorias). Então vamos tentar o gráfico de pizza. "
      ]
    },
    {
      "cell_type": "code",
      "metadata": {
        "id": "DsdMc7qtMGeH",
        "colab_type": "code",
        "colab": {
          "base_uri": "https://localhost:8080/",
          "height": 519
        },
        "outputId": "218a0f24-d44a-48ef-e36b-52aae4ec8c05"
      },
      "source": [
        "# Plotando o gráfico de pizza...  \n",
        "total_de_filmes_por_generos.sort_values(ascending=False).plot(\n",
        "     kind='pie', figsize=(12,8), title=\"Frequência de genêros fílmicos\")\n",
        "\n"
      ],
      "execution_count": 82,
      "outputs": [
        {
          "output_type": "execute_result",
          "data": {
            "text/plain": [
              "'\\nEsse gráfico se mostra inadequado por vários motivos\\n1 - As corese se repetem\\n2 - É dificil visualizar a magnitude da diferença exata entre os gêneros, principalmente entre\\naqueles que tem valores parecidos (ex: Musical e War, Thriller e Action...)\\n3 - É um gráfico intransparente, portanto! \\n'"
            ]
          },
          "metadata": {
            "tags": []
          },
          "execution_count": 82
        },
        {
          "output_type": "display_data",
          "data": {
            "image/png": "[encoded data removed]",
            "text/plain": [
              "<Figure size 864x576 with 1 Axes>"
            ]
          },
          "metadata": {
            "tags": []
          }
        }
      ]
    },
    {
      "cell_type": "markdown",
      "metadata": {
        "id": "Cx099lKXeMHK",
        "colab_type": "text"
      },
      "source": [
        "Esse gráfico se mostra inadequado por vários motivos: \\\n",
        "**1** - Vemos que as cores se repetem \\\n",
        "**2** - É dificil visualizar a magnitude da diferença exata entre os gêneros, principalmente entre aqueles que tem valores parecidos (ex: Musical e War, Thriller e Action...) \\\n",
        "**3** - É um gráfico intransparente, portanto! \n"
      ]
    },
    {
      "cell_type": "markdown",
      "metadata": {
        "id": "vKFz-4-je3pp",
        "colab_type": "text"
      },
      "source": [
        "Uma solução mais adequada seria plotar o gráfico de barras, como fizemos no **desafio 06** da parte 1. Porém, podemos melhorá-lo mais ainda... Primeiro vamos colocar um grid (uma grade) de linhas para visualizarmos melhor a magnitude das diferenças. Para isso, vamos importar a biblioteca **seaborn**. "
      ]
    },
    {
      "cell_type": "code",
      "metadata": {
        "id": "xd0r1UJ9P2AC",
        "colab_type": "code",
        "colab": {
          "base_uri": "https://localhost:8080/",
          "height": 811
        },
        "outputId": "d86d0e39-a3e1-4779-98d9-35670eeb75b0"
      },
      "source": [
        "import seaborn as sns\n",
        "sns.set_style('whitegrid')\n",
        "total_de_filmes_por_generos.sort_values(ascending=False).plot(kind='bar', figsize=(16, 12), color='green', title='Avaliações por gênero')"
      ],
      "execution_count": 83,
      "outputs": [
        {
          "output_type": "execute_result",
          "data": {
            "text/plain": [
              "<matplotlib.axes._subplots.AxesSubplot at 0x7fa841714860>"
            ]
          },
          "metadata": {
            "tags": []
          },
          "execution_count": 83
        },
        {
          "output_type": "display_data",
          "data": {
            "image/png": "[encoded data removed]",
            "text/plain": [
              "<Figure size 1152x864 with 1 Axes>"
            ]
          },
          "metadata": {
            "tags": []
          }
        }
      ]
    },
    {
      "cell_type": "markdown",
      "metadata": {
        "id": "ZlP5qcfoh3kN",
        "colab_type": "text"
      },
      "source": [
        "O gráfico de barras está muito melhor de visualizarmos as diferenças entre os \n",
        "gêneros. \n",
        "\n",
        "Veja como o gráfico de barra torna a análise mais simples, logo de cara a diferença entre **Drama e Comedy**, comparado aos demais gêneros fica evidênte. No gráfico de pizza era super difícil comparar **Thriller e Action**, agora a comparação ficou fácil e conseguimos perceber o quão perto estão uma da outra.\n",
        "\n",
        "A interpretação dos dados melhorou muito com essa visualização, mas podemos melhorar ainda mais. O que queremos é tornar evidênte os gêneros que tem a maior participação nos filmes em geral, ou seja transparecer através da imagem uma visão geral de proporcionalidade. Para tornar evidênte essa informação vamos utilizar algo \"semelhante\" a um mapa de calor. \n",
        "\n",
        "Para isso vamos plotar o gráfico pelo **seaborn**, que nos dá funcionalidades extras. Para facilitar a inserção do código, vamos colocar os dados ordenados da Series dentro de uma variável.\n",
        "\n",
        "Não plotamos mais a imagem com o `.plot()` do pandas. Chamamos o barplot do seaborn, adicionando uma paleta de cores com efeito de mapa de calor (parâmetro pallette), no parâmetro `n_color` de `sns.color_palette()` adicionamos +4 para que a última barra não seja totalmente transparente. "
      ]
    },
    {
      "cell_type": "code",
      "metadata": {
        "id": "2gFh3JDSRNuq",
        "colab_type": "code",
        "colab": {
          "base_uri": "https://localhost:8080/",
          "height": 592
        },
        "outputId": "27e97652-ead6-42c6-d2f0-d2176f4ad836"
      },
      "source": [
        "ordem = total_de_filmes_por_generos.sort_values(ascending=False)\n",
        "plt.figure(figsize=(20, 10))\n",
        "sns.barplot(x=ordem.index,\n",
        "            y=ordem.values,\n",
        "            palette=sns.color_palette(\"BuGn_r\", n_colors=len(ordem) + 4), )\n",
        "\n",
        "plt.show()\n",
        "\n"
      ],
      "execution_count": 89,
      "outputs": [
        {
          "output_type": "display_data",
          "data": {
            "image/png": "[encoded data removed]",
            "text/plain": [
              "<Figure size 1440x720 with 1 Axes>"
            ]
          },
          "metadata": {
            "tags": []
          }
        }
      ]
    },
    {
      "cell_type": "markdown",
      "metadata": {
        "id": "dKypXarkmebg",
        "colab_type": "text"
      },
      "source": [
        "Conseguimos analisar e tirar diversas conclusões trabalhando com a visualização dos gêneros. Será que conseguimos utilizar visualizações para entender melhor as notas de um filme?\n",
        "\n",
        "Vamos relembrar alguns pontos que já discutimos e nos aprofundar nas análises de notas para tirar conclusões mais sofisticadas.\n"
      ]
    },
    {
      "cell_type": "markdown",
      "metadata": {
        "id": "3C_HePEvmtKJ",
        "colab_type": "text"
      },
      "source": [
        "Na **parte 01** calculamos as notas médias por filmes, vamos dar uma olhada no resultado."
      ]
    },
    {
      "cell_type": "code",
      "metadata": {
        "id": "Ge2MsVsAm0Ey",
        "colab_type": "code",
        "colab": {
          "base_uri": "https://localhost:8080/",
          "height": 204
        },
        "outputId": "c2db1c83-ec54-4c9f-cc75-e8918c60b39d"
      },
      "source": [
        "filmes_por_avaliacao.head()"
      ],
      "execution_count": 90,
      "outputs": [
        {
          "output_type": "execute_result",
          "data": {
            "text/html": [
              "<div>\n",
              "<style scoped>\n",
              "    .dataframe tbody tr th:only-of-type {\n",
              "        vertical-align: middle;\n",
              "    }\n",
              "\n",
              "    .dataframe tbody tr th {\n",
              "        vertical-align: top;\n",
              "    }\n",
              "\n",
              "    .dataframe thead th {\n",
              "        text-align: right;\n",
              "    }\n",
              "</style>\n",
              "<table border=\"1\" class=\"dataframe\">\n",
              "  <thead>\n",
              "    <tr style=\"text-align: right;\">\n",
              "      <th></th>\n",
              "      <th>filmeID</th>\n",
              "      <th>titulo</th>\n",
              "      <th>generos</th>\n",
              "      <th>media_notas</th>\n",
              "      <th>num_avaliações</th>\n",
              "    </tr>\n",
              "  </thead>\n",
              "  <tbody>\n",
              "    <tr>\n",
              "      <th>0</th>\n",
              "      <td>1</td>\n",
              "      <td>Toy Story (1995)</td>\n",
              "      <td>Adventure|Animation|Children|Comedy|Fantasy</td>\n",
              "      <td>3.92</td>\n",
              "      <td>215.0</td>\n",
              "    </tr>\n",
              "    <tr>\n",
              "      <th>1</th>\n",
              "      <td>2</td>\n",
              "      <td>Jumanji (1995)</td>\n",
              "      <td>Adventure|Children|Fantasy</td>\n",
              "      <td>3.43</td>\n",
              "      <td>110.0</td>\n",
              "    </tr>\n",
              "    <tr>\n",
              "      <th>2</th>\n",
              "      <td>3</td>\n",
              "      <td>Grumpier Old Men (1995)</td>\n",
              "      <td>Comedy|Romance</td>\n",
              "      <td>3.26</td>\n",
              "      <td>52.0</td>\n",
              "    </tr>\n",
              "    <tr>\n",
              "      <th>3</th>\n",
              "      <td>4</td>\n",
              "      <td>Waiting to Exhale (1995)</td>\n",
              "      <td>Comedy|Drama|Romance</td>\n",
              "      <td>2.36</td>\n",
              "      <td>7.0</td>\n",
              "    </tr>\n",
              "    <tr>\n",
              "      <th>4</th>\n",
              "      <td>5</td>\n",
              "      <td>Father of the Bride Part II (1995)</td>\n",
              "      <td>Comedy</td>\n",
              "      <td>3.07</td>\n",
              "      <td>49.0</td>\n",
              "    </tr>\n",
              "  </tbody>\n",
              "</table>\n",
              "</div>"
            ],
            "text/plain": [
              "   filmeID                              titulo  ... media_notas  num_avaliações\n",
              "0        1                    Toy Story (1995)  ...        3.92           215.0\n",
              "1        2                      Jumanji (1995)  ...        3.43           110.0\n",
              "2        3             Grumpier Old Men (1995)  ...        3.26            52.0\n",
              "3        4            Waiting to Exhale (1995)  ...        2.36             7.0\n",
              "4        5  Father of the Bride Part II (1995)  ...        3.07            49.0\n",
              "\n",
              "[5 rows x 5 columns]"
            ]
          },
          "metadata": {
            "tags": []
          },
          "execution_count": 90
        }
      ]
    },
    {
      "cell_type": "markdown",
      "metadata": {
        "id": "JX9iQP98oOlP",
        "colab_type": "text"
      },
      "source": [
        "Como vimos, olhar apenas as médias pode ser um problema e para interpretar um pouco melhor os dados usamos o histograma das notas para comparar alguns filmes. Por exemplo, **Toy Story e Jumanji**. "
      ]
    },
    {
      "cell_type": "code",
      "metadata": {
        "id": "Ig82uWMVbeHp",
        "colab_type": "code",
        "colab": {
          "base_uri": "https://localhost:8080/",
          "height": 533
        },
        "outputId": "a92cc3cf-1e21-4fef-8e28-87b61f16f9b6"
      },
      "source": [
        "#Agora usar o mesmo método de histograma para analisarmos as notas dos filmes.\n",
        "print(f'{notas.query(\"filmeID==1\")[\"avaliação\"].mean():.2f}') # printar a média\n",
        "notas.query(\"filmeID==1\")[\"avaliação\"].plot(kind='hist', figsize=(12,8), title=\"Avaliações de Toy Story\")\n"
      ],
      "execution_count": 91,
      "outputs": [
        {
          "output_type": "stream",
          "text": [
            "3.92\n"
          ],
          "name": "stdout"
        },
        {
          "output_type": "execute_result",
          "data": {
            "text/plain": [
              "<matplotlib.axes._subplots.AxesSubplot at 0x7fa8410fab38>"
            ]
          },
          "metadata": {
            "tags": []
          },
          "execution_count": 91
        },
        {
          "output_type": "display_data",
          "data": {
            "image/png": "[encoded data removed]",
            "text/plain": [
              "<Figure size 864x576 with 1 Axes>"
            ]
          },
          "metadata": {
            "tags": []
          }
        }
      ]
    },
    {
      "cell_type": "code",
      "metadata": {
        "id": "rljmLvbMfIHm",
        "colab_type": "code",
        "colab": {
          "base_uri": "https://localhost:8080/",
          "height": 533
        },
        "outputId": "032ae903-1625-4627-9daf-8248dd3e6613"
      },
      "source": [
        "print(f'{notas.query(\"filmeID==2\")[\"avaliação\"].mean():.2f}')\n",
        "notas.query(\"filmeID==2\")[\"avaliação\"].plot(kind=\"hist\", figsize=(12,8), title='Avaliações de Jumanji')"
      ],
      "execution_count": 92,
      "outputs": [
        {
          "output_type": "stream",
          "text": [
            "3.43\n"
          ],
          "name": "stdout"
        },
        {
          "output_type": "execute_result",
          "data": {
            "text/plain": [
              "<matplotlib.axes._subplots.AxesSubplot at 0x7fa841074b70>"
            ]
          },
          "metadata": {
            "tags": []
          },
          "execution_count": 92
        },
        {
          "output_type": "display_data",
          "data": {
            "image/png": "[encoded data removed]",
            "text/plain": [
              "<Figure size 864x576 with 1 Axes>"
            ]
          },
          "metadata": {
            "tags": []
          }
        }
      ]
    },
    {
      "cell_type": "markdown",
      "metadata": {
        "id": "O5viU8GtpUOO",
        "colab_type": "text"
      },
      "source": [
        "ToyStory e Jumanji tem médias relativamente próximas mas com comportamento de notas diferentes, então, para nosso exemplo, as médias ajudam mas esconde informações importantes sobre os dados.\n",
        "\n",
        "Outras métricas que podem nos ajudar a interpretar melhor os dados são os quartis, principalmente a mediana. \n",
        "\n",
        "Vamos buscar dois filmes com médias muito mais próximas que Toy Story e Jumanji, para analisar outras métricas além das médias. Vamos utilizar o fatiamento do Python para buscar valores no meio do DataFrame. "
      ]
    },
    {
      "cell_type": "code",
      "metadata": {
        "id": "qPdx3NzGka4K",
        "colab_type": "code",
        "colab": {
          "base_uri": "https://localhost:8080/",
          "height": 1000
        },
        "outputId": "26da6893-cede-4b66-e899-995970638290"
      },
      "source": [
        "filmes_por_avaliacao.sort_values(\"media_notas\", ascending=False)[2470:2520]"
      ],
      "execution_count": 100,
      "outputs": [
        {
          "output_type": "execute_result",
          "data": {
            "text/html": [
              "<div>\n",
              "<style scoped>\n",
              "    .dataframe tbody tr th:only-of-type {\n",
              "        vertical-align: middle;\n",
              "    }\n",
              "\n",
              "    .dataframe tbody tr th {\n",
              "        vertical-align: top;\n",
              "    }\n",
              "\n",
              "    .dataframe thead th {\n",
              "        text-align: right;\n",
              "    }\n",
              "</style>\n",
              "<table border=\"1\" class=\"dataframe\">\n",
              "  <thead>\n",
              "    <tr style=\"text-align: right;\">\n",
              "      <th></th>\n",
              "      <th>filmeID</th>\n",
              "      <th>titulo</th>\n",
              "      <th>generos</th>\n",
              "      <th>media_notas</th>\n",
              "      <th>num_avaliações</th>\n",
              "    </tr>\n",
              "  </thead>\n",
              "  <tbody>\n",
              "    <tr>\n",
              "      <th>1323</th>\n",
              "      <td>1785</td>\n",
              "      <td>King of New York (1990)</td>\n",
              "      <td>Crime|Thriller</td>\n",
              "      <td>3.90</td>\n",
              "      <td>5.0</td>\n",
              "    </tr>\n",
              "    <tr>\n",
              "      <th>802</th>\n",
              "      <td>1050</td>\n",
              "      <td>Looking for Richard (1996)</td>\n",
              "      <td>Documentary|Drama</td>\n",
              "      <td>3.90</td>\n",
              "      <td>5.0</td>\n",
              "    </tr>\n",
              "    <tr>\n",
              "      <th>6613</th>\n",
              "      <td>55820</td>\n",
              "      <td>No Country for Old Men (2007)</td>\n",
              "      <td>Crime|Drama</td>\n",
              "      <td>3.90</td>\n",
              "      <td>64.0</td>\n",
              "    </tr>\n",
              "    <tr>\n",
              "      <th>86</th>\n",
              "      <td>97</td>\n",
              "      <td>Hate (Haine, La) (1995)</td>\n",
              "      <td>Crime|Drama</td>\n",
              "      <td>3.90</td>\n",
              "      <td>10.0</td>\n",
              "    </tr>\n",
              "    <tr>\n",
              "      <th>9710</th>\n",
              "      <td>187595</td>\n",
              "      <td>Solo: A Star Wars Story (2018)</td>\n",
              "      <td>Action|Adventure|Children|Sci-Fi</td>\n",
              "      <td>3.90</td>\n",
              "      <td>5.0</td>\n",
              "    </tr>\n",
              "    <tr>\n",
              "      <th>785</th>\n",
              "      <td>1028</td>\n",
              "      <td>Mary Poppins (1964)</td>\n",
              "      <td>Children|Comedy|Fantasy|Musical</td>\n",
              "      <td>3.89</td>\n",
              "      <td>71.0</td>\n",
              "    </tr>\n",
              "    <tr>\n",
              "      <th>706</th>\n",
              "      <td>924</td>\n",
              "      <td>2001: A Space Odyssey (1968)</td>\n",
              "      <td>Adventure|Drama|Sci-Fi</td>\n",
              "      <td>3.89</td>\n",
              "      <td>109.0</td>\n",
              "    </tr>\n",
              "    <tr>\n",
              "      <th>3564</th>\n",
              "      <td>4880</td>\n",
              "      <td>Life as a House (2001)</td>\n",
              "      <td>Drama</td>\n",
              "      <td>3.89</td>\n",
              "      <td>9.0</td>\n",
              "    </tr>\n",
              "    <tr>\n",
              "      <th>6884</th>\n",
              "      <td>63072</td>\n",
              "      <td>Road, The (2009)</td>\n",
              "      <td>Adventure|Drama|Thriller</td>\n",
              "      <td>3.89</td>\n",
              "      <td>9.0</td>\n",
              "    </tr>\n",
              "    <tr>\n",
              "      <th>1608</th>\n",
              "      <td>2150</td>\n",
              "      <td>Gods Must Be Crazy, The (1980)</td>\n",
              "      <td>Adventure|Comedy</td>\n",
              "      <td>3.89</td>\n",
              "      <td>28.0</td>\n",
              "    </tr>\n",
              "    <tr>\n",
              "      <th>5165</th>\n",
              "      <td>8366</td>\n",
              "      <td>Saved! (2004)</td>\n",
              "      <td>Comedy|Drama</td>\n",
              "      <td>3.89</td>\n",
              "      <td>14.0</td>\n",
              "    </tr>\n",
              "    <tr>\n",
              "      <th>4258</th>\n",
              "      <td>6214</td>\n",
              "      <td>Irreversible (Irréversible) (2002)</td>\n",
              "      <td>Crime|Drama|Mystery|Thriller</td>\n",
              "      <td>3.89</td>\n",
              "      <td>9.0</td>\n",
              "    </tr>\n",
              "    <tr>\n",
              "      <th>5885</th>\n",
              "      <td>33166</td>\n",
              "      <td>Crash (2004)</td>\n",
              "      <td>Crime|Drama</td>\n",
              "      <td>3.89</td>\n",
              "      <td>50.0</td>\n",
              "    </tr>\n",
              "    <tr>\n",
              "      <th>7413</th>\n",
              "      <td>80463</td>\n",
              "      <td>Social Network, The (2010)</td>\n",
              "      <td>Drama</td>\n",
              "      <td>3.89</td>\n",
              "      <td>57.0</td>\n",
              "    </tr>\n",
              "    <tr>\n",
              "      <th>1432</th>\n",
              "      <td>1955</td>\n",
              "      <td>Kramer vs. Kramer (1979)</td>\n",
              "      <td>Drama</td>\n",
              "      <td>3.89</td>\n",
              "      <td>14.0</td>\n",
              "    </tr>\n",
              "    <tr>\n",
              "      <th>2078</th>\n",
              "      <td>2762</td>\n",
              "      <td>Sixth Sense, The (1999)</td>\n",
              "      <td>Drama|Horror|Mystery</td>\n",
              "      <td>3.89</td>\n",
              "      <td>179.0</td>\n",
              "    </tr>\n",
              "    <tr>\n",
              "      <th>5572</th>\n",
              "      <td>26776</td>\n",
              "      <td>Porco Rosso (Crimson Pig) (Kurenai no buta) (1...</td>\n",
              "      <td>Adventure|Animation|Comedy|Fantasy|Romance</td>\n",
              "      <td>3.89</td>\n",
              "      <td>14.0</td>\n",
              "    </tr>\n",
              "    <tr>\n",
              "      <th>7078</th>\n",
              "      <td>69844</td>\n",
              "      <td>Harry Potter and the Half-Blood Prince (2009)</td>\n",
              "      <td>Adventure|Fantasy|Mystery|Romance|IMAX</td>\n",
              "      <td>3.89</td>\n",
              "      <td>58.0</td>\n",
              "    </tr>\n",
              "    <tr>\n",
              "      <th>2191</th>\n",
              "      <td>2912</td>\n",
              "      <td>Limey, The (1999)</td>\n",
              "      <td>Crime|Drama|Thriller</td>\n",
              "      <td>3.89</td>\n",
              "      <td>14.0</td>\n",
              "    </tr>\n",
              "    <tr>\n",
              "      <th>198</th>\n",
              "      <td>232</td>\n",
              "      <td>Eat Drink Man Woman (Yin shi nan nu) (1994)</td>\n",
              "      <td>Comedy|Drama|Romance</td>\n",
              "      <td>3.89</td>\n",
              "      <td>14.0</td>\n",
              "    </tr>\n",
              "    <tr>\n",
              "      <th>9223</th>\n",
              "      <td>152081</td>\n",
              "      <td>Zootopia (2016)</td>\n",
              "      <td>Action|Adventure|Animation|Children|Comedy</td>\n",
              "      <td>3.89</td>\n",
              "      <td>32.0</td>\n",
              "    </tr>\n",
              "    <tr>\n",
              "      <th>225</th>\n",
              "      <td>261</td>\n",
              "      <td>Little Women (1994)</td>\n",
              "      <td>Drama</td>\n",
              "      <td>3.88</td>\n",
              "      <td>42.0</td>\n",
              "    </tr>\n",
              "    <tr>\n",
              "      <th>1651</th>\n",
              "      <td>2204</td>\n",
              "      <td>Saboteur (1942)</td>\n",
              "      <td>Mystery|Thriller</td>\n",
              "      <td>3.88</td>\n",
              "      <td>4.0</td>\n",
              "    </tr>\n",
              "    <tr>\n",
              "      <th>8189</th>\n",
              "      <td>103141</td>\n",
              "      <td>Monsters University (2013)</td>\n",
              "      <td>Adventure|Animation|Comedy</td>\n",
              "      <td>3.88</td>\n",
              "      <td>16.0</td>\n",
              "    </tr>\n",
              "    <tr>\n",
              "      <th>3344</th>\n",
              "      <td>4529</td>\n",
              "      <td>Bagdad Cafe (Out of Rosenheim) (1987)</td>\n",
              "      <td>Comedy|Drama</td>\n",
              "      <td>3.88</td>\n",
              "      <td>4.0</td>\n",
              "    </tr>\n",
              "    <tr>\n",
              "      <th>127</th>\n",
              "      <td>154</td>\n",
              "      <td>Beauty of the Day (Belle de jour) (1967)</td>\n",
              "      <td>Drama</td>\n",
              "      <td>3.88</td>\n",
              "      <td>12.0</td>\n",
              "    </tr>\n",
              "    <tr>\n",
              "      <th>701</th>\n",
              "      <td>919</td>\n",
              "      <td>Wizard of Oz, The (1939)</td>\n",
              "      <td>Adventure|Children|Fantasy|Musical</td>\n",
              "      <td>3.88</td>\n",
              "      <td>92.0</td>\n",
              "    </tr>\n",
              "    <tr>\n",
              "      <th>6176</th>\n",
              "      <td>44761</td>\n",
              "      <td>Brick (2005)</td>\n",
              "      <td>Crime|Drama|Film-Noir|Mystery</td>\n",
              "      <td>3.88</td>\n",
              "      <td>12.0</td>\n",
              "    </tr>\n",
              "    <tr>\n",
              "      <th>2426</th>\n",
              "      <td>3230</td>\n",
              "      <td>Odessa File, The (1974)</td>\n",
              "      <td>Thriller</td>\n",
              "      <td>3.88</td>\n",
              "      <td>4.0</td>\n",
              "    </tr>\n",
              "    <tr>\n",
              "      <th>2704</th>\n",
              "      <td>3627</td>\n",
              "      <td>Carnival of Souls (1962)</td>\n",
              "      <td>Horror|Thriller</td>\n",
              "      <td>3.88</td>\n",
              "      <td>4.0</td>\n",
              "    </tr>\n",
              "    <tr>\n",
              "      <th>5725</th>\n",
              "      <td>27878</td>\n",
              "      <td>Born into Brothels (2004)</td>\n",
              "      <td>Documentary</td>\n",
              "      <td>3.88</td>\n",
              "      <td>4.0</td>\n",
              "    </tr>\n",
              "    <tr>\n",
              "      <th>6223</th>\n",
              "      <td>45728</td>\n",
              "      <td>Clerks II (2006)</td>\n",
              "      <td>Comedy</td>\n",
              "      <td>3.88</td>\n",
              "      <td>13.0</td>\n",
              "    </tr>\n",
              "    <tr>\n",
              "      <th>2357</th>\n",
              "      <td>3117</td>\n",
              "      <td>Ride with the Devil (1999)</td>\n",
              "      <td>Drama|Romance|War</td>\n",
              "      <td>3.88</td>\n",
              "      <td>4.0</td>\n",
              "    </tr>\n",
              "    <tr>\n",
              "      <th>3899</th>\n",
              "      <td>5477</td>\n",
              "      <td>Sex and Lucia (Lucía y el sexo) (2001)</td>\n",
              "      <td>Drama|Romance</td>\n",
              "      <td>3.88</td>\n",
              "      <td>4.0</td>\n",
              "    </tr>\n",
              "    <tr>\n",
              "      <th>5775</th>\n",
              "      <td>31410</td>\n",
              "      <td>Downfall (Untergang, Der) (2004)</td>\n",
              "      <td>Drama|War</td>\n",
              "      <td>3.88</td>\n",
              "      <td>20.0</td>\n",
              "    </tr>\n",
              "    <tr>\n",
              "      <th>6151</th>\n",
              "      <td>44191</td>\n",
              "      <td>V for Vendetta (2006)</td>\n",
              "      <td>Action|Sci-Fi|Thriller|IMAX</td>\n",
              "      <td>3.88</td>\n",
              "      <td>100.0</td>\n",
              "    </tr>\n",
              "    <tr>\n",
              "      <th>4118</th>\n",
              "      <td>5903</td>\n",
              "      <td>Equilibrium (2002)</td>\n",
              "      <td>Action|Sci-Fi|Thriller</td>\n",
              "      <td>3.88</td>\n",
              "      <td>44.0</td>\n",
              "    </tr>\n",
              "    <tr>\n",
              "      <th>5625</th>\n",
              "      <td>27193</td>\n",
              "      <td>Taxi 2 (2000)</td>\n",
              "      <td>Action|Comedy</td>\n",
              "      <td>3.88</td>\n",
              "      <td>4.0</td>\n",
              "    </tr>\n",
              "    <tr>\n",
              "      <th>1355</th>\n",
              "      <td>1844</td>\n",
              "      <td>Live Flesh (Carne trémula) (1997)</td>\n",
              "      <td>Drama|Romance</td>\n",
              "      <td>3.88</td>\n",
              "      <td>4.0</td>\n",
              "    </tr>\n",
              "    <tr>\n",
              "      <th>6068</th>\n",
              "      <td>40955</td>\n",
              "      <td>Breakfast on Pluto (2005)</td>\n",
              "      <td>Comedy|Drama</td>\n",
              "      <td>3.88</td>\n",
              "      <td>4.0</td>\n",
              "    </tr>\n",
              "    <tr>\n",
              "      <th>4097</th>\n",
              "      <td>5873</td>\n",
              "      <td>The Emperor's Club (2002)</td>\n",
              "      <td>Drama</td>\n",
              "      <td>3.88</td>\n",
              "      <td>4.0</td>\n",
              "    </tr>\n",
              "    <tr>\n",
              "      <th>1044</th>\n",
              "      <td>1356</td>\n",
              "      <td>Star Trek: First Contact (1996)</td>\n",
              "      <td>Action|Adventure|Sci-Fi|Thriller</td>\n",
              "      <td>3.88</td>\n",
              "      <td>91.0</td>\n",
              "    </tr>\n",
              "    <tr>\n",
              "      <th>7489</th>\n",
              "      <td>82667</td>\n",
              "      <td>I Saw the Devil (Akmareul boatda) (2010)</td>\n",
              "      <td>Crime|Thriller</td>\n",
              "      <td>3.88</td>\n",
              "      <td>4.0</td>\n",
              "    </tr>\n",
              "    <tr>\n",
              "      <th>968</th>\n",
              "      <td>1269</td>\n",
              "      <td>Arsenic and Old Lace (1944)</td>\n",
              "      <td>Comedy|Mystery|Thriller</td>\n",
              "      <td>3.88</td>\n",
              "      <td>29.0</td>\n",
              "    </tr>\n",
              "    <tr>\n",
              "      <th>3570</th>\n",
              "      <td>4888</td>\n",
              "      <td>Tape (2001)</td>\n",
              "      <td>Drama</td>\n",
              "      <td>3.88</td>\n",
              "      <td>4.0</td>\n",
              "    </tr>\n",
              "    <tr>\n",
              "      <th>1949</th>\n",
              "      <td>2583</td>\n",
              "      <td>Cookie's Fortune (1999)</td>\n",
              "      <td>Comedy|Drama</td>\n",
              "      <td>3.88</td>\n",
              "      <td>12.0</td>\n",
              "    </tr>\n",
              "    <tr>\n",
              "      <th>912</th>\n",
              "      <td>1211</td>\n",
              "      <td>Wings of Desire (Himmel über Berlin, Der) (1987)</td>\n",
              "      <td>Drama|Fantasy|Romance</td>\n",
              "      <td>3.88</td>\n",
              "      <td>13.0</td>\n",
              "    </tr>\n",
              "    <tr>\n",
              "      <th>6242</th>\n",
              "      <td>46578</td>\n",
              "      <td>Little Miss Sunshine (2006)</td>\n",
              "      <td>Adventure|Comedy|Drama</td>\n",
              "      <td>3.88</td>\n",
              "      <td>77.0</td>\n",
              "    </tr>\n",
              "    <tr>\n",
              "      <th>463</th>\n",
              "      <td>529</td>\n",
              "      <td>Searching for Bobby Fischer (1993)</td>\n",
              "      <td>Drama</td>\n",
              "      <td>3.88</td>\n",
              "      <td>40.0</td>\n",
              "    </tr>\n",
              "    <tr>\n",
              "      <th>8592</th>\n",
              "      <td>117533</td>\n",
              "      <td>Citizenfour (2014)</td>\n",
              "      <td>Documentary</td>\n",
              "      <td>3.88</td>\n",
              "      <td>4.0</td>\n",
              "    </tr>\n",
              "  </tbody>\n",
              "</table>\n",
              "</div>"
            ],
            "text/plain": [
              "      filmeID  ... num_avaliações\n",
              "1323     1785  ...            5.0\n",
              "802      1050  ...            5.0\n",
              "6613    55820  ...           64.0\n",
              "86         97  ...           10.0\n",
              "9710   187595  ...            5.0\n",
              "785      1028  ...           71.0\n",
              "706       924  ...          109.0\n",
              "3564     4880  ...            9.0\n",
              "6884    63072  ...            9.0\n",
              "1608     2150  ...           28.0\n",
              "5165     8366  ...           14.0\n",
              "4258     6214  ...            9.0\n",
              "5885    33166  ...           50.0\n",
              "7413    80463  ...           57.0\n",
              "1432     1955  ...           14.0\n",
              "2078     2762  ...          179.0\n",
              "5572    26776  ...           14.0\n",
              "7078    69844  ...           58.0\n",
              "2191     2912  ...           14.0\n",
              "198       232  ...           14.0\n",
              "9223   152081  ...           32.0\n",
              "225       261  ...           42.0\n",
              "1651     2204  ...            4.0\n",
              "8189   103141  ...           16.0\n",
              "3344     4529  ...            4.0\n",
              "127       154  ...           12.0\n",
              "701       919  ...           92.0\n",
              "6176    44761  ...           12.0\n",
              "2426     3230  ...            4.0\n",
              "2704     3627  ...            4.0\n",
              "5725    27878  ...            4.0\n",
              "6223    45728  ...           13.0\n",
              "2357     3117  ...            4.0\n",
              "3899     5477  ...            4.0\n",
              "5775    31410  ...           20.0\n",
              "6151    44191  ...          100.0\n",
              "4118     5903  ...           44.0\n",
              "5625    27193  ...            4.0\n",
              "1355     1844  ...            4.0\n",
              "6068    40955  ...            4.0\n",
              "4097     5873  ...            4.0\n",
              "1044     1356  ...           91.0\n",
              "7489    82667  ...            4.0\n",
              "968      1269  ...           29.0\n",
              "3570     4888  ...            4.0\n",
              "1949     2583  ...           12.0\n",
              "912      1211  ...           13.0\n",
              "6242    46578  ...           77.0\n",
              "463       529  ...           40.0\n",
              "8592   117533  ...            4.0\n",
              "\n",
              "[50 rows x 5 columns]"
            ]
          },
          "metadata": {
            "tags": []
          },
          "execution_count": 100
        }
      ]
    },
    {
      "cell_type": "markdown",
      "metadata": {
        "id": "FMRXpjDtwtmf",
        "colab_type": "text"
      },
      "source": [
        "Ordenando os filmes pelas notas médias e fatiando os dados entre 2470 e 2520, temos uma região onde as médias são semelhantes. Vamos comparar o filme **Wizard of Oz** (filmeId=919) e **Little Miss Sunshine** (filmeId=46578). Ambos tem um bom número de avaliações, 92 e 77, respectivamente. \n",
        "\n",
        "Para não precisar copiar e colar toda hora o plot dos gráficos vamos criar uma **função**, assim passamos apenas o FilmeId e temos as informações desejadas. Vamos fazer uma função para plotar a distribuição de histograma dos filmes, já com o gráfico de caixas e com a descrição dos dados. \n"
      ]
    },
    {
      "cell_type": "code",
      "metadata": {
        "id": "r_Xlrot2gMMj",
        "colab_type": "code",
        "colab": {
          "base_uri": "https://localhost:8080/",
          "height": 700
        },
        "outputId": "77d50d53-3453-446e-920e-31f0888bd27e"
      },
      "source": [
        "  def histfilmes(id):\n",
        "    notas.query(f'filmeID=={id}')[\"avaliação\"].plot(kind=\"hist\")\n",
        "    plt.show()\n",
        "    print('\\n')\n",
        "    notas.query(f'filmeID=={id}')[\"avaliação\"].plot.box() #Fazer o gráfico de caixa\n",
        "    plt.show()\n",
        "    return notas.query(f'filmeID=={id}')[\"avaliação\"].describe()\n",
        "\n",
        "# Agora vamos passar a função para o filme histograma do filme Mágico de OZ \n",
        "histfilmes(919)\n",
        "\n",
        "# Podemos ver que foram 92 avaliações, média de 3.880, mediana de 4 e por aí\n",
        "# vai... \n",
        "\n",
        "\n"
      ],
      "execution_count": 106,
      "outputs": [
        {
          "output_type": "display_data",
          "data": {
            "image/png": "[encoded data removed]",
            "text/plain": [
              "<Figure size 432x288 with 1 Axes>"
            ]
          },
          "metadata": {
            "tags": []
          }
        },
        {
          "output_type": "stream",
          "text": [
            "\n",
            "\n"
          ],
          "name": "stdout"
        },
        {
          "output_type": "display_data",
          "data": {
            "image/png": "[encoded data removed]",
            "text/plain": [
              "<Figure size 432x288 with 1 Axes>"
            ]
          },
          "metadata": {
            "tags": []
          }
        },
        {
          "output_type": "execute_result",
          "data": {
            "text/plain": [
              "count    92.000000\n",
              "mean      3.880435\n",
              "std       1.025418\n",
              "min       1.000000\n",
              "25%       3.000000\n",
              "50%       4.000000\n",
              "75%       5.000000\n",
              "max       5.000000\n",
              "Name: avaliação, dtype: float64"
            ]
          },
          "metadata": {
            "tags": []
          },
          "execution_count": 106
        }
      ]
    },
    {
      "cell_type": "code",
      "metadata": {
        "id": "5GI7HJJ5l_V9",
        "colab_type": "code",
        "colab": {
          "base_uri": "https://localhost:8080/",
          "height": 703
        },
        "outputId": "eb6cc445-67c0-4ff7-998a-bbab88da4e5e"
      },
      "source": [
        "# Chamemos nossa função agora para o filme \"Little Miss Sunshine\", de 1999\n",
        "histfilmes(46578)\n",
        "\n",
        "#Assim, podemos ver que apesar dos dois filmes terem a mesma média, as notas\n",
        "#para O sexto sentido foram muito mais dispersas (desvio padrão maior), teve\n",
        "#uma nota mínima (aparentemente duas)"
      ],
      "execution_count": 107,
      "outputs": [
        {
          "output_type": "display_data",
          "data": {
            "image/png": "[encoded data removed]",
            "text/plain": [
              "<Figure size 432x288 with 1 Axes>"
            ]
          },
          "metadata": {
            "tags": []
          }
        },
        {
          "output_type": "stream",
          "text": [
            "\n",
            "\n"
          ],
          "name": "stdout"
        },
        {
          "output_type": "display_data",
          "data": {
            "image/png": "[encoded data removed]",
            "text/plain": [
              "<Figure size 432x288 with 1 Axes>"
            ]
          },
          "metadata": {
            "tags": []
          }
        },
        {
          "output_type": "execute_result",
          "data": {
            "text/plain": [
              "count    77.000000\n",
              "mean      3.883117\n",
              "std       0.842522\n",
              "min       1.000000\n",
              "25%       3.500000\n",
              "50%       4.000000\n",
              "75%       4.500000\n",
              "max       5.000000\n",
              "Name: avaliação, dtype: float64"
            ]
          },
          "metadata": {
            "tags": []
          },
          "execution_count": 107
        }
      ]
    },
    {
      "cell_type": "markdown",
      "metadata": {
        "id": "K3EfasIB3RXL",
        "colab_type": "text"
      },
      "source": [
        "Agora com essas informações conseguimos comparar melhor os filmes. Analisando os histogramas vemos que muitas pessoas realmente amam **Wizard of Oz** (notas 5), mas também temos pessoas que não gostam de formal alguma (notas 1).Quando comparamos com a histograma do filme **Little miss sunshine**, percebemos que os resultados se concentram entre valores medianos(notas 2.5- 4.0) \n",
        "\n",
        "O que confirma nossa análise aqui é comparar os quartis **25% 50% e 75%**. 50% é o valor da mediana, e ambos os filmes tem a mesma mediana, mas 25% e 75% são diferentes. Visualmente, isso fica nítido no gráfico do **Boxplot**. \n",
        "\n",
        "Interpretando o Boxplot vemos que a linha verde que divide a caixa em dois é a **mediana** (compare com as estatísticas geradas pelo describe()), a parte superior da caixa é o **3° Quartil (75%)** e a parte inferior é o **1° Quartil(25%)**. \n",
        "\n",
        "Agora repare nos limites inferior e superior, representados pelas extremidades em preto. Por coincidência, no BoxPlot do __Mágico de OZ__ os limites inferior e superior são equivalentes ao ponto de máximo e mínimo, mas nem sempre será assim. Algumas vezes os limites podem sobrepor os extremos das \"caixas\" e isso geralmente ocorre quando temos uma quantidade pequena de dados.\n",
        "\n",
        "No BoxPlot do **Little miss sunshine** vemos que não há uma sobreposição do limite superior. Nesse último caso temos uma informação a mais, a bolinha localizada em ** y = 1 **. Trata-se de um valor discrepante, um *outlier*, que vai além dos limites superior e inferior. Há várias maneiras de calculá-lo, mas não entraremos em detalhes aqui.\n",
        "\n",
        "Agora comparando os boxplot dos dois filmes deixa muito mais evidente as diferenças entre eles, o que ficava complexo olhando só médias e outras informações separadas."
      ]
    },
    {
      "cell_type": "markdown",
      "metadata": {
        "id": "OllIoCPd8c_v",
        "colab_type": "text"
      },
      "source": [
        "Embora melhoramos muito nossa qualidade de análise ainda temos mais um ponto. Estamos comparando os boxplot dos filmes, então podemos juntar vários boxplot em uma imagem só. Faremos isso utilizando o **seaborn**. \n",
        "\n",
        "Chamamos o `sns.boxplot()` passando três parâmetros. Parâmetro **dados** é um DataFrame das notas dos filmes com **Toy Story**, **Jumanji**, **Wizard of Oz** e **Little miss sunshine** (usamos o `.query()` para selecionar os dados), a variável **x** é o Id do filme e a variável **y** as respectivas notas. Agora conseguimos comparar as notas dos filmes de forma muito mais clara. \n"
      ]
    },
    {
      "cell_type": "code",
      "metadata": {
        "id": "dUixTll_IBvu",
        "colab_type": "code",
        "colab": {
          "base_uri": "https://localhost:8080/",
          "height": 621
        },
        "outputId": "8c16f8c5-ce05-4acd-8d24-3e6c132eb54c"
      },
      "source": [
        "plt.figure(figsize=(12,10))\n",
        "plt.title(\"BoxPlot de vários filmes\")\n",
        "sns.boxplot(data = notas.query(\"filmeID in [1,2,919,46578]\"), x=\"filmeID\", y=\"avaliação\")\n",
        "plt.show()"
      ],
      "execution_count": 112,
      "outputs": [
        {
          "output_type": "display_data",
          "data": {
            "image/png": "[encoded data removed]",
            "text/plain": [
              "<Figure size 864x720 with 1 Axes>"
            ]
          },
          "metadata": {
            "tags": []
          }
        }
      ]
    },
    {
      "cell_type": "markdown",
      "metadata": {
        "id": "ZUFrYbpP_OsK",
        "colab_type": "text"
      },
      "source": [
        "##Desafios Parte 2"
      ]
    },
    {
      "cell_type": "markdown",
      "metadata": {
        "id": "YCrCG5KL_f1T",
        "colab_type": "text"
      },
      "source": [
        "**DESAFIO 1. Rotacionar os thicks do histograma** \\\n",
        "No histograma que fizemos dos gêneros alguns nomes ficaram embaralhados. Vamos rotacionar essas *labels* para que elas fiquem mais legíveis. Podemos fazer isso com o **pyplot** usando o método `xticks()` com o parâmetro `rotation=45`, ou seja rotacionar em 45 graus e alinhar a direita com o parâmetro `horizontalalignment=\"right\"`. "
      ]
    },
    {
      "cell_type": "code",
      "metadata": {
        "id": "agnKy_umNBEP",
        "colab_type": "code",
        "colab": {
          "base_uri": "https://localhost:8080/",
          "height": 651
        },
        "outputId": "5428f74f-20dd-4bc4-d38f-ec4437cf407c"
      },
      "source": [
        "plt.figure(figsize=(20, 10))\n",
        "sns.barplot(x=ordem.index,\n",
        "            y=ordem.values,\n",
        "            palette=sns.color_palette(\"BuGn_r\", n_colors=len(ordem) + 4), )\n",
        "plt.xticks(rotation=45, horizontalalignment=\"right\")\n",
        "plt.show()"
      ],
      "execution_count": 113,
      "outputs": [
        {
          "output_type": "display_data",
          "data": {
            "image/png": "[encoded data removed]",
            "text/plain": [
              "<Figure size 1440x720 with 1 Axes>"
            ]
          },
          "metadata": {
            "tags": []
          }
        }
      ]
    },
    {
      "cell_type": "markdown",
      "metadata": {
        "id": "aLF8_mxKLTTW",
        "colab_type": "text"
      },
      "source": [
        "**DESAFIO 2. Criar o boxplot dos 10 filmes mais votados, colocando o nome nos thicks, e depois analisar e tirar conclusões.** \\\n",
        "No DataFrame **filmes_por_avaliacao** já colocamos uma variável do número de avaliações. Vamos primeiro ordenar o DF por essa variável, e listar os 10 filmes mais votados colocando-os em uma variável.\n"
      ]
    },
    {
      "cell_type": "code",
      "metadata": {
        "id": "KdVdNbVCDeYT",
        "colab_type": "code",
        "colab": {
          "base_uri": "https://localhost:8080/",
          "height": 359
        },
        "outputId": "a5ff4915-3619-40f4-884a-aafe0880b0c6"
      },
      "source": [
        "top10 = filmes_por_avaliacao.sort_values(\"num_avaliações\", ascending=False).head(10)\n",
        "top10"
      ],
      "execution_count": 115,
      "outputs": [
        {
          "output_type": "execute_result",
          "data": {
            "text/html": [
              "<div>\n",
              "<style scoped>\n",
              "    .dataframe tbody tr th:only-of-type {\n",
              "        vertical-align: middle;\n",
              "    }\n",
              "\n",
              "    .dataframe tbody tr th {\n",
              "        vertical-align: top;\n",
              "    }\n",
              "\n",
              "    .dataframe thead th {\n",
              "        text-align: right;\n",
              "    }\n",
              "</style>\n",
              "<table border=\"1\" class=\"dataframe\">\n",
              "  <thead>\n",
              "    <tr style=\"text-align: right;\">\n",
              "      <th></th>\n",
              "      <th>filmeID</th>\n",
              "      <th>titulo</th>\n",
              "      <th>generos</th>\n",
              "      <th>media_notas</th>\n",
              "      <th>num_avaliações</th>\n",
              "    </tr>\n",
              "  </thead>\n",
              "  <tbody>\n",
              "    <tr>\n",
              "      <th>314</th>\n",
              "      <td>356</td>\n",
              "      <td>Forrest Gump (1994)</td>\n",
              "      <td>Comedy|Drama|Romance|War</td>\n",
              "      <td>4.16</td>\n",
              "      <td>329.0</td>\n",
              "    </tr>\n",
              "    <tr>\n",
              "      <th>277</th>\n",
              "      <td>318</td>\n",
              "      <td>Shawshank Redemption, The (1994)</td>\n",
              "      <td>Crime|Drama</td>\n",
              "      <td>4.43</td>\n",
              "      <td>317.0</td>\n",
              "    </tr>\n",
              "    <tr>\n",
              "      <th>257</th>\n",
              "      <td>296</td>\n",
              "      <td>Pulp Fiction (1994)</td>\n",
              "      <td>Comedy|Crime|Drama|Thriller</td>\n",
              "      <td>4.20</td>\n",
              "      <td>307.0</td>\n",
              "    </tr>\n",
              "    <tr>\n",
              "      <th>510</th>\n",
              "      <td>593</td>\n",
              "      <td>Silence of the Lambs, The (1991)</td>\n",
              "      <td>Crime|Horror|Thriller</td>\n",
              "      <td>4.16</td>\n",
              "      <td>279.0</td>\n",
              "    </tr>\n",
              "    <tr>\n",
              "      <th>1939</th>\n",
              "      <td>2571</td>\n",
              "      <td>Matrix, The (1999)</td>\n",
              "      <td>Action|Sci-Fi|Thriller</td>\n",
              "      <td>4.19</td>\n",
              "      <td>278.0</td>\n",
              "    </tr>\n",
              "    <tr>\n",
              "      <th>224</th>\n",
              "      <td>260</td>\n",
              "      <td>Star Wars: Episode IV - A New Hope (1977)</td>\n",
              "      <td>Action|Adventure|Sci-Fi</td>\n",
              "      <td>4.23</td>\n",
              "      <td>251.0</td>\n",
              "    </tr>\n",
              "    <tr>\n",
              "      <th>418</th>\n",
              "      <td>480</td>\n",
              "      <td>Jurassic Park (1993)</td>\n",
              "      <td>Action|Adventure|Sci-Fi|Thriller</td>\n",
              "      <td>3.75</td>\n",
              "      <td>238.0</td>\n",
              "    </tr>\n",
              "    <tr>\n",
              "      <th>97</th>\n",
              "      <td>110</td>\n",
              "      <td>Braveheart (1995)</td>\n",
              "      <td>Action|Drama|War</td>\n",
              "      <td>4.03</td>\n",
              "      <td>237.0</td>\n",
              "    </tr>\n",
              "    <tr>\n",
              "      <th>507</th>\n",
              "      <td>589</td>\n",
              "      <td>Terminator 2: Judgment Day (1991)</td>\n",
              "      <td>Action|Sci-Fi</td>\n",
              "      <td>3.97</td>\n",
              "      <td>224.0</td>\n",
              "    </tr>\n",
              "    <tr>\n",
              "      <th>461</th>\n",
              "      <td>527</td>\n",
              "      <td>Schindler's List (1993)</td>\n",
              "      <td>Drama|War</td>\n",
              "      <td>4.22</td>\n",
              "      <td>220.0</td>\n",
              "    </tr>\n",
              "  </tbody>\n",
              "</table>\n",
              "</div>"
            ],
            "text/plain": [
              "      filmeID  ... num_avaliações\n",
              "314       356  ...          329.0\n",
              "277       318  ...          317.0\n",
              "257       296  ...          307.0\n",
              "510       593  ...          279.0\n",
              "1939     2571  ...          278.0\n",
              "224       260  ...          251.0\n",
              "418       480  ...          238.0\n",
              "97        110  ...          237.0\n",
              "507       589  ...          224.0\n",
              "461       527  ...          220.0\n",
              "\n",
              "[10 rows x 5 columns]"
            ]
          },
          "metadata": {
            "tags": []
          },
          "execution_count": 115
        }
      ]
    },
    {
      "cell_type": "markdown",
      "metadata": {
        "id": "kPwVCeeeFRu7",
        "colab_type": "text"
      },
      "source": [
        "Feito isso, vamos colocar os nomes e as IDS dos filmes em listas, usando o método `to.list()`. "
      ]
    },
    {
      "cell_type": "code",
      "metadata": {
        "id": "snUFiNdhFar5",
        "colab_type": "code",
        "colab": {
          "base_uri": "https://localhost:8080/",
          "height": 187
        },
        "outputId": "ff86ac87-15dd-44ba-c36d-21ccb3a00bb3"
      },
      "source": [
        "nome_mais_votados = top10['titulo'].to_list()\n",
        "nome_mais_votados"
      ],
      "execution_count": 116,
      "outputs": [
        {
          "output_type": "execute_result",
          "data": {
            "text/plain": [
              "['Forrest Gump (1994)',\n",
              " 'Shawshank Redemption, The (1994)',\n",
              " 'Pulp Fiction (1994)',\n",
              " 'Silence of the Lambs, The (1991)',\n",
              " 'Matrix, The (1999)',\n",
              " 'Star Wars: Episode IV - A New Hope (1977)',\n",
              " 'Jurassic Park (1993)',\n",
              " 'Braveheart (1995)',\n",
              " 'Terminator 2: Judgment Day (1991)',\n",
              " \"Schindler's List (1993)\"]"
            ]
          },
          "metadata": {
            "tags": []
          },
          "execution_count": 116
        }
      ]
    },
    {
      "cell_type": "code",
      "metadata": {
        "id": "PO4ZvfeKGCly",
        "colab_type": "code",
        "colab": {
          "base_uri": "https://localhost:8080/",
          "height": 34
        },
        "outputId": "faa20bb0-98ec-45b6-9157-ec9cc2c84e4d"
      },
      "source": [
        "id_mais_votados = top10['filmeID'].to_list()\n",
        "id_mais_votados"
      ],
      "execution_count": 117,
      "outputs": [
        {
          "output_type": "execute_result",
          "data": {
            "text/plain": [
              "[356, 318, 296, 593, 2571, 260, 480, 110, 589, 527]"
            ]
          },
          "metadata": {
            "tags": []
          },
          "execution_count": 117
        }
      ]
    },
    {
      "cell_type": "code",
      "metadata": {
        "id": "whJ1LGU1Iy6i",
        "colab_type": "code",
        "colab": {
          "base_uri": "https://localhost:8080/",
          "height": 419
        },
        "outputId": "c09ae9b6-b862-4cf1-bcb6-679c30ba708e"
      },
      "source": [
        "notas"
      ],
      "execution_count": 118,
      "outputs": [
        {
          "output_type": "execute_result",
          "data": {
            "text/html": [
              "<div>\n",
              "<style scoped>\n",
              "    .dataframe tbody tr th:only-of-type {\n",
              "        vertical-align: middle;\n",
              "    }\n",
              "\n",
              "    .dataframe tbody tr th {\n",
              "        vertical-align: top;\n",
              "    }\n",
              "\n",
              "    .dataframe thead th {\n",
              "        text-align: right;\n",
              "    }\n",
              "</style>\n",
              "<table border=\"1\" class=\"dataframe\">\n",
              "  <thead>\n",
              "    <tr style=\"text-align: right;\">\n",
              "      <th></th>\n",
              "      <th>usuárioID</th>\n",
              "      <th>filmeID</th>\n",
              "      <th>avaliação</th>\n",
              "      <th>momento</th>\n",
              "    </tr>\n",
              "  </thead>\n",
              "  <tbody>\n",
              "    <tr>\n",
              "      <th>0</th>\n",
              "      <td>1</td>\n",
              "      <td>1</td>\n",
              "      <td>4.0</td>\n",
              "      <td>964982703</td>\n",
              "    </tr>\n",
              "    <tr>\n",
              "      <th>1</th>\n",
              "      <td>1</td>\n",
              "      <td>3</td>\n",
              "      <td>4.0</td>\n",
              "      <td>964981247</td>\n",
              "    </tr>\n",
              "    <tr>\n",
              "      <th>2</th>\n",
              "      <td>1</td>\n",
              "      <td>6</td>\n",
              "      <td>4.0</td>\n",
              "      <td>964982224</td>\n",
              "    </tr>\n",
              "    <tr>\n",
              "      <th>3</th>\n",
              "      <td>1</td>\n",
              "      <td>47</td>\n",
              "      <td>5.0</td>\n",
              "      <td>964983815</td>\n",
              "    </tr>\n",
              "    <tr>\n",
              "      <th>4</th>\n",
              "      <td>1</td>\n",
              "      <td>50</td>\n",
              "      <td>5.0</td>\n",
              "      <td>964982931</td>\n",
              "    </tr>\n",
              "    <tr>\n",
              "      <th>...</th>\n",
              "      <td>...</td>\n",
              "      <td>...</td>\n",
              "      <td>...</td>\n",
              "      <td>...</td>\n",
              "    </tr>\n",
              "    <tr>\n",
              "      <th>100831</th>\n",
              "      <td>610</td>\n",
              "      <td>166534</td>\n",
              "      <td>4.0</td>\n",
              "      <td>1493848402</td>\n",
              "    </tr>\n",
              "    <tr>\n",
              "      <th>100832</th>\n",
              "      <td>610</td>\n",
              "      <td>168248</td>\n",
              "      <td>5.0</td>\n",
              "      <td>1493850091</td>\n",
              "    </tr>\n",
              "    <tr>\n",
              "      <th>100833</th>\n",
              "      <td>610</td>\n",
              "      <td>168250</td>\n",
              "      <td>5.0</td>\n",
              "      <td>1494273047</td>\n",
              "    </tr>\n",
              "    <tr>\n",
              "      <th>100834</th>\n",
              "      <td>610</td>\n",
              "      <td>168252</td>\n",
              "      <td>5.0</td>\n",
              "      <td>1493846352</td>\n",
              "    </tr>\n",
              "    <tr>\n",
              "      <th>100835</th>\n",
              "      <td>610</td>\n",
              "      <td>170875</td>\n",
              "      <td>3.0</td>\n",
              "      <td>1493846415</td>\n",
              "    </tr>\n",
              "  </tbody>\n",
              "</table>\n",
              "<p>100836 rows × 4 columns</p>\n",
              "</div>"
            ],
            "text/plain": [
              "        usuárioID  filmeID  avaliação     momento\n",
              "0               1        1        4.0   964982703\n",
              "1               1        3        4.0   964981247\n",
              "2               1        6        4.0   964982224\n",
              "3               1       47        5.0   964983815\n",
              "4               1       50        5.0   964982931\n",
              "...           ...      ...        ...         ...\n",
              "100831        610   166534        4.0  1493848402\n",
              "100832        610   168248        5.0  1493850091\n",
              "100833        610   168250        5.0  1494273047\n",
              "100834        610   168252        5.0  1493846352\n",
              "100835        610   170875        3.0  1493846415\n",
              "\n",
              "[100836 rows x 4 columns]"
            ]
          },
          "metadata": {
            "tags": []
          },
          "execution_count": 118
        }
      ]
    },
    {
      "cell_type": "markdown",
      "metadata": {
        "id": "GkFvkpjdHDJO",
        "colab_type": "text"
      },
      "source": [
        "Agora, com uma lista dos ID's dos mais votados em mãos, vamos plotar o gráfico usando o **seaborn**. "
      ]
    },
    {
      "cell_type": "code",
      "metadata": {
        "id": "GB86B7U_Hj8c",
        "colab_type": "code",
        "colab": {
          "base_uri": "https://localhost:8080/",
          "height": 1000
        },
        "outputId": "396315b3-59c1-48fd-8e3a-8516c99b1886"
      },
      "source": [
        "plt.figure(figsize=(20,16))\n",
        "ax = sns.boxplot(data=notas.query(f'filmeID in {id_mais_votados}'), x='filmeID', y='avaliação')\n",
        "ax.set_xticklabels(nome_mais_votados, fontsize=12, rotation=45, horizontalalignment='right')\n",
        "ax.set_xlabel(\"Filmes\", fontsize=18)\n",
        "ax.set_ylabel(\"Notas\", fontsize=18)\n",
        "plt.show()"
      ],
      "execution_count": 121,
      "outputs": [
        {
          "output_type": "display_data",
          "data": {
            "image/png": "[encoded data removed]",
            "text/plain": [
              "<Figure size 1440x1152 with 1 Axes>"
            ]
          },
          "metadata": {
            "tags": []
          }
        }
      ]
    },
    {
      "cell_type": "markdown",
      "metadata": {
        "id": "WBpG17RfLecg",
        "colab_type": "text"
      },
      "source": [
        "Vemos que os filmes mais votados tem umas distribuição de avaliações muito parecidas e a totalidade deles tem a mediana igual a 4 ou maior, o que significa que pelo menos 50% das notas de cada um foi alta. Podemos aventar a hipótese de que são filmes muito populares, e os filmes muito populares recebem mais avaliações que, em sua maioria, são positivas. "
      ]
    },
    {
      "cell_type": "markdown",
      "metadata": {
        "id": "Kw3ads31MMls",
        "colab_type": "text"
      },
      "source": [
        "**DESAFIO 4. Fazer uma função que calcule a moda, média e mediana dos filmes.**\\ \n",
        "Vamos criar uma função cuja parâmetro é o ID do filme, e que mostra a média, a mediana e a moda. Usaremos a função `.iloc[]` para localizar, a partir do ID do filme, na linha 0 (ou seja a única), os valores da coluna 1 (nome) e 2 (gênero). Para a média, mediana e moda usamos `.mean()`, `.median()` e `.mode()`. "
      ]
    },
    {
      "cell_type": "code",
      "metadata": {
        "id": "axX7jdf55O2P",
        "colab_type": "code",
        "colab": {
          "base_uri": "https://localhost:8080/",
          "height": 476
        },
        "outputId": "62f409c7-7f33-4c2b-fb41-4365d81fc1bf"
      },
      "source": [
        "def explorarfilmes(filmeid):\n",
        "  print(\"---\" * 10)\n",
        "  print(f'FilmeID:{filmeid}')\n",
        "  print()\n",
        "  print(f'Nome do filme: {filmes.query(f\"filmeID=={filmeid}\").iloc[0,1]}')\n",
        "  print(f'Gênero: {filmes.query(f\"filmeID=={filmeid}\").iloc[0,2]}')\n",
        "  print()\n",
        "  print(f'Média: {notas.query(f\"filmeID=={filmeid}\")[\"avaliação\"].mean():.2f}')\n",
        "  print(f'Mediana: {notas.query(f\"filmeID=={filmeid}\")[\"avaliação\"].median():.1f}') #Achar a mediana com o método median()\n",
        "  print(f'Moda: {(notas.query(f\"filmeID=={filmeid}\")[\"avaliação\"].mode().values)}')\n",
        "\n",
        "\n",
        "explorarfilmes(110)\n",
        "explorarfilmes(345)\n",
        "explorarfilmes(1234)\n",
        "\n",
        "\n"
      ],
      "execution_count": 125,
      "outputs": [
        {
          "output_type": "stream",
          "text": [
            "------------------------------\n",
            "FilmeID:110\n",
            "\n",
            "Nome do filme: Braveheart (1995)\n",
            "Gênero: Action|Drama|War\n",
            "\n",
            "Média: 4.03\n",
            "Mediana: 4.0\n",
            "Moda: [5.]\n",
            "------------------------------\n",
            "FilmeID:345\n",
            "\n",
            "Nome do filme: Adventures of Priscilla, Queen of the Desert, The (1994)\n",
            "Gênero: Comedy|Drama\n",
            "\n",
            "Média: 3.60\n",
            "Mediana: 4.0\n",
            "Moda: [4.]\n",
            "------------------------------\n",
            "FilmeID:1234\n",
            "\n",
            "Nome do filme: Sting, The (1973)\n",
            "Gênero: Comedy|Crime\n",
            "\n",
            "Média: 3.98\n",
            "Mediana: 4.0\n",
            "Moda: [4.]\n"
          ],
          "name": "stdout"
        }
      ]
    },
    {
      "cell_type": "markdown",
      "metadata": {
        "id": "ZV956vj_MnUE",
        "colab_type": "text"
      },
      "source": [
        "**DESAFIO 5. Plotar o histograma e o boxplot um do lado outro, na mesma figura.** \\\n",
        "Vamos pegar um filme qualquer, tipo Forrest Gump, e usar o método `subplots()`do **pyplot** para colocá-los lado a lado. "
      ]
    },
    {
      "cell_type": "code",
      "metadata": {
        "id": "rUDFMchIE8z8",
        "colab_type": "code",
        "colab": {
          "base_uri": "https://localhost:8080/",
          "height": 374
        },
        "outputId": "05df7214-59b0-4e54-d013-4bbffcc86ed2"
      },
      "source": [
        "#Vamos lá, primeiro pegar um filme qualquer\n",
        "forrest_gump = notas.query(\"filmeID==356\")[\"avaliação\"]\n",
        "\n",
        "f, axes = plt.subplots(1, 2, figsize=(14,6))\n",
        "\n",
        "forrest_gump.plot(kind='hist', ax=axes[0])\n",
        "forrest_gump.plot(kind='box', ax=axes[1])\n",
        "\n",
        "plt.show()\n",
        "\n"
      ],
      "execution_count": 126,
      "outputs": [
        {
          "output_type": "display_data",
          "data": {
            "image/png": "[encoded data removed]",
            "text/plain": [
              "<Figure size 1008x432 with 2 Axes>"
            ]
          },
          "metadata": {
            "tags": []
          }
        }
      ]
    },
    {
      "cell_type": "markdown",
      "metadata": {
        "id": "JCQLzZ0PMxH3",
        "colab_type": "text"
      },
      "source": [
        "**DESAFIO 6. Criar um gráfico de notas médias por ano de lançamento dos filmes**\n",
        "Podemos agora fazer um gráfico de linha, para ver a média de todos os filmes lançados por ano. Como é um série temporal, o gráfico de linhas será de grande valia. "
      ]
    },
    {
      "cell_type": "markdown",
      "metadata": {
        "id": "JoIOXwJORLcY",
        "colab_type": "text"
      },
      "source": [
        "Primeiro passo. Criar um DataFrame com a variável ano de lançamento. Para isso manipularemos a string do titulo, retirando dela o ano com o [método extract()](https://pandas.pydata.org/pandas-docs/stable/user_guide/text.html#extracting-substrings) e colocando o resultado em um variável. "
      ]
    },
    {
      "cell_type": "code",
      "metadata": {
        "id": "NaFaLQh6r0FO",
        "colab_type": "code",
        "colab": {
          "base_uri": "https://localhost:8080/",
          "height": 419
        },
        "outputId": "61a15f45-3675-4def-e1f0-6c8cc039fa4b"
      },
      "source": [
        "#Primeiro passo \n",
        "filmes_por_avaliacao_e_ano = filmes_por_avaliacao.copy()\n",
        "filmes_por_avaliacao_e_ano[\"ano\"] = filmes_por_avaliacao[\"titulo\"].str.extract(\"\\((\\d{4})\\)\")\n",
        "filmes_por_avaliacao_e_ano\n",
        "\n",
        "\n"
      ],
      "execution_count": 128,
      "outputs": [
        {
          "output_type": "execute_result",
          "data": {
            "text/html": [
              "<div>\n",
              "<style scoped>\n",
              "    .dataframe tbody tr th:only-of-type {\n",
              "        vertical-align: middle;\n",
              "    }\n",
              "\n",
              "    .dataframe tbody tr th {\n",
              "        vertical-align: top;\n",
              "    }\n",
              "\n",
              "    .dataframe thead th {\n",
              "        text-align: right;\n",
              "    }\n",
              "</style>\n",
              "<table border=\"1\" class=\"dataframe\">\n",
              "  <thead>\n",
              "    <tr style=\"text-align: right;\">\n",
              "      <th></th>\n",
              "      <th>filmeID</th>\n",
              "      <th>titulo</th>\n",
              "      <th>generos</th>\n",
              "      <th>media_notas</th>\n",
              "      <th>num_avaliações</th>\n",
              "      <th>ano</th>\n",
              "    </tr>\n",
              "  </thead>\n",
              "  <tbody>\n",
              "    <tr>\n",
              "      <th>0</th>\n",
              "      <td>1</td>\n",
              "      <td>Toy Story (1995)</td>\n",
              "      <td>Adventure|Animation|Children|Comedy|Fantasy</td>\n",
              "      <td>3.92</td>\n",
              "      <td>215.0</td>\n",
              "      <td>1995</td>\n",
              "    </tr>\n",
              "    <tr>\n",
              "      <th>1</th>\n",
              "      <td>2</td>\n",
              "      <td>Jumanji (1995)</td>\n",
              "      <td>Adventure|Children|Fantasy</td>\n",
              "      <td>3.43</td>\n",
              "      <td>110.0</td>\n",
              "      <td>1995</td>\n",
              "    </tr>\n",
              "    <tr>\n",
              "      <th>2</th>\n",
              "      <td>3</td>\n",
              "      <td>Grumpier Old Men (1995)</td>\n",
              "      <td>Comedy|Romance</td>\n",
              "      <td>3.26</td>\n",
              "      <td>52.0</td>\n",
              "      <td>1995</td>\n",
              "    </tr>\n",
              "    <tr>\n",
              "      <th>3</th>\n",
              "      <td>4</td>\n",
              "      <td>Waiting to Exhale (1995)</td>\n",
              "      <td>Comedy|Drama|Romance</td>\n",
              "      <td>2.36</td>\n",
              "      <td>7.0</td>\n",
              "      <td>1995</td>\n",
              "    </tr>\n",
              "    <tr>\n",
              "      <th>4</th>\n",
              "      <td>5</td>\n",
              "      <td>Father of the Bride Part II (1995)</td>\n",
              "      <td>Comedy</td>\n",
              "      <td>3.07</td>\n",
              "      <td>49.0</td>\n",
              "      <td>1995</td>\n",
              "    </tr>\n",
              "    <tr>\n",
              "      <th>...</th>\n",
              "      <td>...</td>\n",
              "      <td>...</td>\n",
              "      <td>...</td>\n",
              "      <td>...</td>\n",
              "      <td>...</td>\n",
              "      <td>...</td>\n",
              "    </tr>\n",
              "    <tr>\n",
              "      <th>9737</th>\n",
              "      <td>193581</td>\n",
              "      <td>Black Butler: Book of the Atlantic (2017)</td>\n",
              "      <td>Action|Animation|Comedy|Fantasy</td>\n",
              "      <td>4.00</td>\n",
              "      <td>1.0</td>\n",
              "      <td>2017</td>\n",
              "    </tr>\n",
              "    <tr>\n",
              "      <th>9738</th>\n",
              "      <td>193583</td>\n",
              "      <td>No Game No Life: Zero (2017)</td>\n",
              "      <td>Animation|Comedy|Fantasy</td>\n",
              "      <td>3.50</td>\n",
              "      <td>1.0</td>\n",
              "      <td>2017</td>\n",
              "    </tr>\n",
              "    <tr>\n",
              "      <th>9739</th>\n",
              "      <td>193585</td>\n",
              "      <td>Flint (2017)</td>\n",
              "      <td>Drama</td>\n",
              "      <td>3.50</td>\n",
              "      <td>1.0</td>\n",
              "      <td>2017</td>\n",
              "    </tr>\n",
              "    <tr>\n",
              "      <th>9740</th>\n",
              "      <td>193587</td>\n",
              "      <td>Bungo Stray Dogs: Dead Apple (2018)</td>\n",
              "      <td>Action|Animation</td>\n",
              "      <td>3.50</td>\n",
              "      <td>1.0</td>\n",
              "      <td>2018</td>\n",
              "    </tr>\n",
              "    <tr>\n",
              "      <th>9741</th>\n",
              "      <td>193609</td>\n",
              "      <td>Andrew Dice Clay: Dice Rules (1991)</td>\n",
              "      <td>Comedy</td>\n",
              "      <td>4.00</td>\n",
              "      <td>1.0</td>\n",
              "      <td>1991</td>\n",
              "    </tr>\n",
              "  </tbody>\n",
              "</table>\n",
              "<p>9742 rows × 6 columns</p>\n",
              "</div>"
            ],
            "text/plain": [
              "      filmeID                                     titulo  ... num_avaliações   ano\n",
              "0           1                           Toy Story (1995)  ...          215.0  1995\n",
              "1           2                             Jumanji (1995)  ...          110.0  1995\n",
              "2           3                    Grumpier Old Men (1995)  ...           52.0  1995\n",
              "3           4                   Waiting to Exhale (1995)  ...            7.0  1995\n",
              "4           5         Father of the Bride Part II (1995)  ...           49.0  1995\n",
              "...       ...                                        ...  ...            ...   ...\n",
              "9737   193581  Black Butler: Book of the Atlantic (2017)  ...            1.0  2017\n",
              "9738   193583               No Game No Life: Zero (2017)  ...            1.0  2017\n",
              "9739   193585                               Flint (2017)  ...            1.0  2017\n",
              "9740   193587        Bungo Stray Dogs: Dead Apple (2018)  ...            1.0  2018\n",
              "9741   193609        Andrew Dice Clay: Dice Rules (1991)  ...            1.0  1991\n",
              "\n",
              "[9742 rows x 6 columns]"
            ]
          },
          "metadata": {
            "tags": []
          },
          "execution_count": 128
        }
      ]
    },
    {
      "cell_type": "markdown",
      "metadata": {
        "id": "5YBaCx66SWqM",
        "colab_type": "text"
      },
      "source": [
        "Agora vamos fazer uma variável com a média das médias de cada ano, e depois plotar o gráfico. "
      ]
    },
    {
      "cell_type": "code",
      "metadata": {
        "id": "CvnzHz7bRhqK",
        "colab_type": "code",
        "colab": {
          "base_uri": "https://localhost:8080/",
          "height": 960
        },
        "outputId": "9baab566-c129-496e-c654-f52197382ba1"
      },
      "source": [
        "#Segundo passo\n",
        "medias_anos = filmes_por_avaliacao_e_ano.groupby(\"ano\")[\"media_notas\"].mean()\n",
        "plt.figure(figsize=(22,16))\n",
        "medias_anos.plot(fontsize=18, color='red')\n",
        "plt.title(\"Média de avaliações por ano\", fontsize=18)\n",
        "plt.show()"
      ],
      "execution_count": 132,
      "outputs": [
        {
          "output_type": "display_data",
          "data": {
            "image/png": "[encoded data removed]",
            "text/plain": [
              "<Figure size 1584x1152 with 1 Axes>"
            ]
          },
          "metadata": {
            "tags": []
          }
        }
      ]
    }
  ]
}